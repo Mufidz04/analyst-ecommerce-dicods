{
  "cells": [
    {
      "cell_type": "markdown",
      "metadata": {
        "id": "H9wADwK78DCz"
      },
      "source": [
        "# Proyek Analisis Data: E-Commerce Public Dataset\n",
        "- **Nama:** Tsaqif Mu'tashim Mufid\n",
        "- **Email:** mufidmutashim@gmail.com\n",
        "- **ID Dicoding:** mc0dex"
      ]
    },
    {
      "cell_type": "markdown",
      "metadata": {
        "id": "eE0raob58DC0"
      },
      "source": [
        "## Menentukan Pertanyaan Bisnis"
      ]
    },
    {
      "cell_type": "markdown",
      "metadata": {
        "id": "GmQeQ5YF8DC0"
      },
      "source": [
        "- Kategori roduk apa yang memiliki penjualan tertinggi dan terendah?\n",
        "- Bagaimana tren jumlah pesanan dari waktu ke waktu berdasarkan tahunan?\n",
        "- Metode pembayaran apa yang paling populer di kalangan pelanggan?\n",
        "- Kapan terakhir pelanggan melakukan transaksi?\n",
        "- Seberapa sering pelanggan melakukan banyak transaksi?\n",
        "- Berapa banyak yang biasanya dihabiskan oleh seorang pelanggan dalam satu transaksi?"
      ]
    },
    {
      "cell_type": "markdown",
      "metadata": {
        "id": "H-z4QGlO8DC1"
      },
      "source": [
        "## Import Semua Packages/Library yang Digunakan"
      ]
    },
    {
      "cell_type": "code",
      "execution_count": null,
      "metadata": {
        "id": "FVYwaObI8DC1"
      },
      "outputs": [],
      "source": [
        "import pandas as pd\n",
        "import numpy as np\n",
        "import matplotlib as plt\n",
        "import seaborn as sns\n",
        "import streamlit as st\n",
        "import datetime as dt"
      ]
    },
    {
      "cell_type": "markdown",
      "metadata": {
        "id": "h_Sh51Xy8DC1"
      },
      "source": [
        "## Data Wrangling"
      ]
    },
    {
      "cell_type": "markdown",
      "metadata": {
        "id": "sXU2GBYu8DC1"
      },
      "source": [
        "### Gathering Data"
      ]
    },
    {
      "cell_type": "code",
      "execution_count": 4,
      "metadata": {
        "id": "zjCBk1BI8DC1"
      },
      "outputs": [
        {
          "data": {
            "application/vnd.microsoft.datawrangler.viewer.v0+json": {
              "columns": [
                {
                  "name": "index",
                  "rawType": "int64",
                  "type": "integer"
                },
                {
                  "name": "customer_id",
                  "rawType": "object",
                  "type": "string"
                },
                {
                  "name": "customer_unique_id",
                  "rawType": "object",
                  "type": "string"
                },
                {
                  "name": "customer_zip_code_prefix",
                  "rawType": "int64",
                  "type": "integer"
                },
                {
                  "name": "customer_city",
                  "rawType": "object",
                  "type": "string"
                },
                {
                  "name": "customer_state",
                  "rawType": "object",
                  "type": "string"
                }
              ],
              "conversionMethod": "pd.DataFrame",
              "ref": "092b6672-7901-4e98-8e7b-c1bd9d97f968",
              "rows": [
                [
                  "0",
                  "06b8999e2fba1a1fbc88172c00ba8bc7",
                  "861eff4711a542e4b93843c6dd7febb0",
                  "14409",
                  "franca",
                  "SP"
                ],
                [
                  "1",
                  "18955e83d337fd6b2def6b18a428ac77",
                  "290c77bc529b7ac935b93aa66c333dc3",
                  "9790",
                  "sao bernardo do campo",
                  "SP"
                ],
                [
                  "2",
                  "4e7b3e00288586ebd08712fdd0374a03",
                  "060e732b5b29e8181a18229c7b0b2b5e",
                  "1151",
                  "sao paulo",
                  "SP"
                ],
                [
                  "3",
                  "b2b6027bc5c5109e529d4dc6358b12c3",
                  "259dac757896d24d7702b9acbbff3f3c",
                  "8775",
                  "mogi das cruzes",
                  "SP"
                ],
                [
                  "4",
                  "4f2d8ab171c80ec8364f7c12e35b23ad",
                  "345ecd01c38d18a9036ed96c73b8d066",
                  "13056",
                  "campinas",
                  "SP"
                ]
              ],
              "shape": {
                "columns": 5,
                "rows": 5
              }
            },
            "text/html": [
              "<div>\n",
              "<style scoped>\n",
              "    .dataframe tbody tr th:only-of-type {\n",
              "        vertical-align: middle;\n",
              "    }\n",
              "\n",
              "    .dataframe tbody tr th {\n",
              "        vertical-align: top;\n",
              "    }\n",
              "\n",
              "    .dataframe thead th {\n",
              "        text-align: right;\n",
              "    }\n",
              "</style>\n",
              "<table border=\"1\" class=\"dataframe\">\n",
              "  <thead>\n",
              "    <tr style=\"text-align: right;\">\n",
              "      <th></th>\n",
              "      <th>customer_id</th>\n",
              "      <th>customer_unique_id</th>\n",
              "      <th>customer_zip_code_prefix</th>\n",
              "      <th>customer_city</th>\n",
              "      <th>customer_state</th>\n",
              "    </tr>\n",
              "  </thead>\n",
              "  <tbody>\n",
              "    <tr>\n",
              "      <th>0</th>\n",
              "      <td>06b8999e2fba1a1fbc88172c00ba8bc7</td>\n",
              "      <td>861eff4711a542e4b93843c6dd7febb0</td>\n",
              "      <td>14409</td>\n",
              "      <td>franca</td>\n",
              "      <td>SP</td>\n",
              "    </tr>\n",
              "    <tr>\n",
              "      <th>1</th>\n",
              "      <td>18955e83d337fd6b2def6b18a428ac77</td>\n",
              "      <td>290c77bc529b7ac935b93aa66c333dc3</td>\n",
              "      <td>9790</td>\n",
              "      <td>sao bernardo do campo</td>\n",
              "      <td>SP</td>\n",
              "    </tr>\n",
              "    <tr>\n",
              "      <th>2</th>\n",
              "      <td>4e7b3e00288586ebd08712fdd0374a03</td>\n",
              "      <td>060e732b5b29e8181a18229c7b0b2b5e</td>\n",
              "      <td>1151</td>\n",
              "      <td>sao paulo</td>\n",
              "      <td>SP</td>\n",
              "    </tr>\n",
              "    <tr>\n",
              "      <th>3</th>\n",
              "      <td>b2b6027bc5c5109e529d4dc6358b12c3</td>\n",
              "      <td>259dac757896d24d7702b9acbbff3f3c</td>\n",
              "      <td>8775</td>\n",
              "      <td>mogi das cruzes</td>\n",
              "      <td>SP</td>\n",
              "    </tr>\n",
              "    <tr>\n",
              "      <th>4</th>\n",
              "      <td>4f2d8ab171c80ec8364f7c12e35b23ad</td>\n",
              "      <td>345ecd01c38d18a9036ed96c73b8d066</td>\n",
              "      <td>13056</td>\n",
              "      <td>campinas</td>\n",
              "      <td>SP</td>\n",
              "    </tr>\n",
              "  </tbody>\n",
              "</table>\n",
              "</div>"
            ],
            "text/plain": [
              "                        customer_id                customer_unique_id  \\\n",
              "0  06b8999e2fba1a1fbc88172c00ba8bc7  861eff4711a542e4b93843c6dd7febb0   \n",
              "1  18955e83d337fd6b2def6b18a428ac77  290c77bc529b7ac935b93aa66c333dc3   \n",
              "2  4e7b3e00288586ebd08712fdd0374a03  060e732b5b29e8181a18229c7b0b2b5e   \n",
              "3  b2b6027bc5c5109e529d4dc6358b12c3  259dac757896d24d7702b9acbbff3f3c   \n",
              "4  4f2d8ab171c80ec8364f7c12e35b23ad  345ecd01c38d18a9036ed96c73b8d066   \n",
              "\n",
              "   customer_zip_code_prefix          customer_city customer_state  \n",
              "0                     14409                 franca             SP  \n",
              "1                      9790  sao bernardo do campo             SP  \n",
              "2                      1151              sao paulo             SP  \n",
              "3                      8775        mogi das cruzes             SP  \n",
              "4                     13056               campinas             SP  "
            ]
          },
          "execution_count": 4,
          "metadata": {},
          "output_type": "execute_result"
        }
      ],
      "source": [
        "# Data customer\n",
        "customers_df = pd.read_csv(\"data/customers_dataset.csv\")\n",
        "customers_df.head()"
      ]
    },
    {
      "cell_type": "markdown",
      "metadata": {
        "id": "MMi6xGaDkbCi"
      },
      "source": [
        "**Insight Data Costumers:**\n",
        "- Dari data yang didapatkan terdapat 5 kolom yaitu `customer_id`, `customer_unique_id`, `customer_zip_code_prefix`, `customer_city`, `customer_state`.\n",
        "- Data consumer ini menjadi dasar acuan untuk nantinya yang akan dijadikan dalam penyatuan dalam menjawab pertanyaan bisnis yang sudah di definisikan sebelumnya."
      ]
    },
    {
      "cell_type": "code",
      "execution_count": 5,
      "metadata": {},
      "outputs": [
        {
          "data": {
            "application/vnd.microsoft.datawrangler.viewer.v0+json": {
              "columns": [
                {
                  "name": "index",
                  "rawType": "int64",
                  "type": "integer"
                },
                {
                  "name": "order_id",
                  "rawType": "object",
                  "type": "string"
                },
                {
                  "name": "customer_id",
                  "rawType": "object",
                  "type": "string"
                },
                {
                  "name": "order_status",
                  "rawType": "object",
                  "type": "string"
                },
                {
                  "name": "order_purchase_timestamp",
                  "rawType": "object",
                  "type": "string"
                },
                {
                  "name": "order_approved_at",
                  "rawType": "object",
                  "type": "unknown"
                },
                {
                  "name": "order_delivered_carrier_date",
                  "rawType": "object",
                  "type": "unknown"
                },
                {
                  "name": "order_delivered_customer_date",
                  "rawType": "object",
                  "type": "unknown"
                },
                {
                  "name": "order_estimated_delivery_date",
                  "rawType": "object",
                  "type": "string"
                }
              ],
              "conversionMethod": "pd.DataFrame",
              "ref": "ef45db41-1363-4242-92c7-7c7dc7927661",
              "rows": [
                [
                  "0",
                  "e481f51cbdc54678b7cc49136f2d6af7",
                  "9ef432eb6251297304e76186b10a928d",
                  "delivered",
                  "2017-10-02 10:56:33",
                  "2017-10-02 11:07:15",
                  "2017-10-04 19:55:00",
                  "2017-10-10 21:25:13",
                  "2017-10-18 00:00:00"
                ],
                [
                  "1",
                  "53cdb2fc8bc7dce0b6741e2150273451",
                  "b0830fb4747a6c6d20dea0b8c802d7ef",
                  "delivered",
                  "2018-07-24 20:41:37",
                  "2018-07-26 03:24:27",
                  "2018-07-26 14:31:00",
                  "2018-08-07 15:27:45",
                  "2018-08-13 00:00:00"
                ],
                [
                  "2",
                  "47770eb9100c2d0c44946d9cf07ec65d",
                  "41ce2a54c0b03bf3443c3d931a367089",
                  "delivered",
                  "2018-08-08 08:38:49",
                  "2018-08-08 08:55:23",
                  "2018-08-08 13:50:00",
                  "2018-08-17 18:06:29",
                  "2018-09-04 00:00:00"
                ],
                [
                  "3",
                  "949d5b44dbf5de918fe9c16f97b45f8a",
                  "f88197465ea7920adcdbec7375364d82",
                  "delivered",
                  "2017-11-18 19:28:06",
                  "2017-11-18 19:45:59",
                  "2017-11-22 13:39:59",
                  "2017-12-02 00:28:42",
                  "2017-12-15 00:00:00"
                ],
                [
                  "4",
                  "ad21c59c0840e6cb83a9ceb5573f8159",
                  "8ab97904e6daea8866dbdbc4fb7aad2c",
                  "delivered",
                  "2018-02-13 21:18:39",
                  "2018-02-13 22:20:29",
                  "2018-02-14 19:46:34",
                  "2018-02-16 18:17:02",
                  "2018-02-26 00:00:00"
                ],
                [
                  "5",
                  "a4591c265e18cb1dcee52889e2d8acc3",
                  "503740e9ca751ccdda7ba28e9ab8f608",
                  "delivered",
                  "2017-07-09 21:57:05",
                  "2017-07-09 22:10:13",
                  "2017-07-11 14:58:04",
                  "2017-07-26 10:57:55",
                  "2017-08-01 00:00:00"
                ],
                [
                  "6",
                  "136cce7faa42fdb2cefd53fdc79a6098",
                  "ed0271e0b7da060a393796590e7b737a",
                  "invoiced",
                  "2017-04-11 12:22:08",
                  "2017-04-13 13:25:17",
                  null,
                  null,
                  "2017-05-09 00:00:00"
                ],
                [
                  "7",
                  "6514b8ad8028c9f2cc2374ded245783f",
                  "9bdf08b4b3b52b5526ff42d37d47f222",
                  "delivered",
                  "2017-05-16 13:10:30",
                  "2017-05-16 13:22:11",
                  "2017-05-22 10:07:46",
                  "2017-05-26 12:55:51",
                  "2017-06-07 00:00:00"
                ],
                [
                  "8",
                  "76c6e866289321a7c93b82b54852dc33",
                  "f54a9f0e6b351c431402b8461ea51999",
                  "delivered",
                  "2017-01-23 18:29:09",
                  "2017-01-25 02:50:47",
                  "2017-01-26 14:16:31",
                  "2017-02-02 14:08:10",
                  "2017-03-06 00:00:00"
                ],
                [
                  "9",
                  "e69bfb5eb88e0ed6a785585b27e16dbf",
                  "31ad1d1b63eb9962463f764d4e6e0c9d",
                  "delivered",
                  "2017-07-29 11:55:02",
                  "2017-07-29 12:05:32",
                  "2017-08-10 19:45:24",
                  "2017-08-16 17:14:30",
                  "2017-08-23 00:00:00"
                ],
                [
                  "10",
                  "e6ce16cb79ec1d90b1da9085a6118aeb",
                  "494dded5b201313c64ed7f100595b95c",
                  "delivered",
                  "2017-05-16 19:41:10",
                  "2017-05-16 19:50:18",
                  "2017-05-18 11:40:40",
                  "2017-05-29 11:18:31",
                  "2017-06-07 00:00:00"
                ],
                [
                  "11",
                  "34513ce0c4fab462a55830c0989c7edb",
                  "7711cf624183d843aafe81855097bc37",
                  "delivered",
                  "2017-07-13 19:58:11",
                  "2017-07-13 20:10:08",
                  "2017-07-14 18:43:29",
                  "2017-07-19 14:04:48",
                  "2017-08-08 00:00:00"
                ],
                [
                  "12",
                  "82566a660a982b15fb86e904c8d32918",
                  "d3e3b74c766bc6214e0c830b17ee2341",
                  "delivered",
                  "2018-06-07 10:06:19",
                  "2018-06-09 03:13:12",
                  "2018-06-11 13:29:00",
                  "2018-06-19 12:05:52",
                  "2018-07-18 00:00:00"
                ],
                [
                  "13",
                  "5ff96c15d0b717ac6ad1f3d77225a350",
                  "19402a48fe860416adf93348aba37740",
                  "delivered",
                  "2018-07-25 17:44:10",
                  "2018-07-25 17:55:14",
                  "2018-07-26 13:16:00",
                  "2018-07-30 15:52:25",
                  "2018-08-08 00:00:00"
                ],
                [
                  "14",
                  "432aaf21d85167c2c86ec9448c4e42cc",
                  "3df704f53d3f1d4818840b34ec672a9f",
                  "delivered",
                  "2018-03-01 14:14:28",
                  "2018-03-01 15:10:47",
                  "2018-03-02 21:09:20",
                  "2018-03-12 23:36:26",
                  "2018-03-21 00:00:00"
                ],
                [
                  "15",
                  "dcb36b511fcac050b97cd5c05de84dc3",
                  "3b6828a50ffe546942b7a473d70ac0fc",
                  "delivered",
                  "2018-06-07 19:03:12",
                  "2018-06-12 23:31:02",
                  "2018-06-11 14:54:00",
                  "2018-06-21 15:34:32",
                  "2018-07-04 00:00:00"
                ],
                [
                  "16",
                  "403b97836b0c04a622354cf531062e5f",
                  "738b086814c6fcc74b8cc583f8516ee3",
                  "delivered",
                  "2018-01-02 19:00:43",
                  "2018-01-02 19:09:04",
                  "2018-01-03 18:19:09",
                  "2018-01-20 01:38:59",
                  "2018-02-06 00:00:00"
                ],
                [
                  "17",
                  "116f0b09343b49556bbad5f35bee0cdf",
                  "3187789bec990987628d7a9beb4dd6ac",
                  "delivered",
                  "2017-12-26 23:41:31",
                  "2017-12-26 23:50:22",
                  "2017-12-28 18:33:05",
                  "2018-01-08 22:36:36",
                  "2018-01-29 00:00:00"
                ],
                [
                  "18",
                  "85ce859fd6dc634de8d2f1e290444043",
                  "059f7fc5719c7da6cbafe370971a8d70",
                  "delivered",
                  "2017-11-21 00:03:41",
                  "2017-11-21 00:14:22",
                  "2017-11-23 21:32:26",
                  "2017-11-27 18:28:00",
                  "2017-12-11 00:00:00"
                ],
                [
                  "19",
                  "83018ec114eee8641c97e08f7b4e926f",
                  "7f8c8b9c2ae27bf3300f670c3d478be8",
                  "delivered",
                  "2017-10-26 15:54:26",
                  "2017-10-26 16:08:14",
                  "2017-10-26 21:46:53",
                  "2017-11-08 22:22:00",
                  "2017-11-23 00:00:00"
                ],
                [
                  "20",
                  "203096f03d82e0dffbc41ebc2e2bcfb7",
                  "d2b091571da224a1b36412c18bc3bbfe",
                  "delivered",
                  "2017-09-18 14:31:30",
                  "2017-09-19 04:04:09",
                  "2017-10-06 17:50:03",
                  "2017-10-09 22:23:46",
                  "2017-09-28 00:00:00"
                ],
                [
                  "21",
                  "f848643eec1d69395095eb3840d2051e",
                  "4fa1cd166fa598be6de80fa84eaade43",
                  "delivered",
                  "2018-03-15 08:52:40",
                  "2018-03-15 09:09:31",
                  "2018-03-15 19:52:48",
                  "2018-03-19 18:08:32",
                  "2018-03-29 00:00:00"
                ],
                [
                  "22",
                  "2807d0e504d6d4894d41672727bc139f",
                  "72ae281627a6102d9b3718528b420f8a",
                  "delivered",
                  "2018-02-03 20:37:35",
                  "2018-02-03 20:50:22",
                  "2018-02-05 22:37:28",
                  "2018-02-08 16:13:46",
                  "2018-02-21 00:00:00"
                ],
                [
                  "23",
                  "95266dbfb7e20354baba07964dac78d5",
                  "a166da34890074091a942054b36e4265",
                  "delivered",
                  "2018-01-08 07:55:29",
                  "2018-01-08 08:07:31",
                  "2018-01-24 23:16:37",
                  "2018-01-26 17:32:38",
                  "2018-02-21 00:00:00"
                ],
                [
                  "24",
                  "f3e7c359154d965827355f39d6b1fdac",
                  "62b423aab58096ca514ba6aa06be2f98",
                  "delivered",
                  "2018-08-09 11:44:40",
                  "2018-08-10 03:24:51",
                  "2018-08-10 12:29:00",
                  "2018-08-13 18:24:27",
                  "2018-08-17 00:00:00"
                ],
                [
                  "25",
                  "fbf9ac61453ac646ce8ad9783d7d0af6",
                  "3a874b4d4c4b6543206ff5d89287f0c3",
                  "delivered",
                  "2018-02-20 23:46:53",
                  "2018-02-22 02:30:46",
                  "2018-02-26 22:25:22",
                  "2018-03-21 22:03:54",
                  "2018-03-12 00:00:00"
                ],
                [
                  "26",
                  "acce194856392f074dbf9dada14d8d82",
                  "7e20bf5ca92da68200643bda76c504c6",
                  "delivered",
                  "2018-06-04 00:00:13",
                  "2018-06-05 00:35:10",
                  "2018-06-05 13:24:00",
                  "2018-06-16 15:20:55",
                  "2018-07-18 00:00:00"
                ],
                [
                  "27",
                  "dd78f560c270f1909639c11b925620ea",
                  "8b212b9525f9e74e85e37ed6df37693e",
                  "delivered",
                  "2018-03-12 01:50:26",
                  "2018-03-12 03:28:34",
                  "2018-03-12 21:06:37",
                  "2018-03-21 14:41:50",
                  "2018-03-28 00:00:00"
                ],
                [
                  "28",
                  "91b2a010e1e45e6ba3d133fa997597be",
                  "cce89a605105b148387c52e286ac8335",
                  "delivered",
                  "2018-05-02 11:45:38",
                  "2018-05-03 12:55:01",
                  "2018-05-10 16:16:00",
                  "2018-05-16 20:56:24",
                  "2018-05-23 00:00:00"
                ],
                [
                  "29",
                  "ecab90c9933c58908d3d6add7c6f5ae3",
                  "761df82feda9778854c6dafdaeb567e4",
                  "delivered",
                  "2018-02-25 13:50:30",
                  "2018-02-25 14:47:35",
                  "2018-02-26 22:28:50",
                  "2018-03-27 23:29:14",
                  "2018-04-13 00:00:00"
                ],
                [
                  "30",
                  "f70a0aff17df5a6cdd9a7196128bd354",
                  "456dc10730fbdba34615447ea195d643",
                  "delivered",
                  "2017-08-10 11:58:33",
                  "2017-08-12 02:45:24",
                  "2017-08-17 15:35:07",
                  "2017-08-18 14:28:02",
                  "2017-08-23 00:00:00"
                ],
                [
                  "31",
                  "1790eea0b567cf50911c057cf20f90f9",
                  "52142aa69d8d0e1247ab0cada0f76023",
                  "delivered",
                  "2018-04-16 21:15:39",
                  "2018-04-16 22:10:26",
                  "2018-04-18 13:05:09",
                  "2018-05-05 12:28:34",
                  "2018-05-15 00:00:00"
                ],
                [
                  "32",
                  "989225ba6d0ebd5873335f7e01de2ae7",
                  "816f8653d5361cbf94e58c33f2502a5c",
                  "delivered",
                  "2017-12-12 13:56:04",
                  "2017-12-14 13:54:13",
                  "2017-12-16 00:18:57",
                  "2018-01-03 18:03:36",
                  "2018-01-08 00:00:00"
                ],
                [
                  "33",
                  "d887b52c6516beb39e8cd44a5f8b60f7",
                  "d9ef95f98d8da3b492bb8c0447910498",
                  "delivered",
                  "2018-02-03 12:38:58",
                  "2018-02-03 12:50:30",
                  "2018-02-05 21:26:53",
                  "2018-02-22 00:07:55",
                  "2018-03-07 00:00:00"
                ],
                [
                  "34",
                  "b276e4f8c0fb86bd82fce576f21713e0",
                  "cf8ffeddf027932e51e4eae73b384059",
                  "delivered",
                  "2018-07-29 23:34:51",
                  "2018-07-29 23:45:15",
                  "2018-07-30 14:43:00",
                  "2018-07-31 22:48:50",
                  "2018-08-06 00:00:00"
                ],
                [
                  "35",
                  "8563039e855156e48fccee4d611a3196",
                  "5f16605299d698660e0606f7eae2d2f9",
                  "delivered",
                  "2018-02-17 15:59:46",
                  "2018-02-17 16:15:34",
                  "2018-02-20 23:03:56",
                  "2018-03-20 00:59:25",
                  "2018-03-20 00:00:00"
                ],
                [
                  "36",
                  "60550084e6b4c0cb89a87df1f3e5ebd9",
                  "f5458ddc3545711efa883dd7ae7c4497",
                  "delivered",
                  "2018-02-21 18:15:12",
                  "2018-02-23 02:10:52",
                  "2018-02-27 18:52:09",
                  "2018-03-13 23:58:43",
                  "2018-03-29 00:00:00"
                ],
                [
                  "37",
                  "5acce57f8d9dfd55fa48e212a641a69d",
                  "295ae9b35379e077273387ff64354b6f",
                  "delivered",
                  "2017-07-31 21:37:10",
                  "2017-08-02 02:56:02",
                  "2017-08-03 18:32:48",
                  "2017-08-08 21:24:41",
                  "2017-08-22 00:00:00"
                ],
                [
                  "38",
                  "434d158e96bdd6972ad6e6d73ddcfd22",
                  "2a1dfb647f32f4390e7b857c67458536",
                  "delivered",
                  "2018-06-01 12:23:13",
                  "2018-06-05 03:35:15",
                  "2018-06-08 11:49:00",
                  "2018-06-18 21:32:52",
                  "2018-07-17 00:00:00"
                ],
                [
                  "39",
                  "7206b86ea789983f7a273ea7fa0bc2a8",
                  "3391c4bc11a817e7973e498b0b023158",
                  "delivered",
                  "2018-03-26 17:12:18",
                  "2018-03-26 17:28:27",
                  "2018-03-28 17:22:53",
                  "2018-04-05 22:11:18",
                  "2018-04-12 00:00:00"
                ],
                [
                  "40",
                  "1e7aff52cdbb2451ace09d0f848c3699",
                  "ddaff536587109b89777e0353215e150",
                  "delivered",
                  "2017-05-19 18:53:40",
                  "2017-05-19 19:05:17",
                  "2017-05-22 10:16:07",
                  "2017-05-31 13:58:46",
                  "2017-06-12 00:00:00"
                ],
                [
                  "41",
                  "6ea2f835b4556291ffdc53fa0b3b95e8",
                  "c7340080e394356141681bd4c9b8fe31",
                  "delivered",
                  "2017-11-24 21:27:48",
                  "2017-11-25 00:21:09",
                  "2017-12-13 21:14:05",
                  "2017-12-28 18:59:23",
                  "2017-12-21 00:00:00"
                ],
                [
                  "42",
                  "948097deef559c742e7ce321e5e58919",
                  "8644be24d48806bc3a88fd59fb47ceb1",
                  "delivered",
                  "2017-08-04 17:10:39",
                  "2017-08-04 17:25:11",
                  "2017-08-07 17:52:01",
                  "2017-08-12 14:08:40",
                  "2017-09-01 00:00:00"
                ],
                [
                  "43",
                  "d22e9fa5731b9e30e8b27afcdc2f8563",
                  "756fb9391752dad934e0fe3733378e57",
                  "delivered",
                  "2018-08-04 23:25:30",
                  "2018-08-04 23:35:13",
                  "2018-08-06 15:03:00",
                  "2018-08-13 23:34:42",
                  "2018-09-13 00:00:00"
                ],
                [
                  "44",
                  "ee64d42b8cf066f35eac1cf57de1aa85",
                  "caded193e8e47b8362864762a83db3c5",
                  "shipped",
                  "2018-06-04 16:44:48",
                  "2018-06-05 04:31:18",
                  "2018-06-05 14:32:00",
                  null,
                  "2018-06-28 00:00:00"
                ],
                [
                  "45",
                  "6ebaec694d7025e2ad4a05dba887c032",
                  "4f28355e5c17a4a42d3ce2439a1d4501",
                  "delivered",
                  "2017-05-18 13:55:47",
                  "2017-05-18 14:05:17",
                  "2017-05-19 12:01:38",
                  "2017-05-29 12:47:20",
                  "2017-06-09 00:00:00"
                ],
                [
                  "46",
                  "d17dc4a904426827ca80f2ccb3a6be56",
                  "569cf68214806a39acc0f39344aea67f",
                  "delivered",
                  "2017-05-14 20:28:25",
                  "2017-05-14 20:42:45",
                  "2017-05-16 08:17:46",
                  "2017-05-25 09:14:31",
                  "2017-06-12 00:00:00"
                ],
                [
                  "47",
                  "25f4376934e13d3508486352e11a5db0",
                  "12fd2740039676063a874b9567dfa651",
                  "delivered",
                  "2018-05-17 16:59:11",
                  "2018-05-18 01:17:39",
                  "2018-05-18 13:02:00",
                  "2018-05-21 15:22:11",
                  "2018-05-25 00:00:00"
                ],
                [
                  "48",
                  "5820a1100976432c7968a52da59e9364",
                  "2b56e94c2f66f2d97cfa63356f69cee8",
                  "delivered",
                  "2018-07-29 11:24:17",
                  "2018-07-29 11:44:19",
                  "2018-07-30 13:47:00",
                  "2018-08-02 22:09:11",
                  "2018-08-13 00:00:00"
                ],
                [
                  "49",
                  "2ce1ad82022c1ba30c2079502ac725aa",
                  "7f2178c5d771e17f507d3c1637339298",
                  "delivered",
                  "2017-08-09 20:19:05",
                  "2017-08-11 04:15:29",
                  "2017-08-11 17:52:32",
                  "2017-08-16 17:16:44",
                  "2017-08-31 00:00:00"
                ]
              ],
              "shape": {
                "columns": 8,
                "rows": 99441
              }
            },
            "text/html": [
              "<div>\n",
              "<style scoped>\n",
              "    .dataframe tbody tr th:only-of-type {\n",
              "        vertical-align: middle;\n",
              "    }\n",
              "\n",
              "    .dataframe tbody tr th {\n",
              "        vertical-align: top;\n",
              "    }\n",
              "\n",
              "    .dataframe thead th {\n",
              "        text-align: right;\n",
              "    }\n",
              "</style>\n",
              "<table border=\"1\" class=\"dataframe\">\n",
              "  <thead>\n",
              "    <tr style=\"text-align: right;\">\n",
              "      <th></th>\n",
              "      <th>order_id</th>\n",
              "      <th>customer_id</th>\n",
              "      <th>order_status</th>\n",
              "      <th>order_purchase_timestamp</th>\n",
              "      <th>order_approved_at</th>\n",
              "      <th>order_delivered_carrier_date</th>\n",
              "      <th>order_delivered_customer_date</th>\n",
              "      <th>order_estimated_delivery_date</th>\n",
              "    </tr>\n",
              "  </thead>\n",
              "  <tbody>\n",
              "    <tr>\n",
              "      <th>0</th>\n",
              "      <td>e481f51cbdc54678b7cc49136f2d6af7</td>\n",
              "      <td>9ef432eb6251297304e76186b10a928d</td>\n",
              "      <td>delivered</td>\n",
              "      <td>2017-10-02 10:56:33</td>\n",
              "      <td>2017-10-02 11:07:15</td>\n",
              "      <td>2017-10-04 19:55:00</td>\n",
              "      <td>2017-10-10 21:25:13</td>\n",
              "      <td>2017-10-18 00:00:00</td>\n",
              "    </tr>\n",
              "    <tr>\n",
              "      <th>1</th>\n",
              "      <td>53cdb2fc8bc7dce0b6741e2150273451</td>\n",
              "      <td>b0830fb4747a6c6d20dea0b8c802d7ef</td>\n",
              "      <td>delivered</td>\n",
              "      <td>2018-07-24 20:41:37</td>\n",
              "      <td>2018-07-26 03:24:27</td>\n",
              "      <td>2018-07-26 14:31:00</td>\n",
              "      <td>2018-08-07 15:27:45</td>\n",
              "      <td>2018-08-13 00:00:00</td>\n",
              "    </tr>\n",
              "    <tr>\n",
              "      <th>2</th>\n",
              "      <td>47770eb9100c2d0c44946d9cf07ec65d</td>\n",
              "      <td>41ce2a54c0b03bf3443c3d931a367089</td>\n",
              "      <td>delivered</td>\n",
              "      <td>2018-08-08 08:38:49</td>\n",
              "      <td>2018-08-08 08:55:23</td>\n",
              "      <td>2018-08-08 13:50:00</td>\n",
              "      <td>2018-08-17 18:06:29</td>\n",
              "      <td>2018-09-04 00:00:00</td>\n",
              "    </tr>\n",
              "    <tr>\n",
              "      <th>3</th>\n",
              "      <td>949d5b44dbf5de918fe9c16f97b45f8a</td>\n",
              "      <td>f88197465ea7920adcdbec7375364d82</td>\n",
              "      <td>delivered</td>\n",
              "      <td>2017-11-18 19:28:06</td>\n",
              "      <td>2017-11-18 19:45:59</td>\n",
              "      <td>2017-11-22 13:39:59</td>\n",
              "      <td>2017-12-02 00:28:42</td>\n",
              "      <td>2017-12-15 00:00:00</td>\n",
              "    </tr>\n",
              "    <tr>\n",
              "      <th>4</th>\n",
              "      <td>ad21c59c0840e6cb83a9ceb5573f8159</td>\n",
              "      <td>8ab97904e6daea8866dbdbc4fb7aad2c</td>\n",
              "      <td>delivered</td>\n",
              "      <td>2018-02-13 21:18:39</td>\n",
              "      <td>2018-02-13 22:20:29</td>\n",
              "      <td>2018-02-14 19:46:34</td>\n",
              "      <td>2018-02-16 18:17:02</td>\n",
              "      <td>2018-02-26 00:00:00</td>\n",
              "    </tr>\n",
              "    <tr>\n",
              "      <th>...</th>\n",
              "      <td>...</td>\n",
              "      <td>...</td>\n",
              "      <td>...</td>\n",
              "      <td>...</td>\n",
              "      <td>...</td>\n",
              "      <td>...</td>\n",
              "      <td>...</td>\n",
              "      <td>...</td>\n",
              "    </tr>\n",
              "    <tr>\n",
              "      <th>99436</th>\n",
              "      <td>9c5dedf39a927c1b2549525ed64a053c</td>\n",
              "      <td>39bd1228ee8140590ac3aca26f2dfe00</td>\n",
              "      <td>delivered</td>\n",
              "      <td>2017-03-09 09:54:05</td>\n",
              "      <td>2017-03-09 09:54:05</td>\n",
              "      <td>2017-03-10 11:18:03</td>\n",
              "      <td>2017-03-17 15:08:01</td>\n",
              "      <td>2017-03-28 00:00:00</td>\n",
              "    </tr>\n",
              "    <tr>\n",
              "      <th>99437</th>\n",
              "      <td>63943bddc261676b46f01ca7ac2f7bd8</td>\n",
              "      <td>1fca14ff2861355f6e5f14306ff977a7</td>\n",
              "      <td>delivered</td>\n",
              "      <td>2018-02-06 12:58:58</td>\n",
              "      <td>2018-02-06 13:10:37</td>\n",
              "      <td>2018-02-07 23:22:42</td>\n",
              "      <td>2018-02-28 17:37:56</td>\n",
              "      <td>2018-03-02 00:00:00</td>\n",
              "    </tr>\n",
              "    <tr>\n",
              "      <th>99438</th>\n",
              "      <td>83c1379a015df1e13d02aae0204711ab</td>\n",
              "      <td>1aa71eb042121263aafbe80c1b562c9c</td>\n",
              "      <td>delivered</td>\n",
              "      <td>2017-08-27 14:46:43</td>\n",
              "      <td>2017-08-27 15:04:16</td>\n",
              "      <td>2017-08-28 20:52:26</td>\n",
              "      <td>2017-09-21 11:24:17</td>\n",
              "      <td>2017-09-27 00:00:00</td>\n",
              "    </tr>\n",
              "    <tr>\n",
              "      <th>99439</th>\n",
              "      <td>11c177c8e97725db2631073c19f07b62</td>\n",
              "      <td>b331b74b18dc79bcdf6532d51e1637c1</td>\n",
              "      <td>delivered</td>\n",
              "      <td>2018-01-08 21:28:27</td>\n",
              "      <td>2018-01-08 21:36:21</td>\n",
              "      <td>2018-01-12 15:35:03</td>\n",
              "      <td>2018-01-25 23:32:54</td>\n",
              "      <td>2018-02-15 00:00:00</td>\n",
              "    </tr>\n",
              "    <tr>\n",
              "      <th>99440</th>\n",
              "      <td>66dea50a8b16d9b4dee7af250b4be1a5</td>\n",
              "      <td>edb027a75a1449115f6b43211ae02a24</td>\n",
              "      <td>delivered</td>\n",
              "      <td>2018-03-08 20:57:30</td>\n",
              "      <td>2018-03-09 11:20:28</td>\n",
              "      <td>2018-03-09 22:11:59</td>\n",
              "      <td>2018-03-16 13:08:30</td>\n",
              "      <td>2018-04-03 00:00:00</td>\n",
              "    </tr>\n",
              "  </tbody>\n",
              "</table>\n",
              "<p>99441 rows × 8 columns</p>\n",
              "</div>"
            ],
            "text/plain": [
              "                               order_id                       customer_id  \\\n",
              "0      e481f51cbdc54678b7cc49136f2d6af7  9ef432eb6251297304e76186b10a928d   \n",
              "1      53cdb2fc8bc7dce0b6741e2150273451  b0830fb4747a6c6d20dea0b8c802d7ef   \n",
              "2      47770eb9100c2d0c44946d9cf07ec65d  41ce2a54c0b03bf3443c3d931a367089   \n",
              "3      949d5b44dbf5de918fe9c16f97b45f8a  f88197465ea7920adcdbec7375364d82   \n",
              "4      ad21c59c0840e6cb83a9ceb5573f8159  8ab97904e6daea8866dbdbc4fb7aad2c   \n",
              "...                                 ...                               ...   \n",
              "99436  9c5dedf39a927c1b2549525ed64a053c  39bd1228ee8140590ac3aca26f2dfe00   \n",
              "99437  63943bddc261676b46f01ca7ac2f7bd8  1fca14ff2861355f6e5f14306ff977a7   \n",
              "99438  83c1379a015df1e13d02aae0204711ab  1aa71eb042121263aafbe80c1b562c9c   \n",
              "99439  11c177c8e97725db2631073c19f07b62  b331b74b18dc79bcdf6532d51e1637c1   \n",
              "99440  66dea50a8b16d9b4dee7af250b4be1a5  edb027a75a1449115f6b43211ae02a24   \n",
              "\n",
              "      order_status order_purchase_timestamp    order_approved_at  \\\n",
              "0        delivered      2017-10-02 10:56:33  2017-10-02 11:07:15   \n",
              "1        delivered      2018-07-24 20:41:37  2018-07-26 03:24:27   \n",
              "2        delivered      2018-08-08 08:38:49  2018-08-08 08:55:23   \n",
              "3        delivered      2017-11-18 19:28:06  2017-11-18 19:45:59   \n",
              "4        delivered      2018-02-13 21:18:39  2018-02-13 22:20:29   \n",
              "...            ...                      ...                  ...   \n",
              "99436    delivered      2017-03-09 09:54:05  2017-03-09 09:54:05   \n",
              "99437    delivered      2018-02-06 12:58:58  2018-02-06 13:10:37   \n",
              "99438    delivered      2017-08-27 14:46:43  2017-08-27 15:04:16   \n",
              "99439    delivered      2018-01-08 21:28:27  2018-01-08 21:36:21   \n",
              "99440    delivered      2018-03-08 20:57:30  2018-03-09 11:20:28   \n",
              "\n",
              "      order_delivered_carrier_date order_delivered_customer_date  \\\n",
              "0              2017-10-04 19:55:00           2017-10-10 21:25:13   \n",
              "1              2018-07-26 14:31:00           2018-08-07 15:27:45   \n",
              "2              2018-08-08 13:50:00           2018-08-17 18:06:29   \n",
              "3              2017-11-22 13:39:59           2017-12-02 00:28:42   \n",
              "4              2018-02-14 19:46:34           2018-02-16 18:17:02   \n",
              "...                            ...                           ...   \n",
              "99436          2017-03-10 11:18:03           2017-03-17 15:08:01   \n",
              "99437          2018-02-07 23:22:42           2018-02-28 17:37:56   \n",
              "99438          2017-08-28 20:52:26           2017-09-21 11:24:17   \n",
              "99439          2018-01-12 15:35:03           2018-01-25 23:32:54   \n",
              "99440          2018-03-09 22:11:59           2018-03-16 13:08:30   \n",
              "\n",
              "      order_estimated_delivery_date  \n",
              "0               2017-10-18 00:00:00  \n",
              "1               2018-08-13 00:00:00  \n",
              "2               2018-09-04 00:00:00  \n",
              "3               2017-12-15 00:00:00  \n",
              "4               2018-02-26 00:00:00  \n",
              "...                             ...  \n",
              "99436           2017-03-28 00:00:00  \n",
              "99437           2018-03-02 00:00:00  \n",
              "99438           2017-09-27 00:00:00  \n",
              "99439           2018-02-15 00:00:00  \n",
              "99440           2018-04-03 00:00:00  \n",
              "\n",
              "[99441 rows x 8 columns]"
            ]
          },
          "execution_count": 5,
          "metadata": {},
          "output_type": "execute_result"
        }
      ],
      "source": [
        "# Data orders\n",
        "orders_df = pd.read_csv(\"data/orders_dataset.csv\")\n",
        "orders_df"
      ]
    },
    {
      "cell_type": "markdown",
      "metadata": {},
      "source": [
        "**Insight Data Orders:**\n",
        "- Karena ada table `customer_id` yang saling berkaitan antara data Customers terhadap Orders khususnya `order_id`.\n",
        "- Data ini juga merupakan data pendukung untuk menjawab kebutuhan pertanyaan bisnis."
      ]
    },
    {
      "cell_type": "code",
      "execution_count": 6,
      "metadata": {},
      "outputs": [
        {
          "data": {
            "application/vnd.microsoft.datawrangler.viewer.v0+json": {
              "columns": [
                {
                  "name": "index",
                  "rawType": "int64",
                  "type": "integer"
                },
                {
                  "name": "order_id",
                  "rawType": "object",
                  "type": "string"
                },
                {
                  "name": "order_item_id",
                  "rawType": "int64",
                  "type": "integer"
                },
                {
                  "name": "product_id",
                  "rawType": "object",
                  "type": "string"
                },
                {
                  "name": "seller_id",
                  "rawType": "object",
                  "type": "string"
                },
                {
                  "name": "shipping_limit_date",
                  "rawType": "object",
                  "type": "string"
                },
                {
                  "name": "price",
                  "rawType": "float64",
                  "type": "float"
                },
                {
                  "name": "freight_value",
                  "rawType": "float64",
                  "type": "float"
                }
              ],
              "conversionMethod": "pd.DataFrame",
              "ref": "914fe144-16a1-4479-aaac-30ea1e3dff7c",
              "rows": [
                [
                  "0",
                  "00010242fe8c5a6d1ba2dd792cb16214",
                  "1",
                  "4244733e06e7ecb4970a6e2683c13e61",
                  "48436dade18ac8b2bce089ec2a041202",
                  "2017-09-19 09:45:35",
                  "58.9",
                  "13.29"
                ],
                [
                  "1",
                  "00018f77f2f0320c557190d7a144bdd3",
                  "1",
                  "e5f2d52b802189ee658865ca93d83a8f",
                  "dd7ddc04e1b6c2c614352b383efe2d36",
                  "2017-05-03 11:05:13",
                  "239.9",
                  "19.93"
                ],
                [
                  "2",
                  "000229ec398224ef6ca0657da4fc703e",
                  "1",
                  "c777355d18b72b67abbeef9df44fd0fd",
                  "5b51032eddd242adc84c38acab88f23d",
                  "2018-01-18 14:48:30",
                  "199.0",
                  "17.87"
                ],
                [
                  "3",
                  "00024acbcdf0a6daa1e931b038114c75",
                  "1",
                  "7634da152a4610f1595efa32f14722fc",
                  "9d7a1d34a5052409006425275ba1c2b4",
                  "2018-08-15 10:10:18",
                  "12.99",
                  "12.79"
                ],
                [
                  "4",
                  "00042b26cf59d7ce69dfabb4e55b4fd9",
                  "1",
                  "ac6c3623068f30de03045865e4e10089",
                  "df560393f3a51e74553ab94004ba5c87",
                  "2017-02-13 13:57:51",
                  "199.9",
                  "18.14"
                ],
                [
                  "5",
                  "00048cc3ae777c65dbb7d2a0634bc1ea",
                  "1",
                  "ef92defde845ab8450f9d70c526ef70f",
                  "6426d21aca402a131fc0a5d0960a3c90",
                  "2017-05-23 03:55:27",
                  "21.9",
                  "12.69"
                ],
                [
                  "6",
                  "00054e8431b9d7675808bcb819fb4a32",
                  "1",
                  "8d4f2bb7e93e6710a28f34fa83ee7d28",
                  "7040e82f899a04d1b434b795a43b4617",
                  "2017-12-14 12:10:31",
                  "19.9",
                  "11.85"
                ],
                [
                  "7",
                  "000576fe39319847cbb9d288c5617fa6",
                  "1",
                  "557d850972a7d6f792fd18ae1400d9b6",
                  "5996cddab893a4652a15592fb58ab8db",
                  "2018-07-10 12:30:45",
                  "810.0",
                  "70.75"
                ],
                [
                  "8",
                  "0005a1a1728c9d785b8e2b08b904576c",
                  "1",
                  "310ae3c140ff94b03219ad0adc3c778f",
                  "a416b6a846a11724393025641d4edd5e",
                  "2018-03-26 18:31:29",
                  "145.95",
                  "11.65"
                ],
                [
                  "9",
                  "0005f50442cb953dcd1d21e1fb923495",
                  "1",
                  "4535b0e1091c278dfd193e5a1d63b39f",
                  "ba143b05f0110f0dc71ad71b4466ce92",
                  "2018-07-06 14:10:56",
                  "53.99",
                  "11.4"
                ],
                [
                  "10",
                  "00061f2a7bc09da83e415a52dc8a4af1",
                  "1",
                  "d63c1011f49d98b976c352955b1c4bea",
                  "cc419e0650a3c5ba77189a1882b7556a",
                  "2018-03-29 22:28:09",
                  "59.99",
                  "8.88"
                ],
                [
                  "11",
                  "00063b381e2406b52ad429470734ebd5",
                  "1",
                  "f177554ea93259a5b282f24e33f65ab6",
                  "8602a61d680a10a82cceeeda0d99ea3d",
                  "2018-07-31 17:30:39",
                  "45.0",
                  "12.98"
                ],
                [
                  "12",
                  "0006ec9db01a64e59a68b2c340bf65a7",
                  "1",
                  "99a4788cb24856965c36a24e339b6058",
                  "4a3ca9315b744ce9f8e9374361493884",
                  "2018-07-26 17:24:20",
                  "74.0",
                  "23.32"
                ],
                [
                  "13",
                  "0008288aa423d2a3f00fcb17cd7d8719",
                  "1",
                  "368c6c730842d78016ad823897a372db",
                  "1f50f920176fa81dab994f9023523100",
                  "2018-02-21 02:55:52",
                  "49.9",
                  "13.37"
                ],
                [
                  "14",
                  "0008288aa423d2a3f00fcb17cd7d8719",
                  "2",
                  "368c6c730842d78016ad823897a372db",
                  "1f50f920176fa81dab994f9023523100",
                  "2018-02-21 02:55:52",
                  "49.9",
                  "13.37"
                ],
                [
                  "15",
                  "0009792311464db532ff765bf7b182ae",
                  "1",
                  "8cab8abac59158715e0d70a36c807415",
                  "530ec6109d11eaaf87999465c6afee01",
                  "2018-08-17 12:15:10",
                  "99.9",
                  "27.65"
                ],
                [
                  "16",
                  "0009c9a17f916a706d71784483a5d643",
                  "1",
                  "3f27ac8e699df3d300ec4a5d8c5cf0b2",
                  "fcb5ace8bcc92f75707dc0f01a27d269",
                  "2018-05-02 09:31:53",
                  "639.0",
                  "11.34"
                ],
                [
                  "17",
                  "000aed2e25dbad2f9ddb70584c5a2ded",
                  "1",
                  "4fa33915031a8cde03dd0d3e8fb27f01",
                  "fe2032dab1a61af8794248c8196565c9",
                  "2018-05-16 20:57:03",
                  "144.0",
                  "8.77"
                ],
                [
                  "18",
                  "000c3e6612759851cc3cbb4b83257986",
                  "1",
                  "b50c950aba0dcead2c48032a690ce817",
                  "218d46b86c1881d022bce9c68a7d4b15",
                  "2017-08-21 03:33:13",
                  "99.0",
                  "13.71"
                ],
                [
                  "19",
                  "000e562887b1f2006d75e0be9558292e",
                  "1",
                  "5ed9eaf534f6936b51d0b6c5e4d5c2e9",
                  "8cbac7e12637ed9cffa18c7875207478",
                  "2018-02-28 12:08:37",
                  "25.0",
                  "16.11"
                ],
                [
                  "20",
                  "000e63d38ae8c00bbcb5a30573b99628",
                  "1",
                  "553e0e7590d3116a072507a3635d2877",
                  "1c129092bf23f28a5930387c980c0dfc",
                  "2018-03-29 20:07:49",
                  "47.9",
                  "8.88"
                ],
                [
                  "21",
                  "000e906b789b55f64edcb1f84030f90d",
                  "1",
                  "57d79905de06d8897872c551bfd09358",
                  "ea8482cd71df3c1969d7b9473ff13abc",
                  "2017-11-27 19:09:02",
                  "21.99",
                  "11.85"
                ],
                [
                  "22",
                  "000f25f4d72195062c040b12dce9a18a",
                  "1",
                  "1c05e0964302b6cf68ca0d15f326c6ba",
                  "7c67e1448b00f6e969d365cea6b010ab",
                  "2018-03-21 11:10:11",
                  "119.99",
                  "44.4"
                ],
                [
                  "23",
                  "001021efaa8636c29475e7734483457d",
                  "1",
                  "5d7c23067ed3fc8c6e699b9373d5890b",
                  "6560211a19b47992c3666cc44a7e94c0",
                  "2018-03-05 09:35:41",
                  "49.0",
                  "15.1"
                ],
                [
                  "24",
                  "0010b2e5201cc5f1ae7e9c6cc8f5bd00",
                  "1",
                  "5a419dbf24a8c9718fe522b81c69f61a",
                  "3504c0cb71d7fa48d967e0e4c94d59d9",
                  "2017-09-15 18:04:37",
                  "48.9",
                  "16.6"
                ],
                [
                  "25",
                  "00119ff934e539cf26f92b9ef0cdfed8",
                  "1",
                  "21b1c2f67a9aafb5af0eb06c13b9dbda",
                  "c864036feaab8c1659f65ea4faebe1da",
                  "2017-08-11 00:35:12",
                  "219.9",
                  "16.98"
                ],
                [
                  "26",
                  "0011d82c4b53e22e84023405fb467e57",
                  "1",
                  "c389f712c4b4510bc997cee93e8b1a28",
                  "bfd27a966d91cfaafdb25d076585f0da",
                  "2018-01-29 21:51:25",
                  "289.0",
                  "26.33"
                ],
                [
                  "27",
                  "00125cb692d04887809806618a2a145f",
                  "1",
                  "1c0c0093a48f13ba70d0c6b0a9157cb7",
                  "41b39e28db005d9731d9d485a83b4c38",
                  "2017-03-29 13:05:42",
                  "109.9",
                  "25.51"
                ],
                [
                  "28",
                  "00130c0eee84a3d909e75bc08c5c3ca1",
                  "1",
                  "89321f94e35fc6d7903d36f74e351d40",
                  "16090f2ca825584b5a147ab24aa30c86",
                  "2018-06-14 05:16:24",
                  "27.9",
                  "7.94"
                ],
                [
                  "29",
                  "0013503b13da1eac686219390b7d641b",
                  "1",
                  "38afdf723b95d455b418a0f57d623c6b",
                  "1554a68530182680ad5c8b042c3ab563",
                  "2017-12-13 03:16:36",
                  "119.9",
                  "17.32"
                ],
                [
                  "30",
                  "00137e170939bba5a3134e2386413108",
                  "1",
                  "672e757f331900b9deea127a2a7b79fd",
                  "e59aa562b9f8076dd550fcddf0e73491",
                  "2017-11-30 06:30:55",
                  "397.0",
                  "24.65"
                ],
                [
                  "31",
                  "001427c0ec99cf8af737bd88e92fd444",
                  "1",
                  "28b4eced95a52d9c437a4caf9d311b95",
                  "77530e9772f57a62c906e1c21538ab82",
                  "2018-04-12 19:08:28",
                  "59.9",
                  "23.35"
                ],
                [
                  "32",
                  "00143d0f86d6fbd9f9b38ab440ac16f5",
                  "1",
                  "e95ee6822b66ac6058e2e4aff656071a",
                  "a17f621c590ea0fab3d5d883e1630ec6",
                  "2017-10-20 16:07:52",
                  "21.33",
                  "15.1"
                ],
                [
                  "33",
                  "00143d0f86d6fbd9f9b38ab440ac16f5",
                  "2",
                  "e95ee6822b66ac6058e2e4aff656071a",
                  "a17f621c590ea0fab3d5d883e1630ec6",
                  "2017-10-20 16:07:52",
                  "21.33",
                  "15.1"
                ],
                [
                  "34",
                  "00143d0f86d6fbd9f9b38ab440ac16f5",
                  "3",
                  "e95ee6822b66ac6058e2e4aff656071a",
                  "a17f621c590ea0fab3d5d883e1630ec6",
                  "2017-10-20 16:07:52",
                  "21.33",
                  "15.1"
                ],
                [
                  "35",
                  "0014ae671de39511f7575066200733b7",
                  "1",
                  "23365beed316535b4105bd800c46670e",
                  "92eb0f42c21942b6552362b9b114707d",
                  "2017-05-29 03:15:24",
                  "16.5",
                  "14.1"
                ],
                [
                  "36",
                  "0015ebb40fb17286bea51d4607c4733c",
                  "1",
                  "50fd2b788dc166edd20512370dac54df",
                  "8b321bb669392f5163d04c59e235e066",
                  "2018-01-18 09:11:24",
                  "21.9",
                  "15.1"
                ],
                [
                  "37",
                  "00169e31ef4b29deaae414f9a5e95929",
                  "1",
                  "b10eba910a974df70b8a12d0665cdb9e",
                  "a3e9a2c700480d9bb01fba070ba80a0e",
                  "2018-01-23 03:35:47",
                  "39.0",
                  "16.11"
                ],
                [
                  "38",
                  "0016dfedd97fc2950e388d2971d718c7",
                  "1",
                  "4089861a1bd4685da70bddd6b4f974f1",
                  "a35124e2d763d7ca3fbe3b97d143200f",
                  "2017-05-05 10:05:12",
                  "49.75",
                  "20.8"
                ],
                [
                  "39",
                  "0017afd5076e074a48f1f1a4c7bac9c5",
                  "1",
                  "fe59a1e006df3ac42bf0ceb876d70969",
                  "25c5c91f63607446a97b143d2d535d31",
                  "2017-04-24 22:25:19",
                  "809.1",
                  "44.29"
                ],
                [
                  "40",
                  "001862358bf858722e1e2ae000cfed8b",
                  "1",
                  "c6dd917a0be2a704582055949915ab32",
                  "7a67c85e85bb2ce8582c35f2203ad736",
                  "2018-02-13 19:10:37",
                  "99.99",
                  "13.72"
                ],
                [
                  "41",
                  "0019c29108428acffd089c36103c9440",
                  "1",
                  "28b4eced95a52d9c437a4caf9d311b95",
                  "77530e9772f57a62c906e1c21538ab82",
                  "2018-03-12 06:50:26",
                  "59.9",
                  "19.95"
                ],
                [
                  "42",
                  "001ab0a7578dd66cd4b0a71f5b6e1e41",
                  "1",
                  "0b0172eb0fd18479d29c3bc122c058c2",
                  "5656537e588803a555b8eb41f07a944b",
                  "2018-01-04 02:33:42",
                  "24.89",
                  "17.63"
                ],
                [
                  "43",
                  "001ab0a7578dd66cd4b0a71f5b6e1e41",
                  "2",
                  "0b0172eb0fd18479d29c3bc122c058c2",
                  "5656537e588803a555b8eb41f07a944b",
                  "2018-01-04 02:33:42",
                  "24.89",
                  "17.63"
                ],
                [
                  "44",
                  "001ab0a7578dd66cd4b0a71f5b6e1e41",
                  "3",
                  "0b0172eb0fd18479d29c3bc122c058c2",
                  "5656537e588803a555b8eb41f07a944b",
                  "2018-01-04 02:33:42",
                  "24.89",
                  "17.63"
                ],
                [
                  "45",
                  "001ac194d4a326a6fa99b581e9a3d963",
                  "1",
                  "dbaee28f4ee64465838a229582d77520",
                  "ffc470761de7d0232558ba5e786e57b7",
                  "2018-07-10 02:51:10",
                  "54.0",
                  "8.54"
                ],
                [
                  "46",
                  "001b76dd48a5b1eee3e87778daa40df8",
                  "1",
                  "dbb67791e405873b259e4656bf971246",
                  "9c0e69c7bf2619675bbadf47b43f655a",
                  "2018-04-02 17:50:17",
                  "81.99",
                  "13.01"
                ],
                [
                  "47",
                  "001c85b5f68d2be0cb0797afc9e8ce9a",
                  "1",
                  "84f456958365164420cfc80fbe4c7fab",
                  "4a3ca9315b744ce9f8e9374361493884",
                  "2017-11-29 22:38:47",
                  "99.0",
                  "13.71"
                ],
                [
                  "48",
                  "001d8f0e34a38c37f7dba2a37d4eba8b",
                  "1",
                  "e67307ff0f15ade43fcb6e670be7a74c",
                  "f4aba7c0bca51484c30ab7bdc34bcdd1",
                  "2017-05-18 17:35:11",
                  "18.99",
                  "7.78"
                ],
                [
                  "49",
                  "001d8f0e34a38c37f7dba2a37d4eba8b",
                  "2",
                  "e67307ff0f15ade43fcb6e670be7a74c",
                  "f4aba7c0bca51484c30ab7bdc34bcdd1",
                  "2017-05-18 17:35:11",
                  "18.99",
                  "7.78"
                ]
              ],
              "shape": {
                "columns": 7,
                "rows": 112650
              }
            },
            "text/html": [
              "<div>\n",
              "<style scoped>\n",
              "    .dataframe tbody tr th:only-of-type {\n",
              "        vertical-align: middle;\n",
              "    }\n",
              "\n",
              "    .dataframe tbody tr th {\n",
              "        vertical-align: top;\n",
              "    }\n",
              "\n",
              "    .dataframe thead th {\n",
              "        text-align: right;\n",
              "    }\n",
              "</style>\n",
              "<table border=\"1\" class=\"dataframe\">\n",
              "  <thead>\n",
              "    <tr style=\"text-align: right;\">\n",
              "      <th></th>\n",
              "      <th>order_id</th>\n",
              "      <th>order_item_id</th>\n",
              "      <th>product_id</th>\n",
              "      <th>seller_id</th>\n",
              "      <th>shipping_limit_date</th>\n",
              "      <th>price</th>\n",
              "      <th>freight_value</th>\n",
              "    </tr>\n",
              "  </thead>\n",
              "  <tbody>\n",
              "    <tr>\n",
              "      <th>0</th>\n",
              "      <td>00010242fe8c5a6d1ba2dd792cb16214</td>\n",
              "      <td>1</td>\n",
              "      <td>4244733e06e7ecb4970a6e2683c13e61</td>\n",
              "      <td>48436dade18ac8b2bce089ec2a041202</td>\n",
              "      <td>2017-09-19 09:45:35</td>\n",
              "      <td>58.90</td>\n",
              "      <td>13.29</td>\n",
              "    </tr>\n",
              "    <tr>\n",
              "      <th>1</th>\n",
              "      <td>00018f77f2f0320c557190d7a144bdd3</td>\n",
              "      <td>1</td>\n",
              "      <td>e5f2d52b802189ee658865ca93d83a8f</td>\n",
              "      <td>dd7ddc04e1b6c2c614352b383efe2d36</td>\n",
              "      <td>2017-05-03 11:05:13</td>\n",
              "      <td>239.90</td>\n",
              "      <td>19.93</td>\n",
              "    </tr>\n",
              "    <tr>\n",
              "      <th>2</th>\n",
              "      <td>000229ec398224ef6ca0657da4fc703e</td>\n",
              "      <td>1</td>\n",
              "      <td>c777355d18b72b67abbeef9df44fd0fd</td>\n",
              "      <td>5b51032eddd242adc84c38acab88f23d</td>\n",
              "      <td>2018-01-18 14:48:30</td>\n",
              "      <td>199.00</td>\n",
              "      <td>17.87</td>\n",
              "    </tr>\n",
              "    <tr>\n",
              "      <th>3</th>\n",
              "      <td>00024acbcdf0a6daa1e931b038114c75</td>\n",
              "      <td>1</td>\n",
              "      <td>7634da152a4610f1595efa32f14722fc</td>\n",
              "      <td>9d7a1d34a5052409006425275ba1c2b4</td>\n",
              "      <td>2018-08-15 10:10:18</td>\n",
              "      <td>12.99</td>\n",
              "      <td>12.79</td>\n",
              "    </tr>\n",
              "    <tr>\n",
              "      <th>4</th>\n",
              "      <td>00042b26cf59d7ce69dfabb4e55b4fd9</td>\n",
              "      <td>1</td>\n",
              "      <td>ac6c3623068f30de03045865e4e10089</td>\n",
              "      <td>df560393f3a51e74553ab94004ba5c87</td>\n",
              "      <td>2017-02-13 13:57:51</td>\n",
              "      <td>199.90</td>\n",
              "      <td>18.14</td>\n",
              "    </tr>\n",
              "    <tr>\n",
              "      <th>...</th>\n",
              "      <td>...</td>\n",
              "      <td>...</td>\n",
              "      <td>...</td>\n",
              "      <td>...</td>\n",
              "      <td>...</td>\n",
              "      <td>...</td>\n",
              "      <td>...</td>\n",
              "    </tr>\n",
              "    <tr>\n",
              "      <th>112645</th>\n",
              "      <td>fffc94f6ce00a00581880bf54a75a037</td>\n",
              "      <td>1</td>\n",
              "      <td>4aa6014eceb682077f9dc4bffebc05b0</td>\n",
              "      <td>b8bc237ba3788b23da09c0f1f3a3288c</td>\n",
              "      <td>2018-05-02 04:11:01</td>\n",
              "      <td>299.99</td>\n",
              "      <td>43.41</td>\n",
              "    </tr>\n",
              "    <tr>\n",
              "      <th>112646</th>\n",
              "      <td>fffcd46ef2263f404302a634eb57f7eb</td>\n",
              "      <td>1</td>\n",
              "      <td>32e07fd915822b0765e448c4dd74c828</td>\n",
              "      <td>f3c38ab652836d21de61fb8314b69182</td>\n",
              "      <td>2018-07-20 04:31:48</td>\n",
              "      <td>350.00</td>\n",
              "      <td>36.53</td>\n",
              "    </tr>\n",
              "    <tr>\n",
              "      <th>112647</th>\n",
              "      <td>fffce4705a9662cd70adb13d4a31832d</td>\n",
              "      <td>1</td>\n",
              "      <td>72a30483855e2eafc67aee5dc2560482</td>\n",
              "      <td>c3cfdc648177fdbbbb35635a37472c53</td>\n",
              "      <td>2017-10-30 17:14:25</td>\n",
              "      <td>99.90</td>\n",
              "      <td>16.95</td>\n",
              "    </tr>\n",
              "    <tr>\n",
              "      <th>112648</th>\n",
              "      <td>fffe18544ffabc95dfada21779c9644f</td>\n",
              "      <td>1</td>\n",
              "      <td>9c422a519119dcad7575db5af1ba540e</td>\n",
              "      <td>2b3e4a2a3ea8e01938cabda2a3e5cc79</td>\n",
              "      <td>2017-08-21 00:04:32</td>\n",
              "      <td>55.99</td>\n",
              "      <td>8.72</td>\n",
              "    </tr>\n",
              "    <tr>\n",
              "      <th>112649</th>\n",
              "      <td>fffe41c64501cc87c801fd61db3f6244</td>\n",
              "      <td>1</td>\n",
              "      <td>350688d9dc1e75ff97be326363655e01</td>\n",
              "      <td>f7ccf836d21b2fb1de37564105216cc1</td>\n",
              "      <td>2018-06-12 17:10:13</td>\n",
              "      <td>43.00</td>\n",
              "      <td>12.79</td>\n",
              "    </tr>\n",
              "  </tbody>\n",
              "</table>\n",
              "<p>112650 rows × 7 columns</p>\n",
              "</div>"
            ],
            "text/plain": [
              "                                order_id  order_item_id  \\\n",
              "0       00010242fe8c5a6d1ba2dd792cb16214              1   \n",
              "1       00018f77f2f0320c557190d7a144bdd3              1   \n",
              "2       000229ec398224ef6ca0657da4fc703e              1   \n",
              "3       00024acbcdf0a6daa1e931b038114c75              1   \n",
              "4       00042b26cf59d7ce69dfabb4e55b4fd9              1   \n",
              "...                                  ...            ...   \n",
              "112645  fffc94f6ce00a00581880bf54a75a037              1   \n",
              "112646  fffcd46ef2263f404302a634eb57f7eb              1   \n",
              "112647  fffce4705a9662cd70adb13d4a31832d              1   \n",
              "112648  fffe18544ffabc95dfada21779c9644f              1   \n",
              "112649  fffe41c64501cc87c801fd61db3f6244              1   \n",
              "\n",
              "                              product_id                         seller_id  \\\n",
              "0       4244733e06e7ecb4970a6e2683c13e61  48436dade18ac8b2bce089ec2a041202   \n",
              "1       e5f2d52b802189ee658865ca93d83a8f  dd7ddc04e1b6c2c614352b383efe2d36   \n",
              "2       c777355d18b72b67abbeef9df44fd0fd  5b51032eddd242adc84c38acab88f23d   \n",
              "3       7634da152a4610f1595efa32f14722fc  9d7a1d34a5052409006425275ba1c2b4   \n",
              "4       ac6c3623068f30de03045865e4e10089  df560393f3a51e74553ab94004ba5c87   \n",
              "...                                  ...                               ...   \n",
              "112645  4aa6014eceb682077f9dc4bffebc05b0  b8bc237ba3788b23da09c0f1f3a3288c   \n",
              "112646  32e07fd915822b0765e448c4dd74c828  f3c38ab652836d21de61fb8314b69182   \n",
              "112647  72a30483855e2eafc67aee5dc2560482  c3cfdc648177fdbbbb35635a37472c53   \n",
              "112648  9c422a519119dcad7575db5af1ba540e  2b3e4a2a3ea8e01938cabda2a3e5cc79   \n",
              "112649  350688d9dc1e75ff97be326363655e01  f7ccf836d21b2fb1de37564105216cc1   \n",
              "\n",
              "        shipping_limit_date   price  freight_value  \n",
              "0       2017-09-19 09:45:35   58.90          13.29  \n",
              "1       2017-05-03 11:05:13  239.90          19.93  \n",
              "2       2018-01-18 14:48:30  199.00          17.87  \n",
              "3       2018-08-15 10:10:18   12.99          12.79  \n",
              "4       2017-02-13 13:57:51  199.90          18.14  \n",
              "...                     ...     ...            ...  \n",
              "112645  2018-05-02 04:11:01  299.99          43.41  \n",
              "112646  2018-07-20 04:31:48  350.00          36.53  \n",
              "112647  2017-10-30 17:14:25   99.90          16.95  \n",
              "112648  2017-08-21 00:04:32   55.99           8.72  \n",
              "112649  2018-06-12 17:10:13   43.00          12.79  \n",
              "\n",
              "[112650 rows x 7 columns]"
            ]
          },
          "execution_count": 6,
          "metadata": {},
          "output_type": "execute_result"
        }
      ],
      "source": [
        "# Data orders_item\n",
        "order_item_df = pd.read_csv(\"data/order_items_dataset.csv\")\n",
        "order_item_df\n"
      ]
    },
    {
      "cell_type": "markdown",
      "metadata": {},
      "source": [
        "**Insight Data Orders Item:**\n",
        "- Sama halnya seperti sebelumnya, karena tujuan kita untuk mengetahui produk mana yang memiliki penjualan tertinggi dan terendah perlu adanya data dari Orders Item khususnya tabel yang saling berkaitan antara `order_id` terhadap `product_id`.\n",
        "- Data ini juga merupakan data pendukung untuk mengetahui capaian dari pertanyaan bisnis."
      ]
    },
    {
      "cell_type": "code",
      "execution_count": 7,
      "metadata": {},
      "outputs": [
        {
          "data": {
            "application/vnd.microsoft.datawrangler.viewer.v0+json": {
              "columns": [
                {
                  "name": "index",
                  "rawType": "int64",
                  "type": "integer"
                },
                {
                  "name": "product_id",
                  "rawType": "object",
                  "type": "string"
                },
                {
                  "name": "product_category_name",
                  "rawType": "object",
                  "type": "unknown"
                },
                {
                  "name": "product_name_lenght",
                  "rawType": "float64",
                  "type": "float"
                },
                {
                  "name": "product_description_lenght",
                  "rawType": "float64",
                  "type": "float"
                },
                {
                  "name": "product_photos_qty",
                  "rawType": "float64",
                  "type": "float"
                },
                {
                  "name": "product_weight_g",
                  "rawType": "float64",
                  "type": "float"
                },
                {
                  "name": "product_length_cm",
                  "rawType": "float64",
                  "type": "float"
                },
                {
                  "name": "product_height_cm",
                  "rawType": "float64",
                  "type": "float"
                },
                {
                  "name": "product_width_cm",
                  "rawType": "float64",
                  "type": "float"
                }
              ],
              "conversionMethod": "pd.DataFrame",
              "ref": "c5febf26-0ac9-4c36-a4f7-dd6ce2426c83",
              "rows": [
                [
                  "0",
                  "1e9e8ef04dbcff4541ed26657ea517e5",
                  "perfumaria",
                  "40.0",
                  "287.0",
                  "1.0",
                  "225.0",
                  "16.0",
                  "10.0",
                  "14.0"
                ],
                [
                  "1",
                  "3aa071139cb16b67ca9e5dea641aaa2f",
                  "artes",
                  "44.0",
                  "276.0",
                  "1.0",
                  "1000.0",
                  "30.0",
                  "18.0",
                  "20.0"
                ],
                [
                  "2",
                  "96bd76ec8810374ed1b65e291975717f",
                  "esporte_lazer",
                  "46.0",
                  "250.0",
                  "1.0",
                  "154.0",
                  "18.0",
                  "9.0",
                  "15.0"
                ],
                [
                  "3",
                  "cef67bcfe19066a932b7673e239eb23d",
                  "bebes",
                  "27.0",
                  "261.0",
                  "1.0",
                  "371.0",
                  "26.0",
                  "4.0",
                  "26.0"
                ],
                [
                  "4",
                  "9dc1a7de274444849c219cff195d0b71",
                  "utilidades_domesticas",
                  "37.0",
                  "402.0",
                  "4.0",
                  "625.0",
                  "20.0",
                  "17.0",
                  "13.0"
                ],
                [
                  "5",
                  "41d3672d4792049fa1779bb35283ed13",
                  "instrumentos_musicais",
                  "60.0",
                  "745.0",
                  "1.0",
                  "200.0",
                  "38.0",
                  "5.0",
                  "11.0"
                ],
                [
                  "6",
                  "732bd381ad09e530fe0a5f457d81becb",
                  "cool_stuff",
                  "56.0",
                  "1272.0",
                  "4.0",
                  "18350.0",
                  "70.0",
                  "24.0",
                  "44.0"
                ],
                [
                  "7",
                  "2548af3e6e77a690cf3eb6368e9ab61e",
                  "moveis_decoracao",
                  "56.0",
                  "184.0",
                  "2.0",
                  "900.0",
                  "40.0",
                  "8.0",
                  "40.0"
                ],
                [
                  "8",
                  "37cc742be07708b53a98702e77a21a02",
                  "eletrodomesticos",
                  "57.0",
                  "163.0",
                  "1.0",
                  "400.0",
                  "27.0",
                  "13.0",
                  "17.0"
                ],
                [
                  "9",
                  "8c92109888e8cdf9d66dc7e463025574",
                  "brinquedos",
                  "36.0",
                  "1156.0",
                  "1.0",
                  "600.0",
                  "17.0",
                  "10.0",
                  "12.0"
                ],
                [
                  "10",
                  "14aa47b7fe5c25522b47b4b29c98dcb9",
                  "cama_mesa_banho",
                  "54.0",
                  "630.0",
                  "1.0",
                  "1100.0",
                  "16.0",
                  "10.0",
                  "16.0"
                ],
                [
                  "11",
                  "03b63c5fc16691530586ae020c345514",
                  "bebes",
                  "49.0",
                  "728.0",
                  "4.0",
                  "7150.0",
                  "50.0",
                  "19.0",
                  "45.0"
                ],
                [
                  "12",
                  "cf55509ea8edaaac1d28fdb16e48fc22",
                  "instrumentos_musicais",
                  "43.0",
                  "1827.0",
                  "3.0",
                  "250.0",
                  "17.0",
                  "7.0",
                  "17.0"
                ],
                [
                  "13",
                  "7bb6f29c2be57716194f96496660c7c2",
                  "moveis_decoracao",
                  "51.0",
                  "2083.0",
                  "2.0",
                  "600.0",
                  "68.0",
                  "11.0",
                  "13.0"
                ],
                [
                  "14",
                  "eb31436580a610f202c859463d8c7415",
                  "construcao_ferramentas_seguranca",
                  "59.0",
                  "1602.0",
                  "4.0",
                  "200.0",
                  "17.0",
                  "7.0",
                  "17.0"
                ],
                [
                  "15",
                  "3bb7f144022e6732727d8d838a7b13b3",
                  "esporte_lazer",
                  "22.0",
                  "3021.0",
                  "1.0",
                  "800.0",
                  "16.0",
                  "2.0",
                  "11.0"
                ],
                [
                  "16",
                  "6a2fb4dd53d2cdb88e0432f1284a004c",
                  "perfumaria",
                  "39.0",
                  "346.0",
                  "2.0",
                  "400.0",
                  "27.0",
                  "5.0",
                  "20.0"
                ],
                [
                  "17",
                  "a1b71017a84f92fd8da4aeefba108a24",
                  "informatica_acessorios",
                  "59.0",
                  "636.0",
                  "1.0",
                  "900.0",
                  "40.0",
                  "15.0",
                  "20.0"
                ],
                [
                  "18",
                  "a0736b92e52f6cead290e30b578413b6",
                  "moveis_decoracao",
                  "56.0",
                  "296.0",
                  "2.0",
                  "1700.0",
                  "100.0",
                  "7.0",
                  "15.0"
                ],
                [
                  "19",
                  "f53103a77d9cf245e579ea37e5ec51f0",
                  "cama_mesa_banho",
                  "52.0",
                  "206.0",
                  "1.0",
                  "500.0",
                  "16.0",
                  "10.0",
                  "16.0"
                ],
                [
                  "20",
                  "1c1890ba1779090cd54008a3c3302921",
                  "moveis_decoracao",
                  "27.0",
                  "158.0",
                  "4.0",
                  "2550.0",
                  "29.0",
                  "24.0",
                  "45.0"
                ],
                [
                  "21",
                  "518ef5de2c2b3a255e326a4594ba15d9",
                  "cama_mesa_banho",
                  "27.0",
                  "329.0",
                  "2.0",
                  "800.0",
                  "36.0",
                  "8.0",
                  "16.0"
                ],
                [
                  "22",
                  "e3e020af31d4d89d2602272b315c3f6e",
                  "beleza_saude",
                  "58.0",
                  "1987.0",
                  "3.0",
                  "75.0",
                  "21.0",
                  "7.0",
                  "13.0"
                ],
                [
                  "23",
                  "8b41fbc2b984a12030090112324d1bc4",
                  "bebes",
                  "55.0",
                  "1627.0",
                  "1.0",
                  "500.0",
                  "20.0",
                  "13.0",
                  "13.0"
                ],
                [
                  "24",
                  "d03bd02af9fff4b98f1c972315e5e9ef",
                  "moveis_decoracao",
                  "56.0",
                  "209.0",
                  "1.0",
                  "1800.0",
                  "40.0",
                  "10.0",
                  "30.0"
                ],
                [
                  "25",
                  "8ba4f2a4ae695d26e5626c1bf710975e",
                  "utilidades_domesticas",
                  "52.0",
                  "968.0",
                  "1.0",
                  "900.0",
                  "50.0",
                  "5.0",
                  "50.0"
                ],
                [
                  "26",
                  "f6574524b07d5bb753bab6f35abe2d06",
                  "malas_acessorios",
                  "52.0",
                  "573.0",
                  "5.0",
                  "3600.0",
                  "35.0",
                  "25.0",
                  "50.0"
                ],
                [
                  "27",
                  "c78b767da00efb70c1bcccab87c28cd5",
                  "informatica_acessorios",
                  "35.0",
                  "1101.0",
                  "2.0",
                  "300.0",
                  "42.0",
                  "2.0",
                  "30.0"
                ],
                [
                  "28",
                  "a0253d43394dd4da9a5d7b1f546f1a32",
                  "informatica_acessorios",
                  "59.0",
                  "1890.0",
                  "2.0",
                  "740.0",
                  "23.0",
                  "13.0",
                  "13.0"
                ],
                [
                  "29",
                  "051b9ff13dd55c0a6655a15ff296f80d",
                  "esporte_lazer",
                  "50.0",
                  "529.0",
                  "2.0",
                  "3600.0",
                  "62.0",
                  "23.0",
                  "23.0"
                ],
                [
                  "30",
                  "47859fca9dd7485cbd93c3e8993bb74f",
                  "cama_mesa_banho",
                  "45.0",
                  "206.0",
                  "1.0",
                  "650.0",
                  "16.0",
                  "10.0",
                  "16.0"
                ],
                [
                  "31",
                  "e1d1d22e9f8122a4ec1533b032c12562",
                  "ferramentas_jardim",
                  "49.0",
                  "1163.0",
                  "9.0",
                  "2150.0",
                  "70.0",
                  "8.0",
                  "34.0"
                ],
                [
                  "32",
                  "20e37962088a4061d3578def47a8648b",
                  "moveis_decoracao",
                  "60.0",
                  "208.0",
                  "1.0",
                  "800.0",
                  "40.0",
                  "10.0",
                  "34.0"
                ],
                [
                  "33",
                  "1eba879220bd0981a0e2fbab499ed4e1",
                  "moveis_escritorio",
                  "57.0",
                  "476.0",
                  "1.0",
                  "8950.0",
                  "52.0",
                  "51.0",
                  "17.0"
                ],
                [
                  "34",
                  "ce5b91848b91118daffb3af53b747475",
                  "esporte_lazer",
                  "50.0",
                  "699.0",
                  "4.0",
                  "1388.0",
                  "34.0",
                  "9.0",
                  "31.0"
                ],
                [
                  "35",
                  "5370b82a213393979691c98074265584",
                  "bebes",
                  "52.0",
                  "708.0",
                  "9.0",
                  "7950.0",
                  "33.0",
                  "30.0",
                  "44.0"
                ],
                [
                  "36",
                  "b8dac5113b06a97e64943234522572b9",
                  "automotivo",
                  "43.0",
                  "1062.0",
                  "2.0",
                  "6000.0",
                  "87.0",
                  "3.0",
                  "42.0"
                ],
                [
                  "37",
                  "750cf819d127191920eda79a4b6fb479",
                  "eletronicos",
                  "31.0",
                  "806.0",
                  "1.0",
                  "263.0",
                  "18.0",
                  "12.0",
                  "16.0"
                ],
                [
                  "38",
                  "e6af694343b45b56304ad91974a110b9",
                  "utilidades_domesticas",
                  "37.0",
                  "352.0",
                  "1.0",
                  "3900.0",
                  "19.0",
                  "20.0",
                  "15.0"
                ],
                [
                  "39",
                  "680874c570dad71c0a2844cfbf417054",
                  "moveis_decoracao",
                  "47.0",
                  "502.0",
                  "1.0",
                  "600.0",
                  "25.0",
                  "25.0",
                  "25.0"
                ],
                [
                  "40",
                  "8b3a9476f74f5297f7ff0ec6d95fe1ea",
                  "moveis_decoracao",
                  "63.0",
                  "254.0",
                  "2.0",
                  "2050.0",
                  "49.0",
                  "13.0",
                  "41.0"
                ],
                [
                  "41",
                  "1c6fb703c624b381a20f21f757694866",
                  "brinquedos",
                  "33.0",
                  "471.0",
                  "2.0",
                  "725.0",
                  "22.0",
                  "17.0",
                  "15.0"
                ],
                [
                  "42",
                  "db46052aed7dff59ba38cf2fe29b87f9",
                  "cama_mesa_banho",
                  "56.0",
                  "509.0",
                  "4.0",
                  "6350.0",
                  "45.0",
                  "15.0",
                  "35.0"
                ],
                [
                  "43",
                  "b864b103180d5a6a3f830e67f93e8735",
                  "bebes",
                  "47.0",
                  "980.0",
                  "4.0",
                  "600.0",
                  "70.0",
                  "11.0",
                  "11.0"
                ],
                [
                  "44",
                  "7a8dac4aaa16bc642e4df33adcf03303",
                  "cool_stuff",
                  "38.0",
                  "1701.0",
                  "2.0",
                  "11750.0",
                  "18.0",
                  "40.0",
                  "79.0"
                ],
                [
                  "45",
                  "83b9bc6aae6f527ff6aafb9e01d6cbf3",
                  "brinquedos",
                  "20.0",
                  "866.0",
                  "3.0",
                  "2550.0",
                  "22.0",
                  "32.0",
                  "38.0"
                ],
                [
                  "46",
                  "5f504b3a1c75b73d6151be81eb05bdc9",
                  "cool_stuff",
                  "38.0",
                  "1176.0",
                  "3.0",
                  "15350.0",
                  "47.0",
                  "40.0",
                  "47.0"
                ],
                [
                  "47",
                  "bbf920aa6ac72007a726e6f419156f8f",
                  "moveis_decoracao",
                  "42.0",
                  "303.0",
                  "2.0",
                  "1300.0",
                  "25.0",
                  "16.0",
                  "25.0"
                ],
                [
                  "48",
                  "c3b7e4d83e530c27a8e6368296aece48",
                  "moveis_decoracao",
                  "60.0",
                  "1972.0",
                  "2.0",
                  "850.0",
                  "69.0",
                  "11.0",
                  "11.0"
                ],
                [
                  "49",
                  "c5d8079278e912d7e3b6beb48ecb56e8",
                  "beleza_saude",
                  "60.0",
                  "330.0",
                  "1.0",
                  "1300.0",
                  "19.0",
                  "28.0",
                  "17.0"
                ]
              ],
              "shape": {
                "columns": 9,
                "rows": 32951
              }
            },
            "text/html": [
              "<div>\n",
              "<style scoped>\n",
              "    .dataframe tbody tr th:only-of-type {\n",
              "        vertical-align: middle;\n",
              "    }\n",
              "\n",
              "    .dataframe tbody tr th {\n",
              "        vertical-align: top;\n",
              "    }\n",
              "\n",
              "    .dataframe thead th {\n",
              "        text-align: right;\n",
              "    }\n",
              "</style>\n",
              "<table border=\"1\" class=\"dataframe\">\n",
              "  <thead>\n",
              "    <tr style=\"text-align: right;\">\n",
              "      <th></th>\n",
              "      <th>product_id</th>\n",
              "      <th>product_category_name</th>\n",
              "      <th>product_name_lenght</th>\n",
              "      <th>product_description_lenght</th>\n",
              "      <th>product_photos_qty</th>\n",
              "      <th>product_weight_g</th>\n",
              "      <th>product_length_cm</th>\n",
              "      <th>product_height_cm</th>\n",
              "      <th>product_width_cm</th>\n",
              "    </tr>\n",
              "  </thead>\n",
              "  <tbody>\n",
              "    <tr>\n",
              "      <th>0</th>\n",
              "      <td>1e9e8ef04dbcff4541ed26657ea517e5</td>\n",
              "      <td>perfumaria</td>\n",
              "      <td>40.0</td>\n",
              "      <td>287.0</td>\n",
              "      <td>1.0</td>\n",
              "      <td>225.0</td>\n",
              "      <td>16.0</td>\n",
              "      <td>10.0</td>\n",
              "      <td>14.0</td>\n",
              "    </tr>\n",
              "    <tr>\n",
              "      <th>1</th>\n",
              "      <td>3aa071139cb16b67ca9e5dea641aaa2f</td>\n",
              "      <td>artes</td>\n",
              "      <td>44.0</td>\n",
              "      <td>276.0</td>\n",
              "      <td>1.0</td>\n",
              "      <td>1000.0</td>\n",
              "      <td>30.0</td>\n",
              "      <td>18.0</td>\n",
              "      <td>20.0</td>\n",
              "    </tr>\n",
              "    <tr>\n",
              "      <th>2</th>\n",
              "      <td>96bd76ec8810374ed1b65e291975717f</td>\n",
              "      <td>esporte_lazer</td>\n",
              "      <td>46.0</td>\n",
              "      <td>250.0</td>\n",
              "      <td>1.0</td>\n",
              "      <td>154.0</td>\n",
              "      <td>18.0</td>\n",
              "      <td>9.0</td>\n",
              "      <td>15.0</td>\n",
              "    </tr>\n",
              "    <tr>\n",
              "      <th>3</th>\n",
              "      <td>cef67bcfe19066a932b7673e239eb23d</td>\n",
              "      <td>bebes</td>\n",
              "      <td>27.0</td>\n",
              "      <td>261.0</td>\n",
              "      <td>1.0</td>\n",
              "      <td>371.0</td>\n",
              "      <td>26.0</td>\n",
              "      <td>4.0</td>\n",
              "      <td>26.0</td>\n",
              "    </tr>\n",
              "    <tr>\n",
              "      <th>4</th>\n",
              "      <td>9dc1a7de274444849c219cff195d0b71</td>\n",
              "      <td>utilidades_domesticas</td>\n",
              "      <td>37.0</td>\n",
              "      <td>402.0</td>\n",
              "      <td>4.0</td>\n",
              "      <td>625.0</td>\n",
              "      <td>20.0</td>\n",
              "      <td>17.0</td>\n",
              "      <td>13.0</td>\n",
              "    </tr>\n",
              "    <tr>\n",
              "      <th>...</th>\n",
              "      <td>...</td>\n",
              "      <td>...</td>\n",
              "      <td>...</td>\n",
              "      <td>...</td>\n",
              "      <td>...</td>\n",
              "      <td>...</td>\n",
              "      <td>...</td>\n",
              "      <td>...</td>\n",
              "      <td>...</td>\n",
              "    </tr>\n",
              "    <tr>\n",
              "      <th>32946</th>\n",
              "      <td>a0b7d5a992ccda646f2d34e418fff5a0</td>\n",
              "      <td>moveis_decoracao</td>\n",
              "      <td>45.0</td>\n",
              "      <td>67.0</td>\n",
              "      <td>2.0</td>\n",
              "      <td>12300.0</td>\n",
              "      <td>40.0</td>\n",
              "      <td>40.0</td>\n",
              "      <td>40.0</td>\n",
              "    </tr>\n",
              "    <tr>\n",
              "      <th>32947</th>\n",
              "      <td>bf4538d88321d0fd4412a93c974510e6</td>\n",
              "      <td>construcao_ferramentas_iluminacao</td>\n",
              "      <td>41.0</td>\n",
              "      <td>971.0</td>\n",
              "      <td>1.0</td>\n",
              "      <td>1700.0</td>\n",
              "      <td>16.0</td>\n",
              "      <td>19.0</td>\n",
              "      <td>16.0</td>\n",
              "    </tr>\n",
              "    <tr>\n",
              "      <th>32948</th>\n",
              "      <td>9a7c6041fa9592d9d9ef6cfe62a71f8c</td>\n",
              "      <td>cama_mesa_banho</td>\n",
              "      <td>50.0</td>\n",
              "      <td>799.0</td>\n",
              "      <td>1.0</td>\n",
              "      <td>1400.0</td>\n",
              "      <td>27.0</td>\n",
              "      <td>7.0</td>\n",
              "      <td>27.0</td>\n",
              "    </tr>\n",
              "    <tr>\n",
              "      <th>32949</th>\n",
              "      <td>83808703fc0706a22e264b9d75f04a2e</td>\n",
              "      <td>informatica_acessorios</td>\n",
              "      <td>60.0</td>\n",
              "      <td>156.0</td>\n",
              "      <td>2.0</td>\n",
              "      <td>700.0</td>\n",
              "      <td>31.0</td>\n",
              "      <td>13.0</td>\n",
              "      <td>20.0</td>\n",
              "    </tr>\n",
              "    <tr>\n",
              "      <th>32950</th>\n",
              "      <td>106392145fca363410d287a815be6de4</td>\n",
              "      <td>cama_mesa_banho</td>\n",
              "      <td>58.0</td>\n",
              "      <td>309.0</td>\n",
              "      <td>1.0</td>\n",
              "      <td>2083.0</td>\n",
              "      <td>12.0</td>\n",
              "      <td>2.0</td>\n",
              "      <td>7.0</td>\n",
              "    </tr>\n",
              "  </tbody>\n",
              "</table>\n",
              "<p>32951 rows × 9 columns</p>\n",
              "</div>"
            ],
            "text/plain": [
              "                             product_id              product_category_name  \\\n",
              "0      1e9e8ef04dbcff4541ed26657ea517e5                         perfumaria   \n",
              "1      3aa071139cb16b67ca9e5dea641aaa2f                              artes   \n",
              "2      96bd76ec8810374ed1b65e291975717f                      esporte_lazer   \n",
              "3      cef67bcfe19066a932b7673e239eb23d                              bebes   \n",
              "4      9dc1a7de274444849c219cff195d0b71              utilidades_domesticas   \n",
              "...                                 ...                                ...   \n",
              "32946  a0b7d5a992ccda646f2d34e418fff5a0                   moveis_decoracao   \n",
              "32947  bf4538d88321d0fd4412a93c974510e6  construcao_ferramentas_iluminacao   \n",
              "32948  9a7c6041fa9592d9d9ef6cfe62a71f8c                    cama_mesa_banho   \n",
              "32949  83808703fc0706a22e264b9d75f04a2e             informatica_acessorios   \n",
              "32950  106392145fca363410d287a815be6de4                    cama_mesa_banho   \n",
              "\n",
              "       product_name_lenght  product_description_lenght  product_photos_qty  \\\n",
              "0                     40.0                       287.0                 1.0   \n",
              "1                     44.0                       276.0                 1.0   \n",
              "2                     46.0                       250.0                 1.0   \n",
              "3                     27.0                       261.0                 1.0   \n",
              "4                     37.0                       402.0                 4.0   \n",
              "...                    ...                         ...                 ...   \n",
              "32946                 45.0                        67.0                 2.0   \n",
              "32947                 41.0                       971.0                 1.0   \n",
              "32948                 50.0                       799.0                 1.0   \n",
              "32949                 60.0                       156.0                 2.0   \n",
              "32950                 58.0                       309.0                 1.0   \n",
              "\n",
              "       product_weight_g  product_length_cm  product_height_cm  \\\n",
              "0                 225.0               16.0               10.0   \n",
              "1                1000.0               30.0               18.0   \n",
              "2                 154.0               18.0                9.0   \n",
              "3                 371.0               26.0                4.0   \n",
              "4                 625.0               20.0               17.0   \n",
              "...                 ...                ...                ...   \n",
              "32946           12300.0               40.0               40.0   \n",
              "32947            1700.0               16.0               19.0   \n",
              "32948            1400.0               27.0                7.0   \n",
              "32949             700.0               31.0               13.0   \n",
              "32950            2083.0               12.0                2.0   \n",
              "\n",
              "       product_width_cm  \n",
              "0                  14.0  \n",
              "1                  20.0  \n",
              "2                  15.0  \n",
              "3                  26.0  \n",
              "4                  13.0  \n",
              "...                 ...  \n",
              "32946              40.0  \n",
              "32947              16.0  \n",
              "32948              27.0  \n",
              "32949              20.0  \n",
              "32950               7.0  \n",
              "\n",
              "[32951 rows x 9 columns]"
            ]
          },
          "execution_count": 7,
          "metadata": {},
          "output_type": "execute_result"
        }
      ],
      "source": [
        "# Data products\n",
        "products_df = pd.read_csv(\"data/products_dataset.csv\")\n",
        "products_df"
      ]
    },
    {
      "cell_type": "markdown",
      "metadata": {},
      "source": [
        "**Insight Data Products:**\n",
        "- `product_id` menjadi kunci untuk menjawab pertanyaan bisnis, karena nantinya data yang dimiliki akan digabungkan sehingga akan menjawab pertanyaan bisnis.\n",
        "- Data ini merupakan pendukung paling vital."
      ]
    },
    {
      "cell_type": "code",
      "execution_count": 8,
      "metadata": {},
      "outputs": [
        {
          "data": {
            "application/vnd.microsoft.datawrangler.viewer.v0+json": {
              "columns": [
                {
                  "name": "index",
                  "rawType": "int64",
                  "type": "integer"
                },
                {
                  "name": "product_category_name",
                  "rawType": "object",
                  "type": "string"
                },
                {
                  "name": "product_category_name_english",
                  "rawType": "object",
                  "type": "string"
                }
              ],
              "conversionMethod": "pd.DataFrame",
              "ref": "bbdcb2aa-15f1-4bf8-a68d-866947f3727f",
              "rows": [
                [
                  "0",
                  "beleza_saude",
                  "health_beauty"
                ],
                [
                  "1",
                  "informatica_acessorios",
                  "computers_accessories"
                ],
                [
                  "2",
                  "automotivo",
                  "auto"
                ],
                [
                  "3",
                  "cama_mesa_banho",
                  "bed_bath_table"
                ],
                [
                  "4",
                  "moveis_decoracao",
                  "furniture_decor"
                ],
                [
                  "5",
                  "esporte_lazer",
                  "sports_leisure"
                ],
                [
                  "6",
                  "perfumaria",
                  "perfumery"
                ],
                [
                  "7",
                  "utilidades_domesticas",
                  "housewares"
                ],
                [
                  "8",
                  "telefonia",
                  "telephony"
                ],
                [
                  "9",
                  "relogios_presentes",
                  "watches_gifts"
                ],
                [
                  "10",
                  "alimentos_bebidas",
                  "food_drink"
                ],
                [
                  "11",
                  "bebes",
                  "baby"
                ],
                [
                  "12",
                  "papelaria",
                  "stationery"
                ],
                [
                  "13",
                  "tablets_impressao_imagem",
                  "tablets_printing_image"
                ],
                [
                  "14",
                  "brinquedos",
                  "toys"
                ],
                [
                  "15",
                  "telefonia_fixa",
                  "fixed_telephony"
                ],
                [
                  "16",
                  "ferramentas_jardim",
                  "garden_tools"
                ],
                [
                  "17",
                  "fashion_bolsas_e_acessorios",
                  "fashion_bags_accessories"
                ],
                [
                  "18",
                  "eletroportateis",
                  "small_appliances"
                ],
                [
                  "19",
                  "consoles_games",
                  "consoles_games"
                ],
                [
                  "20",
                  "audio",
                  "audio"
                ],
                [
                  "21",
                  "fashion_calcados",
                  "fashion_shoes"
                ],
                [
                  "22",
                  "cool_stuff",
                  "cool_stuff"
                ],
                [
                  "23",
                  "malas_acessorios",
                  "luggage_accessories"
                ],
                [
                  "24",
                  "climatizacao",
                  "air_conditioning"
                ],
                [
                  "25",
                  "construcao_ferramentas_construcao",
                  "construction_tools_construction"
                ],
                [
                  "26",
                  "moveis_cozinha_area_de_servico_jantar_e_jardim",
                  "kitchen_dining_laundry_garden_furniture"
                ],
                [
                  "27",
                  "construcao_ferramentas_jardim",
                  "costruction_tools_garden"
                ],
                [
                  "28",
                  "fashion_roupa_masculina",
                  "fashion_male_clothing"
                ],
                [
                  "29",
                  "pet_shop",
                  "pet_shop"
                ],
                [
                  "30",
                  "moveis_escritorio",
                  "office_furniture"
                ],
                [
                  "31",
                  "market_place",
                  "market_place"
                ],
                [
                  "32",
                  "eletronicos",
                  "electronics"
                ],
                [
                  "33",
                  "eletrodomesticos",
                  "home_appliances"
                ],
                [
                  "34",
                  "artigos_de_festas",
                  "party_supplies"
                ],
                [
                  "35",
                  "casa_conforto",
                  "home_confort"
                ],
                [
                  "36",
                  "construcao_ferramentas_ferramentas",
                  "costruction_tools_tools"
                ],
                [
                  "37",
                  "agro_industria_e_comercio",
                  "agro_industry_and_commerce"
                ],
                [
                  "38",
                  "moveis_colchao_e_estofado",
                  "furniture_mattress_and_upholstery"
                ],
                [
                  "39",
                  "livros_tecnicos",
                  "books_technical"
                ],
                [
                  "40",
                  "casa_construcao",
                  "home_construction"
                ],
                [
                  "41",
                  "instrumentos_musicais",
                  "musical_instruments"
                ],
                [
                  "42",
                  "moveis_sala",
                  "furniture_living_room"
                ],
                [
                  "43",
                  "construcao_ferramentas_iluminacao",
                  "construction_tools_lights"
                ],
                [
                  "44",
                  "industria_comercio_e_negocios",
                  "industry_commerce_and_business"
                ],
                [
                  "45",
                  "alimentos",
                  "food"
                ],
                [
                  "46",
                  "artes",
                  "art"
                ],
                [
                  "47",
                  "moveis_quarto",
                  "furniture_bedroom"
                ],
                [
                  "48",
                  "livros_interesse_geral",
                  "books_general_interest"
                ],
                [
                  "49",
                  "construcao_ferramentas_seguranca",
                  "construction_tools_safety"
                ]
              ],
              "shape": {
                "columns": 2,
                "rows": 71
              }
            },
            "text/html": [
              "<div>\n",
              "<style scoped>\n",
              "    .dataframe tbody tr th:only-of-type {\n",
              "        vertical-align: middle;\n",
              "    }\n",
              "\n",
              "    .dataframe tbody tr th {\n",
              "        vertical-align: top;\n",
              "    }\n",
              "\n",
              "    .dataframe thead th {\n",
              "        text-align: right;\n",
              "    }\n",
              "</style>\n",
              "<table border=\"1\" class=\"dataframe\">\n",
              "  <thead>\n",
              "    <tr style=\"text-align: right;\">\n",
              "      <th></th>\n",
              "      <th>product_category_name</th>\n",
              "      <th>product_category_name_english</th>\n",
              "    </tr>\n",
              "  </thead>\n",
              "  <tbody>\n",
              "    <tr>\n",
              "      <th>0</th>\n",
              "      <td>beleza_saude</td>\n",
              "      <td>health_beauty</td>\n",
              "    </tr>\n",
              "    <tr>\n",
              "      <th>1</th>\n",
              "      <td>informatica_acessorios</td>\n",
              "      <td>computers_accessories</td>\n",
              "    </tr>\n",
              "    <tr>\n",
              "      <th>2</th>\n",
              "      <td>automotivo</td>\n",
              "      <td>auto</td>\n",
              "    </tr>\n",
              "    <tr>\n",
              "      <th>3</th>\n",
              "      <td>cama_mesa_banho</td>\n",
              "      <td>bed_bath_table</td>\n",
              "    </tr>\n",
              "    <tr>\n",
              "      <th>4</th>\n",
              "      <td>moveis_decoracao</td>\n",
              "      <td>furniture_decor</td>\n",
              "    </tr>\n",
              "    <tr>\n",
              "      <th>...</th>\n",
              "      <td>...</td>\n",
              "      <td>...</td>\n",
              "    </tr>\n",
              "    <tr>\n",
              "      <th>66</th>\n",
              "      <td>flores</td>\n",
              "      <td>flowers</td>\n",
              "    </tr>\n",
              "    <tr>\n",
              "      <th>67</th>\n",
              "      <td>artes_e_artesanato</td>\n",
              "      <td>arts_and_craftmanship</td>\n",
              "    </tr>\n",
              "    <tr>\n",
              "      <th>68</th>\n",
              "      <td>fraldas_higiene</td>\n",
              "      <td>diapers_and_hygiene</td>\n",
              "    </tr>\n",
              "    <tr>\n",
              "      <th>69</th>\n",
              "      <td>fashion_roupa_infanto_juvenil</td>\n",
              "      <td>fashion_childrens_clothes</td>\n",
              "    </tr>\n",
              "    <tr>\n",
              "      <th>70</th>\n",
              "      <td>seguros_e_servicos</td>\n",
              "      <td>security_and_services</td>\n",
              "    </tr>\n",
              "  </tbody>\n",
              "</table>\n",
              "<p>71 rows × 2 columns</p>\n",
              "</div>"
            ],
            "text/plain": [
              "            product_category_name product_category_name_english\n",
              "0                    beleza_saude                 health_beauty\n",
              "1          informatica_acessorios         computers_accessories\n",
              "2                      automotivo                          auto\n",
              "3                 cama_mesa_banho                bed_bath_table\n",
              "4                moveis_decoracao               furniture_decor\n",
              "..                            ...                           ...\n",
              "66                         flores                       flowers\n",
              "67             artes_e_artesanato         arts_and_craftmanship\n",
              "68                fraldas_higiene           diapers_and_hygiene\n",
              "69  fashion_roupa_infanto_juvenil     fashion_childrens_clothes\n",
              "70             seguros_e_servicos         security_and_services\n",
              "\n",
              "[71 rows x 2 columns]"
            ]
          },
          "execution_count": 8,
          "metadata": {},
          "output_type": "execute_result"
        }
      ],
      "source": [
        "# Data terjemahan kategori\n",
        "products_category_translate_df = pd.read_csv(\"data/product_category_name_translation.csv\")\n",
        "products_category_translate_df"
      ]
    },
    {
      "cell_type": "markdown",
      "metadata": {},
      "source": [
        "**Insight Data Terjemahan Kategorit:**\n",
        "- Karena produk tidak menggunakan bahasa universal, maka data ini akan menjadi acuan untuk mengetahui produk mana yang berkaitan dengan pertanyaan bisnis khususnya pada tabel `product_category_name`.\n",
        "- Data ini merupakan pendukung bisnis."
      ]
    },
    {
      "cell_type": "code",
      "execution_count": 9,
      "metadata": {},
      "outputs": [
        {
          "data": {
            "application/vnd.microsoft.datawrangler.viewer.v0+json": {
              "columns": [
                {
                  "name": "index",
                  "rawType": "int64",
                  "type": "integer"
                },
                {
                  "name": "order_id",
                  "rawType": "object",
                  "type": "string"
                },
                {
                  "name": "payment_sequential",
                  "rawType": "int64",
                  "type": "integer"
                },
                {
                  "name": "payment_type",
                  "rawType": "object",
                  "type": "string"
                },
                {
                  "name": "payment_installments",
                  "rawType": "int64",
                  "type": "integer"
                },
                {
                  "name": "payment_value",
                  "rawType": "float64",
                  "type": "float"
                }
              ],
              "conversionMethod": "pd.DataFrame",
              "ref": "52bfdb5c-acf9-401d-bd48-d8ab87c42bd8",
              "rows": [
                [
                  "0",
                  "b81ef226f3fe1789b1e8b2acac839d17",
                  "1",
                  "credit_card",
                  "8",
                  "99.33"
                ],
                [
                  "1",
                  "a9810da82917af2d9aefd1278f1dcfa0",
                  "1",
                  "credit_card",
                  "1",
                  "24.39"
                ],
                [
                  "2",
                  "25e8ea4e93396b6fa0d3dd708e76c1bd",
                  "1",
                  "credit_card",
                  "1",
                  "65.71"
                ],
                [
                  "3",
                  "ba78997921bbcdc1373bb41e913ab953",
                  "1",
                  "credit_card",
                  "8",
                  "107.78"
                ],
                [
                  "4",
                  "42fdf880ba16b47b59251dd489d4441a",
                  "1",
                  "credit_card",
                  "2",
                  "128.45"
                ],
                [
                  "5",
                  "298fcdf1f73eb413e4d26d01b25bc1cd",
                  "1",
                  "credit_card",
                  "2",
                  "96.12"
                ],
                [
                  "6",
                  "771ee386b001f06208a7419e4fc1bbd7",
                  "1",
                  "credit_card",
                  "1",
                  "81.16"
                ],
                [
                  "7",
                  "3d7239c394a212faae122962df514ac7",
                  "1",
                  "credit_card",
                  "3",
                  "51.84"
                ],
                [
                  "8",
                  "1f78449c87a54faf9e96e88ba1491fa9",
                  "1",
                  "credit_card",
                  "6",
                  "341.09"
                ],
                [
                  "9",
                  "0573b5e23cbd798006520e1d5b4c6714",
                  "1",
                  "boleto",
                  "1",
                  "51.95"
                ],
                [
                  "10",
                  "d88e0d5fa41661ce03cf6cf336527646",
                  "1",
                  "credit_card",
                  "8",
                  "188.73"
                ],
                [
                  "11",
                  "2480f727e869fdeb397244a21b721b67",
                  "1",
                  "credit_card",
                  "1",
                  "141.9"
                ],
                [
                  "12",
                  "616105c9352a9668c38303ad44e056cd",
                  "1",
                  "credit_card",
                  "1",
                  "75.78"
                ],
                [
                  "13",
                  "cf95215a722f3ebf29e6bbab87a29e61",
                  "1",
                  "credit_card",
                  "5",
                  "102.66"
                ],
                [
                  "14",
                  "769214176682788a92801d8907fa1b40",
                  "1",
                  "credit_card",
                  "4",
                  "105.28"
                ],
                [
                  "15",
                  "12e5cfe0e4716b59afb0e0f4a3bd6570",
                  "1",
                  "credit_card",
                  "10",
                  "157.45"
                ],
                [
                  "16",
                  "61059985a6fc0ad64e95d9944caacdad",
                  "1",
                  "credit_card",
                  "1",
                  "132.04"
                ],
                [
                  "17",
                  "79da3f5fe31ad1e454f06f95dc032ad5",
                  "1",
                  "credit_card",
                  "1",
                  "98.94"
                ],
                [
                  "18",
                  "8ac09207f415d55acff302df7d6a895c",
                  "1",
                  "credit_card",
                  "4",
                  "244.15"
                ],
                [
                  "19",
                  "b2349a3f20dfbeef62e7b31baa22f84b",
                  "1",
                  "credit_card",
                  "3",
                  "136.71"
                ],
                [
                  "20",
                  "5a1f6d22f7dfb061ef29216b9af687a1",
                  "1",
                  "credit_card",
                  "4",
                  "47.69"
                ],
                [
                  "21",
                  "4214cda550ece8ee66441f459dc33a8c",
                  "1",
                  "credit_card",
                  "2",
                  "170.57"
                ],
                [
                  "22",
                  "adfbf6c2a620196f9a3ec747491c72b7",
                  "1",
                  "credit_card",
                  "4",
                  "67.5"
                ],
                [
                  "23",
                  "4d680edbaa7d3d9bed69532957368a03",
                  "1",
                  "credit_card",
                  "10",
                  "353.09"
                ],
                [
                  "24",
                  "8cd68144cdb62dc0d60848cf8616d2a4",
                  "1",
                  "boleto",
                  "1",
                  "330.66"
                ],
                [
                  "25",
                  "5cfd514482e22bc992e7693f0e3e8df7",
                  "2",
                  "voucher",
                  "1",
                  "45.17"
                ],
                [
                  "26",
                  "d0a945f85ba1074b60aac97ade7e240e",
                  "1",
                  "credit_card",
                  "2",
                  "541.0"
                ],
                [
                  "27",
                  "c39414c195d0f94c9d9c35e7c6ed4f1a",
                  "1",
                  "credit_card",
                  "2",
                  "139.22"
                ],
                [
                  "28",
                  "5d9c5817e278892b7498d90bfa28ade8",
                  "1",
                  "credit_card",
                  "2",
                  "290.16"
                ],
                [
                  "29",
                  "b69b9260e79a0da00e15f48de1bd2524",
                  "1",
                  "boleto",
                  "1",
                  "283.34"
                ],
                [
                  "30",
                  "f45074ae38f2e01d9b854ec8d40362ff",
                  "1",
                  "credit_card",
                  "1",
                  "13.78"
                ],
                [
                  "31",
                  "81cedc4d2132eb6f512354166e51b187",
                  "1",
                  "credit_card",
                  "1",
                  "30.28"
                ],
                [
                  "32",
                  "595f598849d89203c28d05d0fbf3f92e",
                  "1",
                  "credit_card",
                  "1",
                  "26.58"
                ],
                [
                  "33",
                  "f9d0ec2fa088ac583e1ccd15b6686073",
                  "1",
                  "credit_card",
                  "1",
                  "89.68"
                ],
                [
                  "34",
                  "e647bf617de735448a4ba54f8910393c",
                  "1",
                  "credit_card",
                  "1",
                  "65.09"
                ],
                [
                  "35",
                  "b2bb080b6bc860118a246fd9b6fad6da",
                  "1",
                  "credit_card",
                  "1",
                  "173.84"
                ],
                [
                  "36",
                  "23f10f509600c30cf2852f9dbdf28fc3",
                  "1",
                  "credit_card",
                  "1",
                  "103.49"
                ],
                [
                  "37",
                  "f86f6472fa9f395d8d9a6751ca118afb",
                  "1",
                  "credit_card",
                  "1",
                  "64.03"
                ],
                [
                  "38",
                  "1dcf0c8cd36ffaf57784fbdc90079310",
                  "1",
                  "credit_card",
                  "3",
                  "157.15"
                ],
                [
                  "39",
                  "00d8d65b666158b633f96054d31af43b",
                  "1",
                  "boleto",
                  "1",
                  "130.88"
                ],
                [
                  "40",
                  "cf30fe76d1505192acee1c6dccb15545",
                  "1",
                  "credit_card",
                  "2",
                  "47.72"
                ],
                [
                  "41",
                  "d3e774a185c0b1b2286ffd6c70abe2e6",
                  "1",
                  "credit_card",
                  "8",
                  "117.74"
                ],
                [
                  "42",
                  "32b1d8f3789a57f1f752e20ac7404b4c",
                  "1",
                  "boleto",
                  "1",
                  "56.6"
                ],
                [
                  "43",
                  "c10d412026c4077b8e83acf0fea04eee",
                  "1",
                  "credit_card",
                  "1",
                  "266.16"
                ],
                [
                  "44",
                  "56c3277583e16009c925fdf116df420f",
                  "1",
                  "boleto",
                  "1",
                  "31.38"
                ],
                [
                  "45",
                  "0e0441786430b7cfcd0d91f822ea4c99",
                  "1",
                  "credit_card",
                  "1",
                  "121.49"
                ],
                [
                  "46",
                  "6ffb3f1686bceae3466facf7e02ce3fb",
                  "1",
                  "credit_card",
                  "1",
                  "32.0"
                ],
                [
                  "47",
                  "afef48d3c8a0b1b7c9b7f8f922fb5674",
                  "1",
                  "credit_card",
                  "5",
                  "153.41"
                ],
                [
                  "48",
                  "c0db7d31ace61fc360a3eaa34dd3457c",
                  "1",
                  "credit_card",
                  "5",
                  "65.71"
                ],
                [
                  "49",
                  "d574338f566ca28dd67820f48ec1f1d8",
                  "1",
                  "credit_card",
                  "4",
                  "278.22"
                ]
              ],
              "shape": {
                "columns": 5,
                "rows": 103886
              }
            },
            "text/html": [
              "<div>\n",
              "<style scoped>\n",
              "    .dataframe tbody tr th:only-of-type {\n",
              "        vertical-align: middle;\n",
              "    }\n",
              "\n",
              "    .dataframe tbody tr th {\n",
              "        vertical-align: top;\n",
              "    }\n",
              "\n",
              "    .dataframe thead th {\n",
              "        text-align: right;\n",
              "    }\n",
              "</style>\n",
              "<table border=\"1\" class=\"dataframe\">\n",
              "  <thead>\n",
              "    <tr style=\"text-align: right;\">\n",
              "      <th></th>\n",
              "      <th>order_id</th>\n",
              "      <th>payment_sequential</th>\n",
              "      <th>payment_type</th>\n",
              "      <th>payment_installments</th>\n",
              "      <th>payment_value</th>\n",
              "    </tr>\n",
              "  </thead>\n",
              "  <tbody>\n",
              "    <tr>\n",
              "      <th>0</th>\n",
              "      <td>b81ef226f3fe1789b1e8b2acac839d17</td>\n",
              "      <td>1</td>\n",
              "      <td>credit_card</td>\n",
              "      <td>8</td>\n",
              "      <td>99.33</td>\n",
              "    </tr>\n",
              "    <tr>\n",
              "      <th>1</th>\n",
              "      <td>a9810da82917af2d9aefd1278f1dcfa0</td>\n",
              "      <td>1</td>\n",
              "      <td>credit_card</td>\n",
              "      <td>1</td>\n",
              "      <td>24.39</td>\n",
              "    </tr>\n",
              "    <tr>\n",
              "      <th>2</th>\n",
              "      <td>25e8ea4e93396b6fa0d3dd708e76c1bd</td>\n",
              "      <td>1</td>\n",
              "      <td>credit_card</td>\n",
              "      <td>1</td>\n",
              "      <td>65.71</td>\n",
              "    </tr>\n",
              "    <tr>\n",
              "      <th>3</th>\n",
              "      <td>ba78997921bbcdc1373bb41e913ab953</td>\n",
              "      <td>1</td>\n",
              "      <td>credit_card</td>\n",
              "      <td>8</td>\n",
              "      <td>107.78</td>\n",
              "    </tr>\n",
              "    <tr>\n",
              "      <th>4</th>\n",
              "      <td>42fdf880ba16b47b59251dd489d4441a</td>\n",
              "      <td>1</td>\n",
              "      <td>credit_card</td>\n",
              "      <td>2</td>\n",
              "      <td>128.45</td>\n",
              "    </tr>\n",
              "    <tr>\n",
              "      <th>...</th>\n",
              "      <td>...</td>\n",
              "      <td>...</td>\n",
              "      <td>...</td>\n",
              "      <td>...</td>\n",
              "      <td>...</td>\n",
              "    </tr>\n",
              "    <tr>\n",
              "      <th>103881</th>\n",
              "      <td>0406037ad97740d563a178ecc7a2075c</td>\n",
              "      <td>1</td>\n",
              "      <td>boleto</td>\n",
              "      <td>1</td>\n",
              "      <td>363.31</td>\n",
              "    </tr>\n",
              "    <tr>\n",
              "      <th>103882</th>\n",
              "      <td>7b905861d7c825891d6347454ea7863f</td>\n",
              "      <td>1</td>\n",
              "      <td>credit_card</td>\n",
              "      <td>2</td>\n",
              "      <td>96.80</td>\n",
              "    </tr>\n",
              "    <tr>\n",
              "      <th>103883</th>\n",
              "      <td>32609bbb3dd69b3c066a6860554a77bf</td>\n",
              "      <td>1</td>\n",
              "      <td>credit_card</td>\n",
              "      <td>1</td>\n",
              "      <td>47.77</td>\n",
              "    </tr>\n",
              "    <tr>\n",
              "      <th>103884</th>\n",
              "      <td>b8b61059626efa996a60be9bb9320e10</td>\n",
              "      <td>1</td>\n",
              "      <td>credit_card</td>\n",
              "      <td>5</td>\n",
              "      <td>369.54</td>\n",
              "    </tr>\n",
              "    <tr>\n",
              "      <th>103885</th>\n",
              "      <td>28bbae6599b09d39ca406b747b6632b1</td>\n",
              "      <td>1</td>\n",
              "      <td>boleto</td>\n",
              "      <td>1</td>\n",
              "      <td>191.58</td>\n",
              "    </tr>\n",
              "  </tbody>\n",
              "</table>\n",
              "<p>103886 rows × 5 columns</p>\n",
              "</div>"
            ],
            "text/plain": [
              "                                order_id  payment_sequential payment_type  \\\n",
              "0       b81ef226f3fe1789b1e8b2acac839d17                   1  credit_card   \n",
              "1       a9810da82917af2d9aefd1278f1dcfa0                   1  credit_card   \n",
              "2       25e8ea4e93396b6fa0d3dd708e76c1bd                   1  credit_card   \n",
              "3       ba78997921bbcdc1373bb41e913ab953                   1  credit_card   \n",
              "4       42fdf880ba16b47b59251dd489d4441a                   1  credit_card   \n",
              "...                                  ...                 ...          ...   \n",
              "103881  0406037ad97740d563a178ecc7a2075c                   1       boleto   \n",
              "103882  7b905861d7c825891d6347454ea7863f                   1  credit_card   \n",
              "103883  32609bbb3dd69b3c066a6860554a77bf                   1  credit_card   \n",
              "103884  b8b61059626efa996a60be9bb9320e10                   1  credit_card   \n",
              "103885  28bbae6599b09d39ca406b747b6632b1                   1       boleto   \n",
              "\n",
              "        payment_installments  payment_value  \n",
              "0                          8          99.33  \n",
              "1                          1          24.39  \n",
              "2                          1          65.71  \n",
              "3                          8         107.78  \n",
              "4                          2         128.45  \n",
              "...                      ...            ...  \n",
              "103881                     1         363.31  \n",
              "103882                     2          96.80  \n",
              "103883                     1          47.77  \n",
              "103884                     5         369.54  \n",
              "103885                     1         191.58  \n",
              "\n",
              "[103886 rows x 5 columns]"
            ]
          },
          "execution_count": 9,
          "metadata": {},
          "output_type": "execute_result"
        }
      ],
      "source": [
        "# Data orders_payment\n",
        "orders_payment_df = pd.read_csv(\"data/order_payments_dataset.csv\")\n",
        "orders_payment_df"
      ]
    },
    {
      "cell_type": "markdown",
      "metadata": {},
      "source": [
        "**Insight Data Orders Payment:**\n",
        "- Data ini merupakan acuan untuk mengetahui pembayaran mana yang paling sering digunakan terhadap tabel `order_id`.\n",
        "- Data ini merupakan titik vital untuk menjawab pertanyaan bisnis"
      ]
    },
    {
      "cell_type": "markdown",
      "metadata": {
        "id": "FHSiqaZp8DC1"
      },
      "source": [
        "### Assessing Data"
      ]
    },
    {
      "cell_type": "code",
      "execution_count": null,
      "metadata": {
        "id": "ax-3tEjc9Cj1"
      },
      "outputs": [
        {
          "data": {
            "text/plain": [
              "customer_id                 0\n",
              "customer_unique_id          0\n",
              "customer_zip_code_prefix    0\n",
              "customer_city               0\n",
              "customer_state              0\n",
              "dtype: int64"
            ]
          },
          "execution_count": 10,
          "metadata": {},
          "output_type": "execute_result"
        }
      ],
      "source": [
        "# Cek data kosong pada data customer\n",
        "customers_df.isnull().sum()"
      ]
    },
    {
      "cell_type": "markdown",
      "metadata": {
        "id": "7dtxhAPrkhPL"
      },
      "source": [
        "**Insight:**\n",
        "- Tidak ditemukan nilai null dalam data Customers, sehingga tidak perlu dilakukan data cleaning terkait missing values."
      ]
    },
    {
      "cell_type": "code",
      "execution_count": null,
      "metadata": {},
      "outputs": [
        {
          "data": {
            "text/plain": [
              "order_id                            0\n",
              "customer_id                         0\n",
              "order_status                        0\n",
              "order_purchase_timestamp            0\n",
              "order_approved_at                 160\n",
              "order_delivered_carrier_date     1783\n",
              "order_delivered_customer_date    2965\n",
              "order_estimated_delivery_date       0\n",
              "dtype: int64"
            ]
          },
          "execution_count": 11,
          "metadata": {},
          "output_type": "execute_result"
        }
      ],
      "source": [
        "# Cek data kosong pada data orders\n",
        "orders_df.isnull().sum()"
      ]
    },
    {
      "cell_type": "markdown",
      "metadata": {},
      "source": [
        "**Insight:**\n",
        "- Ditemukan nilai null dalam data Orders khususnya pada tabel `order_approved_at`, `order_delivered_carrier_date`, `order_delivered_customer_date`. Sehingga perlu dilakukan data cleaning terkait missing values."
      ]
    },
    {
      "cell_type": "code",
      "execution_count": null,
      "metadata": {},
      "outputs": [
        {
          "data": {
            "text/plain": [
              "order_id               0\n",
              "order_item_id          0\n",
              "product_id             0\n",
              "seller_id              0\n",
              "shipping_limit_date    0\n",
              "price                  0\n",
              "freight_value          0\n",
              "dtype: int64"
            ]
          },
          "execution_count": 12,
          "metadata": {},
          "output_type": "execute_result"
        }
      ],
      "source": [
        "# Cek data kosong pada order_item_df\n",
        "order_item_df.isnull().sum()"
      ]
    },
    {
      "cell_type": "markdown",
      "metadata": {},
      "source": [
        "**Insight:**\n",
        "- Tidak ditemukan nilai null dalam data Orders_Item, sehingga tidak perlu dilakukan data cleaning terkait missing values."
      ]
    },
    {
      "cell_type": "code",
      "execution_count": null,
      "metadata": {},
      "outputs": [
        {
          "data": {
            "text/plain": [
              "product_id                      0\n",
              "product_category_name         610\n",
              "product_name_lenght           610\n",
              "product_description_lenght    610\n",
              "product_photos_qty            610\n",
              "product_weight_g                2\n",
              "product_length_cm               2\n",
              "product_height_cm               2\n",
              "product_width_cm                2\n",
              "dtype: int64"
            ]
          },
          "execution_count": 13,
          "metadata": {},
          "output_type": "execute_result"
        }
      ],
      "source": [
        "# Cek data kosong pada data products\n",
        "products_df.isnull().sum()"
      ]
    },
    {
      "cell_type": "markdown",
      "metadata": {},
      "source": [
        "**Insight:**\n",
        "- Ditemukan nilai null dalam data keseluruhan Products kecuali `product_id`. Sehingga tidak perlu dilakukan data cleaning terkait missing values."
      ]
    },
    {
      "cell_type": "code",
      "execution_count": null,
      "metadata": {},
      "outputs": [
        {
          "data": {
            "text/plain": [
              "product_category_name            0\n",
              "product_category_name_english    0\n",
              "dtype: int64"
            ]
          },
          "execution_count": 14,
          "metadata": {},
          "output_type": "execute_result"
        }
      ],
      "source": [
        "# Cek data kosong pada products_category_translate_df\n",
        "products_category_translate_df.isnull().sum()"
      ]
    },
    {
      "cell_type": "markdown",
      "metadata": {},
      "source": [
        "**Insight:**\n",
        "- Tidak ditemukan nilai null dalam data Product_Category, sehingga tidak perlu dilakukan data cleaning terkait missing values."
      ]
    },
    {
      "cell_type": "code",
      "execution_count": null,
      "metadata": {},
      "outputs": [
        {
          "data": {
            "text/plain": [
              "order_id                0\n",
              "payment_sequential      0\n",
              "payment_type            0\n",
              "payment_installments    0\n",
              "payment_value           0\n",
              "dtype: int64"
            ]
          },
          "execution_count": 15,
          "metadata": {},
          "output_type": "execute_result"
        }
      ],
      "source": [
        "# Cek data kosong pada data orders_payment\n",
        "orders_payment_df.isnull().sum()"
      ]
    },
    {
      "cell_type": "markdown",
      "metadata": {},
      "source": [
        "**Insight:**\n",
        "- Tidak ditemukan nilai null dalam data Orders_Payment, sehingga tidak perlu dilakukan data cleaning terkait missing values."
      ]
    },
    {
      "cell_type": "markdown",
      "metadata": {
        "id": "EhN5R4hr8DC1"
      },
      "source": [
        "### Cleaning Data"
      ]
    },
    {
      "cell_type": "code",
      "execution_count": null,
      "metadata": {
        "id": "jVnYpprE9Evz"
      },
      "outputs": [],
      "source": [
        "# Drop missing values\n",
        "orders_df.dropna(axis=0, inplace=True)"
      ]
    },
    {
      "cell_type": "code",
      "execution_count": null,
      "metadata": {},
      "outputs": [
        {
          "data": {
            "text/plain": [
              "order_id                         0\n",
              "customer_id                      0\n",
              "order_status                     0\n",
              "order_purchase_timestamp         0\n",
              "order_approved_at                0\n",
              "order_delivered_carrier_date     0\n",
              "order_delivered_customer_date    0\n",
              "order_estimated_delivery_date    0\n",
              "dtype: int64"
            ]
          },
          "execution_count": 17,
          "metadata": {},
          "output_type": "execute_result"
        }
      ],
      "source": [
        "# Cek data yang kosong\n",
        "orders_df.isnull().sum()"
      ]
    },
    {
      "cell_type": "markdown",
      "metadata": {
        "id": "Q_5ejIqckiSP"
      },
      "source": [
        "**Insight:**\n",
        "- Metode cleaning data yang dipakai yaitu Dropping `.dropna()` karena semua fitur yang tidak berkaitan akan beresiko jika menggunakan metode Imputation `.fillna()` dan juga Interpolation `.interpolate()`."
      ]
    },
    {
      "cell_type": "code",
      "execution_count": null,
      "metadata": {},
      "outputs": [],
      "source": [
        "# Hapus data yang missing value\n",
        "products_df.dropna(axis=0, inplace=True)"
      ]
    },
    {
      "cell_type": "code",
      "execution_count": null,
      "metadata": {},
      "outputs": [
        {
          "data": {
            "text/plain": [
              "product_id                    0\n",
              "product_category_name         0\n",
              "product_name_lenght           0\n",
              "product_description_lenght    0\n",
              "product_photos_qty            0\n",
              "product_weight_g              0\n",
              "product_length_cm             0\n",
              "product_height_cm             0\n",
              "product_width_cm              0\n",
              "dtype: int64"
            ]
          },
          "execution_count": 19,
          "metadata": {},
          "output_type": "execute_result"
        }
      ],
      "source": [
        "# Cek missing value\n",
        "products_df.isnull().sum()"
      ]
    },
    {
      "cell_type": "markdown",
      "metadata": {},
      "source": [
        "**Insight:**\n",
        "- Metode cleaning data yang dipakai yaitu Dropping `.dropna()` karena semua fitur yang tidak berkaitan akan beresiko jika menggunakan metode Imputation `.fillna()` dan juga Interpolation `.interpolate()`."
      ]
    },
    {
      "cell_type": "markdown",
      "metadata": {
        "id": "gp-Y6wU38DC1"
      },
      "source": [
        "## Exploratory Data Analysis (EDA)"
      ]
    },
    {
      "cell_type": "markdown",
      "metadata": {
        "id": "MW7WF2kr8DC1"
      },
      "source": [
        "### Explore Customers"
      ]
    },
    {
      "cell_type": "code",
      "execution_count": null,
      "metadata": {
        "id": "e9CQCZjk8DC2"
      },
      "outputs": [
        {
          "data": {
            "application/vnd.microsoft.datawrangler.viewer.v0+json": {
              "columns": [
                {
                  "name": "index",
                  "rawType": "object",
                  "type": "string"
                },
                {
                  "name": "customer_zip_code_prefix",
                  "rawType": "float64",
                  "type": "float"
                }
              ],
              "conversionMethod": "pd.DataFrame",
              "ref": "200ff30c-32c8-4c49-96b3-ee8e414904c6",
              "rows": [
                [
                  "count",
                  "99441.0"
                ],
                [
                  "mean",
                  "35137.47458291851"
                ],
                [
                  "std",
                  "29797.938996206118"
                ],
                [
                  "min",
                  "1003.0"
                ],
                [
                  "25%",
                  "11347.0"
                ],
                [
                  "50%",
                  "24416.0"
                ],
                [
                  "75%",
                  "58900.0"
                ],
                [
                  "max",
                  "99990.0"
                ]
              ],
              "shape": {
                "columns": 1,
                "rows": 8
              }
            },
            "text/html": [
              "<div>\n",
              "<style scoped>\n",
              "    .dataframe tbody tr th:only-of-type {\n",
              "        vertical-align: middle;\n",
              "    }\n",
              "\n",
              "    .dataframe tbody tr th {\n",
              "        vertical-align: top;\n",
              "    }\n",
              "\n",
              "    .dataframe thead th {\n",
              "        text-align: right;\n",
              "    }\n",
              "</style>\n",
              "<table border=\"1\" class=\"dataframe\">\n",
              "  <thead>\n",
              "    <tr style=\"text-align: right;\">\n",
              "      <th></th>\n",
              "      <th>customer_zip_code_prefix</th>\n",
              "    </tr>\n",
              "  </thead>\n",
              "  <tbody>\n",
              "    <tr>\n",
              "      <th>count</th>\n",
              "      <td>99441.000000</td>\n",
              "    </tr>\n",
              "    <tr>\n",
              "      <th>mean</th>\n",
              "      <td>35137.474583</td>\n",
              "    </tr>\n",
              "    <tr>\n",
              "      <th>std</th>\n",
              "      <td>29797.938996</td>\n",
              "    </tr>\n",
              "    <tr>\n",
              "      <th>min</th>\n",
              "      <td>1003.000000</td>\n",
              "    </tr>\n",
              "    <tr>\n",
              "      <th>25%</th>\n",
              "      <td>11347.000000</td>\n",
              "    </tr>\n",
              "    <tr>\n",
              "      <th>50%</th>\n",
              "      <td>24416.000000</td>\n",
              "    </tr>\n",
              "    <tr>\n",
              "      <th>75%</th>\n",
              "      <td>58900.000000</td>\n",
              "    </tr>\n",
              "    <tr>\n",
              "      <th>max</th>\n",
              "      <td>99990.000000</td>\n",
              "    </tr>\n",
              "  </tbody>\n",
              "</table>\n",
              "</div>"
            ],
            "text/plain": [
              "       customer_zip_code_prefix\n",
              "count              99441.000000\n",
              "mean               35137.474583\n",
              "std                29797.938996\n",
              "min                 1003.000000\n",
              "25%                11347.000000\n",
              "50%                24416.000000\n",
              "75%                58900.000000\n",
              "max                99990.000000"
            ]
          },
          "execution_count": 20,
          "metadata": {},
          "output_type": "execute_result"
        }
      ],
      "source": [
        "# Deskripsi data\n",
        "customers_df.describe()"
      ]
    },
    {
      "cell_type": "code",
      "execution_count": null,
      "metadata": {},
      "outputs": [
        {
          "data": {
            "text/plain": [
              "14994"
            ]
          },
          "execution_count": 21,
          "metadata": {},
          "output_type": "execute_result"
        }
      ],
      "source": [
        "# Melihat nunber of unique values dari customer_zip_code_prefix\n",
        "customers_df['customer_zip_code_prefix'].nunique()\n"
      ]
    },
    {
      "cell_type": "code",
      "execution_count": null,
      "metadata": {},
      "outputs": [
        {
          "data": {
            "text/plain": [
              "customer_zip_code_prefix\n",
              "22790    142\n",
              "24220    124\n",
              "22793    121\n",
              "24230    117\n",
              "22775    110\n",
              "29101    101\n",
              "13212     95\n",
              "35162     93\n",
              "22631     89\n",
              "38400     87\n",
              "Name: count, dtype: int64"
            ]
          },
          "execution_count": 22,
          "metadata": {},
          "output_type": "execute_result"
        }
      ],
      "source": [
        "# Melihat 10 kode pos terbanyak\n",
        "customers_df['customer_zip_code_prefix'].value_counts().head(10)\n"
      ]
    },
    {
      "cell_type": "markdown",
      "metadata": {
        "id": "th_Lzl2Fkj9O"
      },
      "source": [
        "**Insight:**\n",
        "- Dari data Customers, satu-satunya informasi numerik yang bisa dianalisis secara statistik adalah `customer_zip_code_prefix`. \n",
        "- Terdapat 14.994 kode pos unik, menunjukkan penyebaran pelanggan yang luas.\n",
        "- Kode pos dengan jumlah pengiriman terbanyak adalah 22790, yang mungkin menunjukkan area dengan konsentrasi pelanggan atau aktivitas e-commerce yang tinggi.\n"
      ]
    },
    {
      "cell_type": "markdown",
      "metadata": {},
      "source": [
        "### Explore Orders"
      ]
    },
    {
      "cell_type": "code",
      "execution_count": null,
      "metadata": {},
      "outputs": [
        {
          "data": {
            "application/vnd.microsoft.datawrangler.viewer.v0+json": {
              "columns": [
                {
                  "name": "index",
                  "rawType": "int64",
                  "type": "integer"
                },
                {
                  "name": "order_id",
                  "rawType": "object",
                  "type": "string"
                },
                {
                  "name": "customer_id",
                  "rawType": "object",
                  "type": "string"
                },
                {
                  "name": "order_status",
                  "rawType": "object",
                  "type": "string"
                },
                {
                  "name": "order_purchase_timestamp",
                  "rawType": "object",
                  "type": "string"
                },
                {
                  "name": "order_approved_at",
                  "rawType": "object",
                  "type": "string"
                },
                {
                  "name": "order_delivered_carrier_date",
                  "rawType": "object",
                  "type": "string"
                },
                {
                  "name": "order_delivered_customer_date",
                  "rawType": "object",
                  "type": "string"
                },
                {
                  "name": "order_estimated_delivery_date",
                  "rawType": "object",
                  "type": "string"
                },
                {
                  "name": "order_item_id",
                  "rawType": "int64",
                  "type": "integer"
                },
                {
                  "name": "product_id",
                  "rawType": "object",
                  "type": "string"
                },
                {
                  "name": "seller_id",
                  "rawType": "object",
                  "type": "string"
                },
                {
                  "name": "shipping_limit_date",
                  "rawType": "object",
                  "type": "string"
                },
                {
                  "name": "price",
                  "rawType": "float64",
                  "type": "float"
                },
                {
                  "name": "freight_value",
                  "rawType": "float64",
                  "type": "float"
                },
                {
                  "name": "payment_sequential",
                  "rawType": "float64",
                  "type": "float"
                },
                {
                  "name": "payment_type",
                  "rawType": "object",
                  "type": "unknown"
                },
                {
                  "name": "payment_installments",
                  "rawType": "float64",
                  "type": "float"
                },
                {
                  "name": "payment_value",
                  "rawType": "float64",
                  "type": "float"
                }
              ],
              "conversionMethod": "pd.DataFrame",
              "ref": "7446259e-c1f7-4f26-b4a9-5db755905998",
              "rows": [
                [
                  "0",
                  "e481f51cbdc54678b7cc49136f2d6af7",
                  "9ef432eb6251297304e76186b10a928d",
                  "delivered",
                  "2017-10-02 10:56:33",
                  "2017-10-02 11:07:15",
                  "2017-10-04 19:55:00",
                  "2017-10-10 21:25:13",
                  "2017-10-18 00:00:00",
                  "1",
                  "87285b34884572647811a353c7ac498a",
                  "3504c0cb71d7fa48d967e0e4c94d59d9",
                  "2017-10-06 11:07:15",
                  "29.99",
                  "8.72",
                  "1.0",
                  "credit_card",
                  "1.0",
                  "18.12"
                ],
                [
                  "1",
                  "e481f51cbdc54678b7cc49136f2d6af7",
                  "9ef432eb6251297304e76186b10a928d",
                  "delivered",
                  "2017-10-02 10:56:33",
                  "2017-10-02 11:07:15",
                  "2017-10-04 19:55:00",
                  "2017-10-10 21:25:13",
                  "2017-10-18 00:00:00",
                  "1",
                  "87285b34884572647811a353c7ac498a",
                  "3504c0cb71d7fa48d967e0e4c94d59d9",
                  "2017-10-06 11:07:15",
                  "29.99",
                  "8.72",
                  "3.0",
                  "voucher",
                  "1.0",
                  "2.0"
                ],
                [
                  "2",
                  "e481f51cbdc54678b7cc49136f2d6af7",
                  "9ef432eb6251297304e76186b10a928d",
                  "delivered",
                  "2017-10-02 10:56:33",
                  "2017-10-02 11:07:15",
                  "2017-10-04 19:55:00",
                  "2017-10-10 21:25:13",
                  "2017-10-18 00:00:00",
                  "1",
                  "87285b34884572647811a353c7ac498a",
                  "3504c0cb71d7fa48d967e0e4c94d59d9",
                  "2017-10-06 11:07:15",
                  "29.99",
                  "8.72",
                  "2.0",
                  "voucher",
                  "1.0",
                  "18.59"
                ],
                [
                  "3",
                  "53cdb2fc8bc7dce0b6741e2150273451",
                  "b0830fb4747a6c6d20dea0b8c802d7ef",
                  "delivered",
                  "2018-07-24 20:41:37",
                  "2018-07-26 03:24:27",
                  "2018-07-26 14:31:00",
                  "2018-08-07 15:27:45",
                  "2018-08-13 00:00:00",
                  "1",
                  "595fac2a385ac33a80bd5114aec74eb8",
                  "289cdb325fb7e7f891c38608bf9e0962",
                  "2018-07-30 03:24:27",
                  "118.7",
                  "22.76",
                  "1.0",
                  "boleto",
                  "1.0",
                  "141.46"
                ],
                [
                  "4",
                  "47770eb9100c2d0c44946d9cf07ec65d",
                  "41ce2a54c0b03bf3443c3d931a367089",
                  "delivered",
                  "2018-08-08 08:38:49",
                  "2018-08-08 08:55:23",
                  "2018-08-08 13:50:00",
                  "2018-08-17 18:06:29",
                  "2018-09-04 00:00:00",
                  "1",
                  "aa4383b373c6aca5d8797843e5594415",
                  "4869f7a5dfa277a7dca6462dcf3b52b2",
                  "2018-08-13 08:55:23",
                  "159.9",
                  "19.22",
                  "1.0",
                  "credit_card",
                  "3.0",
                  "179.12"
                ],
                [
                  "5",
                  "949d5b44dbf5de918fe9c16f97b45f8a",
                  "f88197465ea7920adcdbec7375364d82",
                  "delivered",
                  "2017-11-18 19:28:06",
                  "2017-11-18 19:45:59",
                  "2017-11-22 13:39:59",
                  "2017-12-02 00:28:42",
                  "2017-12-15 00:00:00",
                  "1",
                  "d0b61bfb1de832b15ba9d266ca96e5b0",
                  "66922902710d126a0e7d26b0e3805106",
                  "2017-11-23 19:45:59",
                  "45.0",
                  "27.2",
                  "1.0",
                  "credit_card",
                  "1.0",
                  "72.2"
                ],
                [
                  "6",
                  "ad21c59c0840e6cb83a9ceb5573f8159",
                  "8ab97904e6daea8866dbdbc4fb7aad2c",
                  "delivered",
                  "2018-02-13 21:18:39",
                  "2018-02-13 22:20:29",
                  "2018-02-14 19:46:34",
                  "2018-02-16 18:17:02",
                  "2018-02-26 00:00:00",
                  "1",
                  "65266b2da20d04dbe00c5c2d3bb7859e",
                  "2c9e548be18521d1c43cde1c582c6de8",
                  "2018-02-19 20:31:37",
                  "19.9",
                  "8.72",
                  "1.0",
                  "credit_card",
                  "1.0",
                  "28.62"
                ],
                [
                  "7",
                  "a4591c265e18cb1dcee52889e2d8acc3",
                  "503740e9ca751ccdda7ba28e9ab8f608",
                  "delivered",
                  "2017-07-09 21:57:05",
                  "2017-07-09 22:10:13",
                  "2017-07-11 14:58:04",
                  "2017-07-26 10:57:55",
                  "2017-08-01 00:00:00",
                  "1",
                  "060cb19345d90064d1015407193c233d",
                  "8581055ce74af1daba164fdbd55a40de",
                  "2017-07-13 22:10:13",
                  "147.9",
                  "27.36",
                  "1.0",
                  "credit_card",
                  "6.0",
                  "175.26"
                ],
                [
                  "8",
                  "6514b8ad8028c9f2cc2374ded245783f",
                  "9bdf08b4b3b52b5526ff42d37d47f222",
                  "delivered",
                  "2017-05-16 13:10:30",
                  "2017-05-16 13:22:11",
                  "2017-05-22 10:07:46",
                  "2017-05-26 12:55:51",
                  "2017-06-07 00:00:00",
                  "1",
                  "4520766ec412348b8d4caa5e8a18c464",
                  "16090f2ca825584b5a147ab24aa30c86",
                  "2017-05-22 13:22:11",
                  "59.99",
                  "15.17",
                  "1.0",
                  "credit_card",
                  "3.0",
                  "75.16"
                ],
                [
                  "9",
                  "76c6e866289321a7c93b82b54852dc33",
                  "f54a9f0e6b351c431402b8461ea51999",
                  "delivered",
                  "2017-01-23 18:29:09",
                  "2017-01-25 02:50:47",
                  "2017-01-26 14:16:31",
                  "2017-02-02 14:08:10",
                  "2017-03-06 00:00:00",
                  "1",
                  "ac1789e492dcd698c5c10b97a671243a",
                  "63b9ae557efed31d1f7687917d248a8d",
                  "2017-01-27 18:29:09",
                  "19.9",
                  "16.05",
                  "1.0",
                  "boleto",
                  "1.0",
                  "35.95"
                ],
                [
                  "10",
                  "e69bfb5eb88e0ed6a785585b27e16dbf",
                  "31ad1d1b63eb9962463f764d4e6e0c9d",
                  "delivered",
                  "2017-07-29 11:55:02",
                  "2017-07-29 12:05:32",
                  "2017-08-10 19:45:24",
                  "2017-08-16 17:14:30",
                  "2017-08-23 00:00:00",
                  "1",
                  "9a78fb9862b10749a117f7fc3c31f051",
                  "7c67e1448b00f6e969d365cea6b010ab",
                  "2017-08-11 12:05:32",
                  "149.99",
                  "19.77",
                  "2.0",
                  "voucher",
                  "1.0",
                  "161.42"
                ],
                [
                  "11",
                  "e69bfb5eb88e0ed6a785585b27e16dbf",
                  "31ad1d1b63eb9962463f764d4e6e0c9d",
                  "delivered",
                  "2017-07-29 11:55:02",
                  "2017-07-29 12:05:32",
                  "2017-08-10 19:45:24",
                  "2017-08-16 17:14:30",
                  "2017-08-23 00:00:00",
                  "1",
                  "9a78fb9862b10749a117f7fc3c31f051",
                  "7c67e1448b00f6e969d365cea6b010ab",
                  "2017-08-11 12:05:32",
                  "149.99",
                  "19.77",
                  "1.0",
                  "credit_card",
                  "1.0",
                  "8.34"
                ],
                [
                  "12",
                  "e6ce16cb79ec1d90b1da9085a6118aeb",
                  "494dded5b201313c64ed7f100595b95c",
                  "delivered",
                  "2017-05-16 19:41:10",
                  "2017-05-16 19:50:18",
                  "2017-05-18 11:40:40",
                  "2017-05-29 11:18:31",
                  "2017-06-07 00:00:00",
                  "1",
                  "08574b074924071f4e201e151b152b4e",
                  "001cca7ae9ae17fb1caed9dfb1094831",
                  "2017-05-22 19:50:18",
                  "99.0",
                  "30.53",
                  "1.0",
                  "credit_card",
                  "1.0",
                  "259.06"
                ],
                [
                  "13",
                  "e6ce16cb79ec1d90b1da9085a6118aeb",
                  "494dded5b201313c64ed7f100595b95c",
                  "delivered",
                  "2017-05-16 19:41:10",
                  "2017-05-16 19:50:18",
                  "2017-05-18 11:40:40",
                  "2017-05-29 11:18:31",
                  "2017-06-07 00:00:00",
                  "2",
                  "08574b074924071f4e201e151b152b4e",
                  "001cca7ae9ae17fb1caed9dfb1094831",
                  "2017-05-22 19:50:18",
                  "99.0",
                  "30.53",
                  "1.0",
                  "credit_card",
                  "1.0",
                  "259.06"
                ],
                [
                  "14",
                  "34513ce0c4fab462a55830c0989c7edb",
                  "7711cf624183d843aafe81855097bc37",
                  "delivered",
                  "2017-07-13 19:58:11",
                  "2017-07-13 20:10:08",
                  "2017-07-14 18:43:29",
                  "2017-07-19 14:04:48",
                  "2017-08-08 00:00:00",
                  "1",
                  "f7e0fa615b386bc9a8b9eb52bc1fff76",
                  "87142160b41353c4e5fca2360caf6f92",
                  "2017-07-19 20:10:08",
                  "98.0",
                  "16.13",
                  "1.0",
                  "credit_card",
                  "1.0",
                  "114.13"
                ],
                [
                  "15",
                  "82566a660a982b15fb86e904c8d32918",
                  "d3e3b74c766bc6214e0c830b17ee2341",
                  "delivered",
                  "2018-06-07 10:06:19",
                  "2018-06-09 03:13:12",
                  "2018-06-11 13:29:00",
                  "2018-06-19 12:05:52",
                  "2018-07-18 00:00:00",
                  "1",
                  "72a97c271b2e429974398f46b93ae530",
                  "094ced053e257ae8cae57205592d6712",
                  "2018-06-18 03:13:12",
                  "31.9",
                  "18.23",
                  "1.0",
                  "boleto",
                  "1.0",
                  "50.13"
                ],
                [
                  "16",
                  "5ff96c15d0b717ac6ad1f3d77225a350",
                  "19402a48fe860416adf93348aba37740",
                  "delivered",
                  "2018-07-25 17:44:10",
                  "2018-07-25 17:55:14",
                  "2018-07-26 13:16:00",
                  "2018-07-30 15:52:25",
                  "2018-08-08 00:00:00",
                  "1",
                  "10adb53d8faa890ca7c2f0cbcb68d777",
                  "1900267e848ceeba8fa32d80c1a5f5a8",
                  "2018-07-27 17:55:14",
                  "19.9",
                  "12.8",
                  "1.0",
                  "credit_card",
                  "3.0",
                  "32.7"
                ],
                [
                  "17",
                  "432aaf21d85167c2c86ec9448c4e42cc",
                  "3df704f53d3f1d4818840b34ec672a9f",
                  "delivered",
                  "2018-03-01 14:14:28",
                  "2018-03-01 15:10:47",
                  "2018-03-02 21:09:20",
                  "2018-03-12 23:36:26",
                  "2018-03-21 00:00:00",
                  "1",
                  "72d3bf1d3a790f8874096fcf860e3eff",
                  "0bae85eb84b9fb3bd773911e89288d54",
                  "2018-03-07 15:10:47",
                  "38.25",
                  "16.11",
                  "1.0",
                  "credit_card",
                  "1.0",
                  "54.36"
                ],
                [
                  "18",
                  "dcb36b511fcac050b97cd5c05de84dc3",
                  "3b6828a50ffe546942b7a473d70ac0fc",
                  "delivered",
                  "2018-06-07 19:03:12",
                  "2018-06-12 23:31:02",
                  "2018-06-11 14:54:00",
                  "2018-06-21 15:34:32",
                  "2018-07-04 00:00:00",
                  "1",
                  "009c09f439988bc06a93d6b8186dce73",
                  "89a51f50b8095ea78d5768f34c13a76f",
                  "2018-06-18 18:59:02",
                  "132.4",
                  "14.05",
                  "1.0",
                  "credit_card",
                  "10.0",
                  "146.45"
                ],
                [
                  "19",
                  "403b97836b0c04a622354cf531062e5f",
                  "738b086814c6fcc74b8cc583f8516ee3",
                  "delivered",
                  "2018-01-02 19:00:43",
                  "2018-01-02 19:09:04",
                  "2018-01-03 18:19:09",
                  "2018-01-20 01:38:59",
                  "2018-02-06 00:00:00",
                  "1",
                  "638bbb2a5e4f360b71f332ddfebfd672",
                  "c4af86330efa7a2620772227d2d670c9",
                  "2018-01-12 19:09:04",
                  "1299.0",
                  "77.45",
                  "1.0",
                  "credit_card",
                  "10.0",
                  "1376.45"
                ],
                [
                  "20",
                  "116f0b09343b49556bbad5f35bee0cdf",
                  "3187789bec990987628d7a9beb4dd6ac",
                  "delivered",
                  "2017-12-26 23:41:31",
                  "2017-12-26 23:50:22",
                  "2017-12-28 18:33:05",
                  "2018-01-08 22:36:36",
                  "2018-01-29 00:00:00",
                  "1",
                  "a47295965bd091207681b541b26e40a5",
                  "ea8482cd71df3c1969d7b9473ff13abc",
                  "2018-01-02 23:50:22",
                  "27.99",
                  "15.1",
                  "1.0",
                  "credit_card",
                  "4.0",
                  "43.09"
                ],
                [
                  "21",
                  "85ce859fd6dc634de8d2f1e290444043",
                  "059f7fc5719c7da6cbafe370971a8d70",
                  "delivered",
                  "2017-11-21 00:03:41",
                  "2017-11-21 00:14:22",
                  "2017-11-23 21:32:26",
                  "2017-11-27 18:28:00",
                  "2017-12-11 00:00:00",
                  "1",
                  "cce679660c66e6fbd5c8091dfd29e9cd",
                  "d2374cbcbb3ca4ab1086534108cc3ab7",
                  "2017-11-29 00:14:22",
                  "17.9",
                  "11.85",
                  "1.0",
                  "credit_card",
                  "1.0",
                  "29.75"
                ],
                [
                  "22",
                  "83018ec114eee8641c97e08f7b4e926f",
                  "7f8c8b9c2ae27bf3300f670c3d478be8",
                  "delivered",
                  "2017-10-26 15:54:26",
                  "2017-10-26 16:08:14",
                  "2017-10-26 21:46:53",
                  "2017-11-08 22:22:00",
                  "2017-11-23 00:00:00",
                  "1",
                  "c35498fbb4358837ae16850f50c3fd22",
                  "70a12e78e608ac31179aea7f8422044b",
                  "2017-11-01 16:07:35",
                  "76.0",
                  "16.97",
                  "2.0",
                  "voucher",
                  "1.0",
                  "62.15"
                ],
                [
                  "23",
                  "83018ec114eee8641c97e08f7b4e926f",
                  "7f8c8b9c2ae27bf3300f670c3d478be8",
                  "delivered",
                  "2017-10-26 15:54:26",
                  "2017-10-26 16:08:14",
                  "2017-10-26 21:46:53",
                  "2017-11-08 22:22:00",
                  "2017-11-23 00:00:00",
                  "1",
                  "c35498fbb4358837ae16850f50c3fd22",
                  "70a12e78e608ac31179aea7f8422044b",
                  "2017-11-01 16:07:35",
                  "76.0",
                  "16.97",
                  "3.0",
                  "voucher",
                  "1.0",
                  "24.86"
                ],
                [
                  "24",
                  "83018ec114eee8641c97e08f7b4e926f",
                  "7f8c8b9c2ae27bf3300f670c3d478be8",
                  "delivered",
                  "2017-10-26 15:54:26",
                  "2017-10-26 16:08:14",
                  "2017-10-26 21:46:53",
                  "2017-11-08 22:22:00",
                  "2017-11-23 00:00:00",
                  "1",
                  "c35498fbb4358837ae16850f50c3fd22",
                  "70a12e78e608ac31179aea7f8422044b",
                  "2017-11-01 16:07:35",
                  "76.0",
                  "16.97",
                  "1.0",
                  "credit_card",
                  "1.0",
                  "5.96"
                ],
                [
                  "25",
                  "203096f03d82e0dffbc41ebc2e2bcfb7",
                  "d2b091571da224a1b36412c18bc3bbfe",
                  "delivered",
                  "2017-09-18 14:31:30",
                  "2017-09-19 04:04:09",
                  "2017-10-06 17:50:03",
                  "2017-10-09 22:23:46",
                  "2017-09-28 00:00:00",
                  "1",
                  "5ac9d9e379c606e36a8094a6046f75dc",
                  "633ecdf879b94b5337cca303328e4a25",
                  "2017-09-25 04:04:09",
                  "109.9",
                  "8.96",
                  "1.0",
                  "boleto",
                  "1.0",
                  "118.86"
                ],
                [
                  "26",
                  "f848643eec1d69395095eb3840d2051e",
                  "4fa1cd166fa598be6de80fa84eaade43",
                  "delivered",
                  "2018-03-15 08:52:40",
                  "2018-03-15 09:09:31",
                  "2018-03-15 19:52:48",
                  "2018-03-19 18:08:32",
                  "2018-03-29 00:00:00",
                  "1",
                  "2b4609f8948be18874494203496bc318",
                  "cc419e0650a3c5ba77189a1882b7556a",
                  "2018-03-23 09:09:31",
                  "79.99",
                  "8.91",
                  "1.0",
                  "credit_card",
                  "4.0",
                  "88.9"
                ],
                [
                  "27",
                  "2807d0e504d6d4894d41672727bc139f",
                  "72ae281627a6102d9b3718528b420f8a",
                  "delivered",
                  "2018-02-03 20:37:35",
                  "2018-02-03 20:50:22",
                  "2018-02-05 22:37:28",
                  "2018-02-08 16:13:46",
                  "2018-02-21 00:00:00",
                  "1",
                  "6893767814d1ac82a81bcd365e1cc918",
                  "8b321bb669392f5163d04c59e235e066",
                  "2018-02-08 20:50:22",
                  "9.5",
                  "7.78",
                  "1.0",
                  "credit_card",
                  "1.0",
                  "17.28"
                ],
                [
                  "28",
                  "95266dbfb7e20354baba07964dac78d5",
                  "a166da34890074091a942054b36e4265",
                  "delivered",
                  "2018-01-08 07:55:29",
                  "2018-01-08 08:07:31",
                  "2018-01-24 23:16:37",
                  "2018-01-26 17:32:38",
                  "2018-02-21 00:00:00",
                  "1",
                  "bb7181410b4e02f93f3697f765db53c7",
                  "855668e0971d4dfd7bef1b6a4133b41b",
                  "2018-01-26 08:07:31",
                  "129.99",
                  "57.58",
                  "1.0",
                  "credit_card",
                  "3.0",
                  "187.57"
                ],
                [
                  "29",
                  "f3e7c359154d965827355f39d6b1fdac",
                  "62b423aab58096ca514ba6aa06be2f98",
                  "delivered",
                  "2018-08-09 11:44:40",
                  "2018-08-10 03:24:51",
                  "2018-08-10 12:29:00",
                  "2018-08-13 18:24:27",
                  "2018-08-17 00:00:00",
                  "1",
                  "e99d69efe684efaa643f99805f7c81bc",
                  "55c26bcb609f480eb7868594245febb5",
                  "2018-08-14 03:24:51",
                  "89.9",
                  "14.21",
                  "1.0",
                  "boleto",
                  "1.0",
                  "104.11"
                ],
                [
                  "30",
                  "fbf9ac61453ac646ce8ad9783d7d0af6",
                  "3a874b4d4c4b6543206ff5d89287f0c3",
                  "delivered",
                  "2018-02-20 23:46:53",
                  "2018-02-22 02:30:46",
                  "2018-02-26 22:25:22",
                  "2018-03-21 22:03:54",
                  "2018-03-12 00:00:00",
                  "1",
                  "7b717060aa783eb7f23a747a3a733dd7",
                  "c0563dd588b775f2e37747ef6ad6c92c",
                  "2018-02-28 02:30:44",
                  "109.9",
                  "15.53",
                  "1.0",
                  "boleto",
                  "1.0",
                  "125.43"
                ],
                [
                  "31",
                  "acce194856392f074dbf9dada14d8d82",
                  "7e20bf5ca92da68200643bda76c504c6",
                  "delivered",
                  "2018-06-04 00:00:13",
                  "2018-06-05 00:35:10",
                  "2018-06-05 13:24:00",
                  "2018-06-16 15:20:55",
                  "2018-07-18 00:00:00",
                  "1",
                  "d70f38e7f79c630f8ea00c993897042c",
                  "977f9f63dd360c2a32ece2f93ad6d306",
                  "2018-06-13 00:35:10",
                  "90.9",
                  "48.64",
                  "1.0",
                  "credit_card",
                  "10.0",
                  "227.68"
                ],
                [
                  "32",
                  "acce194856392f074dbf9dada14d8d82",
                  "7e20bf5ca92da68200643bda76c504c6",
                  "delivered",
                  "2018-06-04 00:00:13",
                  "2018-06-05 00:35:10",
                  "2018-06-05 13:24:00",
                  "2018-06-16 15:20:55",
                  "2018-07-18 00:00:00",
                  "2",
                  "9451e630d725c4bb7a5a206b48b99486",
                  "d673a59aac7a70d8b01e6902bf090a11",
                  "2018-06-13 00:35:10",
                  "39.5",
                  "48.64",
                  "1.0",
                  "credit_card",
                  "10.0",
                  "227.68"
                ],
                [
                  "33",
                  "dd78f560c270f1909639c11b925620ea",
                  "8b212b9525f9e74e85e37ed6df37693e",
                  "delivered",
                  "2018-03-12 01:50:26",
                  "2018-03-12 03:28:34",
                  "2018-03-12 21:06:37",
                  "2018-03-21 14:41:50",
                  "2018-03-28 00:00:00",
                  "1",
                  "00baba5b58e274d0332a0c8a0a66f877",
                  "d3f39f05462b79a4562d35893a28f159",
                  "2018-03-16 02:30:56",
                  "47.9",
                  "12.79",
                  "1.0",
                  "credit_card",
                  "2.0",
                  "60.69"
                ],
                [
                  "34",
                  "91b2a010e1e45e6ba3d133fa997597be",
                  "cce89a605105b148387c52e286ac8335",
                  "delivered",
                  "2018-05-02 11:45:38",
                  "2018-05-03 12:55:01",
                  "2018-05-10 16:16:00",
                  "2018-05-16 20:56:24",
                  "2018-05-23 00:00:00",
                  "1",
                  "ba74c6b75d2ad7503175809688d5a03c",
                  "7d13fca15225358621be4086e1eb0964",
                  "2018-05-09 12:55:01",
                  "178.99",
                  "13.69",
                  "1.0",
                  "credit_card",
                  "8.0",
                  "192.68"
                ],
                [
                  "35",
                  "ecab90c9933c58908d3d6add7c6f5ae3",
                  "761df82feda9778854c6dafdaeb567e4",
                  "delivered",
                  "2018-02-25 13:50:30",
                  "2018-02-25 14:47:35",
                  "2018-02-26 22:28:50",
                  "2018-03-27 23:29:14",
                  "2018-04-13 00:00:00",
                  "1",
                  "c0db539123a403f670c50237d970b215",
                  "f7720c4fa8e3aba4546301ab80ea1f1b",
                  "2018-03-01 14:28:03",
                  "30.1",
                  "33.24",
                  "1.0",
                  "credit_card",
                  "3.0",
                  "63.34"
                ],
                [
                  "36",
                  "f70a0aff17df5a6cdd9a7196128bd354",
                  "456dc10730fbdba34615447ea195d643",
                  "delivered",
                  "2017-08-10 11:58:33",
                  "2017-08-12 02:45:24",
                  "2017-08-17 15:35:07",
                  "2017-08-18 14:28:02",
                  "2017-08-23 00:00:00",
                  "1",
                  "cafd558df4c3c9d1c338ba6930ea9a62",
                  "5dceca129747e92ff8ef7a997dc4f8ca",
                  "2017-08-17 02:45:24",
                  "279.0",
                  "34.19",
                  "1.0",
                  "boleto",
                  "1.0",
                  "313.19"
                ],
                [
                  "37",
                  "1790eea0b567cf50911c057cf20f90f9",
                  "52142aa69d8d0e1247ab0cada0f76023",
                  "delivered",
                  "2018-04-16 21:15:39",
                  "2018-04-16 22:10:26",
                  "2018-04-18 13:05:09",
                  "2018-05-05 12:28:34",
                  "2018-05-15 00:00:00",
                  "1",
                  "2d8f2be4f08788ee3bf5356af2b2ee6c",
                  "d91fb3b7d041e83b64a00a3edfb37e4f",
                  "2018-04-22 22:10:26",
                  "186.9",
                  "38.0",
                  "1.0",
                  "credit_card",
                  "4.0",
                  "224.9"
                ],
                [
                  "38",
                  "989225ba6d0ebd5873335f7e01de2ae7",
                  "816f8653d5361cbf94e58c33f2502a5c",
                  "delivered",
                  "2017-12-12 13:56:04",
                  "2017-12-14 13:54:13",
                  "2017-12-16 00:18:57",
                  "2018-01-03 18:03:36",
                  "2018-01-08 00:00:00",
                  "1",
                  "6b64362e89896be7589621df54be089e",
                  "77530e9772f57a62c906e1c21538ab82",
                  "2017-12-20 13:54:13",
                  "49.0",
                  "14.1",
                  "1.0",
                  "credit_card",
                  "1.0",
                  "63.1"
                ],
                [
                  "39",
                  "d887b52c6516beb39e8cd44a5f8b60f7",
                  "d9ef95f98d8da3b492bb8c0447910498",
                  "delivered",
                  "2018-02-03 12:38:58",
                  "2018-02-03 12:50:30",
                  "2018-02-05 21:26:53",
                  "2018-02-22 00:07:55",
                  "2018-03-07 00:00:00",
                  "1",
                  "39a9942865c056ed2006a5e8c11d9537",
                  "ba5daa4041e1f15cdf34b76e3e18a450",
                  "2018-02-08 12:50:30",
                  "84.9",
                  "15.35",
                  "1.0",
                  "credit_card",
                  "1.0",
                  "100.25"
                ],
                [
                  "40",
                  "b276e4f8c0fb86bd82fce576f21713e0",
                  "cf8ffeddf027932e51e4eae73b384059",
                  "delivered",
                  "2018-07-29 23:34:51",
                  "2018-07-29 23:45:15",
                  "2018-07-30 14:43:00",
                  "2018-07-31 22:48:50",
                  "2018-08-06 00:00:00",
                  "1",
                  "c6c1f263e076bd9c1f1640250a5d0c29",
                  "fe2032dab1a61af8794248c8196565c9",
                  "2018-08-02 23:45:15",
                  "179.0",
                  "9.41",
                  "1.0",
                  "credit_card",
                  "2.0",
                  "188.41"
                ],
                [
                  "41",
                  "8563039e855156e48fccee4d611a3196",
                  "5f16605299d698660e0606f7eae2d2f9",
                  "delivered",
                  "2018-02-17 15:59:46",
                  "2018-02-17 16:15:34",
                  "2018-02-20 23:03:56",
                  "2018-03-20 00:59:25",
                  "2018-03-20 00:00:00",
                  "1",
                  "bff2010b28e8fbcff5a9db9d3fea5ac4",
                  "955fee9216a65b617aa5c0531780ce60",
                  "2018-02-22 15:15:34",
                  "78.0",
                  "28.95",
                  "1.0",
                  "credit_card",
                  "4.0",
                  "106.95"
                ],
                [
                  "42",
                  "60550084e6b4c0cb89a87df1f3e5ebd9",
                  "f5458ddc3545711efa883dd7ae7c4497",
                  "delivered",
                  "2018-02-21 18:15:12",
                  "2018-02-23 02:10:52",
                  "2018-02-27 18:52:09",
                  "2018-03-13 23:58:43",
                  "2018-03-29 00:00:00",
                  "1",
                  "9b37a918bcf2c8e1064e867cf1df4637",
                  "f27e33c6d29b5138fa9967bcd445b6d5",
                  "2018-03-01 02:10:52",
                  "39.9",
                  "26.89",
                  "1.0",
                  "boleto",
                  "1.0",
                  "66.79"
                ],
                [
                  "43",
                  "5acce57f8d9dfd55fa48e212a641a69d",
                  "295ae9b35379e077273387ff64354b6f",
                  "delivered",
                  "2017-07-31 21:37:10",
                  "2017-08-02 02:56:02",
                  "2017-08-03 18:32:48",
                  "2017-08-08 21:24:41",
                  "2017-08-22 00:00:00",
                  "1",
                  "0cd9f302c8a5b076ffa5c3567c6705fd",
                  "85d9eb9ddc5d00ca9336a2219c97bb13",
                  "2017-08-08 02:56:02",
                  "27.9",
                  "15.1",
                  "1.0",
                  "boleto",
                  "1.0",
                  "43.0"
                ],
                [
                  "44",
                  "434d158e96bdd6972ad6e6d73ddcfd22",
                  "2a1dfb647f32f4390e7b857c67458536",
                  "delivered",
                  "2018-06-01 12:23:13",
                  "2018-06-05 03:35:15",
                  "2018-06-08 11:49:00",
                  "2018-06-18 21:32:52",
                  "2018-07-17 00:00:00",
                  "1",
                  "c7df652246ed7b3300aaf46960c141e4",
                  "a5cba26a62b8b4d0145b68b841e62e7f",
                  "2018-06-13 03:35:15",
                  "445.0",
                  "63.17",
                  "1.0",
                  "boleto",
                  "1.0",
                  "508.17"
                ],
                [
                  "45",
                  "7206b86ea789983f7a273ea7fa0bc2a8",
                  "3391c4bc11a817e7973e498b0b023158",
                  "delivered",
                  "2018-03-26 17:12:18",
                  "2018-03-26 17:28:27",
                  "2018-03-28 17:22:53",
                  "2018-04-05 22:11:18",
                  "2018-04-12 00:00:00",
                  "1",
                  "9a469eaf45dfbc43d39ba1977a3c07af",
                  "d2374cbcbb3ca4ab1086534108cc3ab7",
                  "2018-03-30 17:27:57",
                  "36.9",
                  "12.79",
                  "1.0",
                  "credit_card",
                  "4.0",
                  "49.69"
                ],
                [
                  "46",
                  "1e7aff52cdbb2451ace09d0f848c3699",
                  "ddaff536587109b89777e0353215e150",
                  "delivered",
                  "2017-05-19 18:53:40",
                  "2017-05-19 19:05:17",
                  "2017-05-22 10:16:07",
                  "2017-05-31 13:58:46",
                  "2017-06-12 00:00:00",
                  "1",
                  "8c591ab0ca519558779df02023177f44",
                  "a1043bafd471dff536d0c462352beb48",
                  "2017-05-25 19:05:17",
                  "119.99",
                  "34.2",
                  "1.0",
                  "credit_card",
                  "4.0",
                  "154.19"
                ],
                [
                  "47",
                  "6ea2f835b4556291ffdc53fa0b3b95e8",
                  "c7340080e394356141681bd4c9b8fe31",
                  "delivered",
                  "2017-11-24 21:27:48",
                  "2017-11-25 00:21:09",
                  "2017-12-13 21:14:05",
                  "2017-12-28 18:59:23",
                  "2017-12-21 00:00:00",
                  "1",
                  "be021417a6acb56b9b50d3fd2714baa8",
                  "f5f46307a4d15880ca14fab4ad9dfc9b",
                  "2017-11-30 00:21:09",
                  "339.0",
                  "17.12",
                  "1.0",
                  "credit_card",
                  "10.0",
                  "356.12"
                ],
                [
                  "48",
                  "948097deef559c742e7ce321e5e58919",
                  "8644be24d48806bc3a88fd59fb47ceb1",
                  "delivered",
                  "2017-08-04 17:10:39",
                  "2017-08-04 17:25:11",
                  "2017-08-07 17:52:01",
                  "2017-08-12 14:08:40",
                  "2017-09-01 00:00:00",
                  "1",
                  "cd935d283d47f1050c505e1c39c48b67",
                  "a3a38f4affed601eb87a97788c949667",
                  "2017-08-10 17:25:11",
                  "69.9",
                  "25.77",
                  "1.0",
                  "credit_card",
                  "9.0",
                  "95.67"
                ],
                [
                  "49",
                  "d22e9fa5731b9e30e8b27afcdc2f8563",
                  "756fb9391752dad934e0fe3733378e57",
                  "delivered",
                  "2018-08-04 23:25:30",
                  "2018-08-04 23:35:13",
                  "2018-08-06 15:03:00",
                  "2018-08-13 23:34:42",
                  "2018-09-13 00:00:00",
                  "1",
                  "f410090aec61f7c73748ca894286edcd",
                  "980640c45d7a4635885491d077167e4d",
                  "2018-08-07 23:35:13",
                  "99.0",
                  "22.62",
                  "1.0",
                  "debit_card",
                  "1.0",
                  "121.62"
                ]
              ],
              "shape": {
                "columns": 18,
                "rows": 115021
              }
            },
            "text/html": [
              "<div>\n",
              "<style scoped>\n",
              "    .dataframe tbody tr th:only-of-type {\n",
              "        vertical-align: middle;\n",
              "    }\n",
              "\n",
              "    .dataframe tbody tr th {\n",
              "        vertical-align: top;\n",
              "    }\n",
              "\n",
              "    .dataframe thead th {\n",
              "        text-align: right;\n",
              "    }\n",
              "</style>\n",
              "<table border=\"1\" class=\"dataframe\">\n",
              "  <thead>\n",
              "    <tr style=\"text-align: right;\">\n",
              "      <th></th>\n",
              "      <th>order_id</th>\n",
              "      <th>customer_id</th>\n",
              "      <th>order_status</th>\n",
              "      <th>order_purchase_timestamp</th>\n",
              "      <th>order_approved_at</th>\n",
              "      <th>order_delivered_carrier_date</th>\n",
              "      <th>order_delivered_customer_date</th>\n",
              "      <th>order_estimated_delivery_date</th>\n",
              "      <th>order_item_id</th>\n",
              "      <th>product_id</th>\n",
              "      <th>seller_id</th>\n",
              "      <th>shipping_limit_date</th>\n",
              "      <th>price</th>\n",
              "      <th>freight_value</th>\n",
              "      <th>payment_sequential</th>\n",
              "      <th>payment_type</th>\n",
              "      <th>payment_installments</th>\n",
              "      <th>payment_value</th>\n",
              "    </tr>\n",
              "  </thead>\n",
              "  <tbody>\n",
              "    <tr>\n",
              "      <th>0</th>\n",
              "      <td>e481f51cbdc54678b7cc49136f2d6af7</td>\n",
              "      <td>9ef432eb6251297304e76186b10a928d</td>\n",
              "      <td>delivered</td>\n",
              "      <td>2017-10-02 10:56:33</td>\n",
              "      <td>2017-10-02 11:07:15</td>\n",
              "      <td>2017-10-04 19:55:00</td>\n",
              "      <td>2017-10-10 21:25:13</td>\n",
              "      <td>2017-10-18 00:00:00</td>\n",
              "      <td>1</td>\n",
              "      <td>87285b34884572647811a353c7ac498a</td>\n",
              "      <td>3504c0cb71d7fa48d967e0e4c94d59d9</td>\n",
              "      <td>2017-10-06 11:07:15</td>\n",
              "      <td>29.99</td>\n",
              "      <td>8.72</td>\n",
              "      <td>1.0</td>\n",
              "      <td>credit_card</td>\n",
              "      <td>1.0</td>\n",
              "      <td>18.12</td>\n",
              "    </tr>\n",
              "    <tr>\n",
              "      <th>1</th>\n",
              "      <td>e481f51cbdc54678b7cc49136f2d6af7</td>\n",
              "      <td>9ef432eb6251297304e76186b10a928d</td>\n",
              "      <td>delivered</td>\n",
              "      <td>2017-10-02 10:56:33</td>\n",
              "      <td>2017-10-02 11:07:15</td>\n",
              "      <td>2017-10-04 19:55:00</td>\n",
              "      <td>2017-10-10 21:25:13</td>\n",
              "      <td>2017-10-18 00:00:00</td>\n",
              "      <td>1</td>\n",
              "      <td>87285b34884572647811a353c7ac498a</td>\n",
              "      <td>3504c0cb71d7fa48d967e0e4c94d59d9</td>\n",
              "      <td>2017-10-06 11:07:15</td>\n",
              "      <td>29.99</td>\n",
              "      <td>8.72</td>\n",
              "      <td>3.0</td>\n",
              "      <td>voucher</td>\n",
              "      <td>1.0</td>\n",
              "      <td>2.00</td>\n",
              "    </tr>\n",
              "    <tr>\n",
              "      <th>2</th>\n",
              "      <td>e481f51cbdc54678b7cc49136f2d6af7</td>\n",
              "      <td>9ef432eb6251297304e76186b10a928d</td>\n",
              "      <td>delivered</td>\n",
              "      <td>2017-10-02 10:56:33</td>\n",
              "      <td>2017-10-02 11:07:15</td>\n",
              "      <td>2017-10-04 19:55:00</td>\n",
              "      <td>2017-10-10 21:25:13</td>\n",
              "      <td>2017-10-18 00:00:00</td>\n",
              "      <td>1</td>\n",
              "      <td>87285b34884572647811a353c7ac498a</td>\n",
              "      <td>3504c0cb71d7fa48d967e0e4c94d59d9</td>\n",
              "      <td>2017-10-06 11:07:15</td>\n",
              "      <td>29.99</td>\n",
              "      <td>8.72</td>\n",
              "      <td>2.0</td>\n",
              "      <td>voucher</td>\n",
              "      <td>1.0</td>\n",
              "      <td>18.59</td>\n",
              "    </tr>\n",
              "    <tr>\n",
              "      <th>3</th>\n",
              "      <td>53cdb2fc8bc7dce0b6741e2150273451</td>\n",
              "      <td>b0830fb4747a6c6d20dea0b8c802d7ef</td>\n",
              "      <td>delivered</td>\n",
              "      <td>2018-07-24 20:41:37</td>\n",
              "      <td>2018-07-26 03:24:27</td>\n",
              "      <td>2018-07-26 14:31:00</td>\n",
              "      <td>2018-08-07 15:27:45</td>\n",
              "      <td>2018-08-13 00:00:00</td>\n",
              "      <td>1</td>\n",
              "      <td>595fac2a385ac33a80bd5114aec74eb8</td>\n",
              "      <td>289cdb325fb7e7f891c38608bf9e0962</td>\n",
              "      <td>2018-07-30 03:24:27</td>\n",
              "      <td>118.70</td>\n",
              "      <td>22.76</td>\n",
              "      <td>1.0</td>\n",
              "      <td>boleto</td>\n",
              "      <td>1.0</td>\n",
              "      <td>141.46</td>\n",
              "    </tr>\n",
              "    <tr>\n",
              "      <th>4</th>\n",
              "      <td>47770eb9100c2d0c44946d9cf07ec65d</td>\n",
              "      <td>41ce2a54c0b03bf3443c3d931a367089</td>\n",
              "      <td>delivered</td>\n",
              "      <td>2018-08-08 08:38:49</td>\n",
              "      <td>2018-08-08 08:55:23</td>\n",
              "      <td>2018-08-08 13:50:00</td>\n",
              "      <td>2018-08-17 18:06:29</td>\n",
              "      <td>2018-09-04 00:00:00</td>\n",
              "      <td>1</td>\n",
              "      <td>aa4383b373c6aca5d8797843e5594415</td>\n",
              "      <td>4869f7a5dfa277a7dca6462dcf3b52b2</td>\n",
              "      <td>2018-08-13 08:55:23</td>\n",
              "      <td>159.90</td>\n",
              "      <td>19.22</td>\n",
              "      <td>1.0</td>\n",
              "      <td>credit_card</td>\n",
              "      <td>3.0</td>\n",
              "      <td>179.12</td>\n",
              "    </tr>\n",
              "    <tr>\n",
              "      <th>...</th>\n",
              "      <td>...</td>\n",
              "      <td>...</td>\n",
              "      <td>...</td>\n",
              "      <td>...</td>\n",
              "      <td>...</td>\n",
              "      <td>...</td>\n",
              "      <td>...</td>\n",
              "      <td>...</td>\n",
              "      <td>...</td>\n",
              "      <td>...</td>\n",
              "      <td>...</td>\n",
              "      <td>...</td>\n",
              "      <td>...</td>\n",
              "      <td>...</td>\n",
              "      <td>...</td>\n",
              "      <td>...</td>\n",
              "      <td>...</td>\n",
              "      <td>...</td>\n",
              "    </tr>\n",
              "    <tr>\n",
              "      <th>115016</th>\n",
              "      <td>63943bddc261676b46f01ca7ac2f7bd8</td>\n",
              "      <td>1fca14ff2861355f6e5f14306ff977a7</td>\n",
              "      <td>delivered</td>\n",
              "      <td>2018-02-06 12:58:58</td>\n",
              "      <td>2018-02-06 13:10:37</td>\n",
              "      <td>2018-02-07 23:22:42</td>\n",
              "      <td>2018-02-28 17:37:56</td>\n",
              "      <td>2018-03-02 00:00:00</td>\n",
              "      <td>1</td>\n",
              "      <td>f1d4ce8c6dd66c47bbaa8c6781c2a923</td>\n",
              "      <td>1f9ab4708f3056ede07124aad39a2554</td>\n",
              "      <td>2018-02-12 13:10:37</td>\n",
              "      <td>174.90</td>\n",
              "      <td>20.10</td>\n",
              "      <td>1.0</td>\n",
              "      <td>credit_card</td>\n",
              "      <td>3.0</td>\n",
              "      <td>195.00</td>\n",
              "    </tr>\n",
              "    <tr>\n",
              "      <th>115017</th>\n",
              "      <td>83c1379a015df1e13d02aae0204711ab</td>\n",
              "      <td>1aa71eb042121263aafbe80c1b562c9c</td>\n",
              "      <td>delivered</td>\n",
              "      <td>2017-08-27 14:46:43</td>\n",
              "      <td>2017-08-27 15:04:16</td>\n",
              "      <td>2017-08-28 20:52:26</td>\n",
              "      <td>2017-09-21 11:24:17</td>\n",
              "      <td>2017-09-27 00:00:00</td>\n",
              "      <td>1</td>\n",
              "      <td>b80910977a37536adeddd63663f916ad</td>\n",
              "      <td>d50d79cb34e38265a8649c383dcffd48</td>\n",
              "      <td>2017-09-05 15:04:16</td>\n",
              "      <td>205.99</td>\n",
              "      <td>65.02</td>\n",
              "      <td>1.0</td>\n",
              "      <td>credit_card</td>\n",
              "      <td>5.0</td>\n",
              "      <td>271.01</td>\n",
              "    </tr>\n",
              "    <tr>\n",
              "      <th>115018</th>\n",
              "      <td>11c177c8e97725db2631073c19f07b62</td>\n",
              "      <td>b331b74b18dc79bcdf6532d51e1637c1</td>\n",
              "      <td>delivered</td>\n",
              "      <td>2018-01-08 21:28:27</td>\n",
              "      <td>2018-01-08 21:36:21</td>\n",
              "      <td>2018-01-12 15:35:03</td>\n",
              "      <td>2018-01-25 23:32:54</td>\n",
              "      <td>2018-02-15 00:00:00</td>\n",
              "      <td>1</td>\n",
              "      <td>d1c427060a0f73f6b889a5c7c61f2ac4</td>\n",
              "      <td>a1043bafd471dff536d0c462352beb48</td>\n",
              "      <td>2018-01-12 21:36:21</td>\n",
              "      <td>179.99</td>\n",
              "      <td>40.59</td>\n",
              "      <td>1.0</td>\n",
              "      <td>credit_card</td>\n",
              "      <td>4.0</td>\n",
              "      <td>441.16</td>\n",
              "    </tr>\n",
              "    <tr>\n",
              "      <th>115019</th>\n",
              "      <td>11c177c8e97725db2631073c19f07b62</td>\n",
              "      <td>b331b74b18dc79bcdf6532d51e1637c1</td>\n",
              "      <td>delivered</td>\n",
              "      <td>2018-01-08 21:28:27</td>\n",
              "      <td>2018-01-08 21:36:21</td>\n",
              "      <td>2018-01-12 15:35:03</td>\n",
              "      <td>2018-01-25 23:32:54</td>\n",
              "      <td>2018-02-15 00:00:00</td>\n",
              "      <td>2</td>\n",
              "      <td>d1c427060a0f73f6b889a5c7c61f2ac4</td>\n",
              "      <td>a1043bafd471dff536d0c462352beb48</td>\n",
              "      <td>2018-01-12 21:36:21</td>\n",
              "      <td>179.99</td>\n",
              "      <td>40.59</td>\n",
              "      <td>1.0</td>\n",
              "      <td>credit_card</td>\n",
              "      <td>4.0</td>\n",
              "      <td>441.16</td>\n",
              "    </tr>\n",
              "    <tr>\n",
              "      <th>115020</th>\n",
              "      <td>66dea50a8b16d9b4dee7af250b4be1a5</td>\n",
              "      <td>edb027a75a1449115f6b43211ae02a24</td>\n",
              "      <td>delivered</td>\n",
              "      <td>2018-03-08 20:57:30</td>\n",
              "      <td>2018-03-09 11:20:28</td>\n",
              "      <td>2018-03-09 22:11:59</td>\n",
              "      <td>2018-03-16 13:08:30</td>\n",
              "      <td>2018-04-03 00:00:00</td>\n",
              "      <td>1</td>\n",
              "      <td>006619bbed68b000c8ba3f8725d5409e</td>\n",
              "      <td>ececbfcff9804a2d6b40f589df8eef2b</td>\n",
              "      <td>2018-03-15 10:55:42</td>\n",
              "      <td>68.50</td>\n",
              "      <td>18.36</td>\n",
              "      <td>1.0</td>\n",
              "      <td>debit_card</td>\n",
              "      <td>1.0</td>\n",
              "      <td>86.86</td>\n",
              "    </tr>\n",
              "  </tbody>\n",
              "</table>\n",
              "<p>115021 rows × 18 columns</p>\n",
              "</div>"
            ],
            "text/plain": [
              "                                order_id                       customer_id  \\\n",
              "0       e481f51cbdc54678b7cc49136f2d6af7  9ef432eb6251297304e76186b10a928d   \n",
              "1       e481f51cbdc54678b7cc49136f2d6af7  9ef432eb6251297304e76186b10a928d   \n",
              "2       e481f51cbdc54678b7cc49136f2d6af7  9ef432eb6251297304e76186b10a928d   \n",
              "3       53cdb2fc8bc7dce0b6741e2150273451  b0830fb4747a6c6d20dea0b8c802d7ef   \n",
              "4       47770eb9100c2d0c44946d9cf07ec65d  41ce2a54c0b03bf3443c3d931a367089   \n",
              "...                                  ...                               ...   \n",
              "115016  63943bddc261676b46f01ca7ac2f7bd8  1fca14ff2861355f6e5f14306ff977a7   \n",
              "115017  83c1379a015df1e13d02aae0204711ab  1aa71eb042121263aafbe80c1b562c9c   \n",
              "115018  11c177c8e97725db2631073c19f07b62  b331b74b18dc79bcdf6532d51e1637c1   \n",
              "115019  11c177c8e97725db2631073c19f07b62  b331b74b18dc79bcdf6532d51e1637c1   \n",
              "115020  66dea50a8b16d9b4dee7af250b4be1a5  edb027a75a1449115f6b43211ae02a24   \n",
              "\n",
              "       order_status order_purchase_timestamp    order_approved_at  \\\n",
              "0         delivered      2017-10-02 10:56:33  2017-10-02 11:07:15   \n",
              "1         delivered      2017-10-02 10:56:33  2017-10-02 11:07:15   \n",
              "2         delivered      2017-10-02 10:56:33  2017-10-02 11:07:15   \n",
              "3         delivered      2018-07-24 20:41:37  2018-07-26 03:24:27   \n",
              "4         delivered      2018-08-08 08:38:49  2018-08-08 08:55:23   \n",
              "...             ...                      ...                  ...   \n",
              "115016    delivered      2018-02-06 12:58:58  2018-02-06 13:10:37   \n",
              "115017    delivered      2017-08-27 14:46:43  2017-08-27 15:04:16   \n",
              "115018    delivered      2018-01-08 21:28:27  2018-01-08 21:36:21   \n",
              "115019    delivered      2018-01-08 21:28:27  2018-01-08 21:36:21   \n",
              "115020    delivered      2018-03-08 20:57:30  2018-03-09 11:20:28   \n",
              "\n",
              "       order_delivered_carrier_date order_delivered_customer_date  \\\n",
              "0               2017-10-04 19:55:00           2017-10-10 21:25:13   \n",
              "1               2017-10-04 19:55:00           2017-10-10 21:25:13   \n",
              "2               2017-10-04 19:55:00           2017-10-10 21:25:13   \n",
              "3               2018-07-26 14:31:00           2018-08-07 15:27:45   \n",
              "4               2018-08-08 13:50:00           2018-08-17 18:06:29   \n",
              "...                             ...                           ...   \n",
              "115016          2018-02-07 23:22:42           2018-02-28 17:37:56   \n",
              "115017          2017-08-28 20:52:26           2017-09-21 11:24:17   \n",
              "115018          2018-01-12 15:35:03           2018-01-25 23:32:54   \n",
              "115019          2018-01-12 15:35:03           2018-01-25 23:32:54   \n",
              "115020          2018-03-09 22:11:59           2018-03-16 13:08:30   \n",
              "\n",
              "       order_estimated_delivery_date  order_item_id  \\\n",
              "0                2017-10-18 00:00:00              1   \n",
              "1                2017-10-18 00:00:00              1   \n",
              "2                2017-10-18 00:00:00              1   \n",
              "3                2018-08-13 00:00:00              1   \n",
              "4                2018-09-04 00:00:00              1   \n",
              "...                              ...            ...   \n",
              "115016           2018-03-02 00:00:00              1   \n",
              "115017           2017-09-27 00:00:00              1   \n",
              "115018           2018-02-15 00:00:00              1   \n",
              "115019           2018-02-15 00:00:00              2   \n",
              "115020           2018-04-03 00:00:00              1   \n",
              "\n",
              "                              product_id                         seller_id  \\\n",
              "0       87285b34884572647811a353c7ac498a  3504c0cb71d7fa48d967e0e4c94d59d9   \n",
              "1       87285b34884572647811a353c7ac498a  3504c0cb71d7fa48d967e0e4c94d59d9   \n",
              "2       87285b34884572647811a353c7ac498a  3504c0cb71d7fa48d967e0e4c94d59d9   \n",
              "3       595fac2a385ac33a80bd5114aec74eb8  289cdb325fb7e7f891c38608bf9e0962   \n",
              "4       aa4383b373c6aca5d8797843e5594415  4869f7a5dfa277a7dca6462dcf3b52b2   \n",
              "...                                  ...                               ...   \n",
              "115016  f1d4ce8c6dd66c47bbaa8c6781c2a923  1f9ab4708f3056ede07124aad39a2554   \n",
              "115017  b80910977a37536adeddd63663f916ad  d50d79cb34e38265a8649c383dcffd48   \n",
              "115018  d1c427060a0f73f6b889a5c7c61f2ac4  a1043bafd471dff536d0c462352beb48   \n",
              "115019  d1c427060a0f73f6b889a5c7c61f2ac4  a1043bafd471dff536d0c462352beb48   \n",
              "115020  006619bbed68b000c8ba3f8725d5409e  ececbfcff9804a2d6b40f589df8eef2b   \n",
              "\n",
              "        shipping_limit_date   price  freight_value  payment_sequential  \\\n",
              "0       2017-10-06 11:07:15   29.99           8.72                 1.0   \n",
              "1       2017-10-06 11:07:15   29.99           8.72                 3.0   \n",
              "2       2017-10-06 11:07:15   29.99           8.72                 2.0   \n",
              "3       2018-07-30 03:24:27  118.70          22.76                 1.0   \n",
              "4       2018-08-13 08:55:23  159.90          19.22                 1.0   \n",
              "...                     ...     ...            ...                 ...   \n",
              "115016  2018-02-12 13:10:37  174.90          20.10                 1.0   \n",
              "115017  2017-09-05 15:04:16  205.99          65.02                 1.0   \n",
              "115018  2018-01-12 21:36:21  179.99          40.59                 1.0   \n",
              "115019  2018-01-12 21:36:21  179.99          40.59                 1.0   \n",
              "115020  2018-03-15 10:55:42   68.50          18.36                 1.0   \n",
              "\n",
              "       payment_type  payment_installments  payment_value  \n",
              "0       credit_card                   1.0          18.12  \n",
              "1           voucher                   1.0           2.00  \n",
              "2           voucher                   1.0          18.59  \n",
              "3            boleto                   1.0         141.46  \n",
              "4       credit_card                   3.0         179.12  \n",
              "...             ...                   ...            ...  \n",
              "115016  credit_card                   3.0         195.00  \n",
              "115017  credit_card                   5.0         271.01  \n",
              "115018  credit_card                   4.0         441.16  \n",
              "115019  credit_card                   4.0         441.16  \n",
              "115020   debit_card                   1.0          86.86  \n",
              "\n",
              "[115021 rows x 18 columns]"
            ]
          },
          "execution_count": 23,
          "metadata": {},
          "output_type": "execute_result"
        }
      ],
      "source": [
        "# Merging data\n",
        "all_orders_df = orders_df.merge(order_item_df, on='order_id', how='left').merge(orders_payment_df, on='order_id', how='left')\n",
        "all_orders_df"
      ]
    },
    {
      "cell_type": "code",
      "execution_count": null,
      "metadata": {},
      "outputs": [
        {
          "data": {
            "text/plain": [
              "order_id                         0\n",
              "customer_id                      0\n",
              "order_status                     0\n",
              "order_purchase_timestamp         0\n",
              "order_approved_at                0\n",
              "order_delivered_carrier_date     0\n",
              "order_delivered_customer_date    0\n",
              "order_estimated_delivery_date    0\n",
              "order_item_id                    0\n",
              "product_id                       0\n",
              "seller_id                        0\n",
              "shipping_limit_date              0\n",
              "price                            0\n",
              "freight_value                    0\n",
              "payment_sequential               3\n",
              "payment_type                     3\n",
              "payment_installments             3\n",
              "payment_value                    3\n",
              "dtype: int64"
            ]
          },
          "execution_count": 24,
          "metadata": {},
          "output_type": "execute_result"
        }
      ],
      "source": [
        "# Cek missing value\n",
        "all_orders_df.isnull().sum()"
      ]
    },
    {
      "cell_type": "code",
      "execution_count": null,
      "metadata": {},
      "outputs": [],
      "source": [
        "# Hapus data yang missing value\n",
        "all_orders_df.dropna(axis=0, inplace=True)"
      ]
    },
    {
      "cell_type": "code",
      "execution_count": null,
      "metadata": {},
      "outputs": [
        {
          "data": {
            "text/plain": [
              "order_id                         0\n",
              "customer_id                      0\n",
              "order_status                     0\n",
              "order_purchase_timestamp         0\n",
              "order_approved_at                0\n",
              "order_delivered_carrier_date     0\n",
              "order_delivered_customer_date    0\n",
              "order_estimated_delivery_date    0\n",
              "order_item_id                    0\n",
              "product_id                       0\n",
              "seller_id                        0\n",
              "shipping_limit_date              0\n",
              "price                            0\n",
              "freight_value                    0\n",
              "payment_sequential               0\n",
              "payment_type                     0\n",
              "payment_installments             0\n",
              "payment_value                    0\n",
              "dtype: int64"
            ]
          },
          "execution_count": 26,
          "metadata": {},
          "output_type": "execute_result"
        }
      ],
      "source": [
        "# Cek missing value\n",
        "all_orders_df.isnull().sum()"
      ]
    },
    {
      "cell_type": "code",
      "execution_count": null,
      "metadata": {},
      "outputs": [
        {
          "data": {
            "application/vnd.microsoft.datawrangler.viewer.v0+json": {
              "columns": [
                {
                  "name": "index",
                  "rawType": "object",
                  "type": "string"
                },
                {
                  "name": "order_item_id",
                  "rawType": "float64",
                  "type": "float"
                },
                {
                  "name": "price",
                  "rawType": "float64",
                  "type": "float"
                },
                {
                  "name": "freight_value",
                  "rawType": "float64",
                  "type": "float"
                },
                {
                  "name": "payment_sequential",
                  "rawType": "float64",
                  "type": "float"
                },
                {
                  "name": "payment_installments",
                  "rawType": "float64",
                  "type": "float"
                },
                {
                  "name": "payment_value",
                  "rawType": "float64",
                  "type": "float"
                }
              ],
              "conversionMethod": "pd.DataFrame",
              "ref": "188f4a4f-0feb-48a7-9ecf-c1bd24d5b1aa",
              "rows": [
                [
                  "count",
                  "115018.0",
                  "115018.0",
                  "115018.0",
                  "115018.0",
                  "115018.0",
                  "115018.0"
                ],
                [
                  "mean",
                  "1.1964040411066095",
                  "120.0801290232833",
                  "19.995686414300373",
                  "1.0906988471369699",
                  "2.9369576935783965",
                  "171.91565407153664"
                ],
                [
                  "std",
                  "0.6994091715725926",
                  "183.03892207913535",
                  "15.744371666640687",
                  "0.6844094029716565",
                  "2.772465875583472",
                  "266.1257304449479"
                ],
                [
                  "min",
                  "1.0",
                  "0.85",
                  "0.0",
                  "1.0",
                  "0.0",
                  "0.0"
                ],
                [
                  "25%",
                  "1.0",
                  "39.9",
                  "13.08",
                  "1.0",
                  "1.0",
                  "60.85"
                ],
                [
                  "50%",
                  "1.0",
                  "74.9",
                  "16.28",
                  "1.0",
                  "2.0",
                  "108.19"
                ],
                [
                  "75%",
                  "1.0",
                  "133.0",
                  "21.18",
                  "1.0",
                  "4.0",
                  "188.94"
                ],
                [
                  "max",
                  "21.0",
                  "6735.0",
                  "409.68",
                  "26.0",
                  "24.0",
                  "13664.08"
                ]
              ],
              "shape": {
                "columns": 6,
                "rows": 8
              }
            },
            "text/html": [
              "<div>\n",
              "<style scoped>\n",
              "    .dataframe tbody tr th:only-of-type {\n",
              "        vertical-align: middle;\n",
              "    }\n",
              "\n",
              "    .dataframe tbody tr th {\n",
              "        vertical-align: top;\n",
              "    }\n",
              "\n",
              "    .dataframe thead th {\n",
              "        text-align: right;\n",
              "    }\n",
              "</style>\n",
              "<table border=\"1\" class=\"dataframe\">\n",
              "  <thead>\n",
              "    <tr style=\"text-align: right;\">\n",
              "      <th></th>\n",
              "      <th>order_item_id</th>\n",
              "      <th>price</th>\n",
              "      <th>freight_value</th>\n",
              "      <th>payment_sequential</th>\n",
              "      <th>payment_installments</th>\n",
              "      <th>payment_value</th>\n",
              "    </tr>\n",
              "  </thead>\n",
              "  <tbody>\n",
              "    <tr>\n",
              "      <th>count</th>\n",
              "      <td>115018.000000</td>\n",
              "      <td>115018.000000</td>\n",
              "      <td>115018.000000</td>\n",
              "      <td>115018.000000</td>\n",
              "      <td>115018.000000</td>\n",
              "      <td>115018.000000</td>\n",
              "    </tr>\n",
              "    <tr>\n",
              "      <th>mean</th>\n",
              "      <td>1.196404</td>\n",
              "      <td>120.080129</td>\n",
              "      <td>19.995686</td>\n",
              "      <td>1.090699</td>\n",
              "      <td>2.936958</td>\n",
              "      <td>171.915654</td>\n",
              "    </tr>\n",
              "    <tr>\n",
              "      <th>std</th>\n",
              "      <td>0.699409</td>\n",
              "      <td>183.038922</td>\n",
              "      <td>15.744372</td>\n",
              "      <td>0.684409</td>\n",
              "      <td>2.772466</td>\n",
              "      <td>266.125730</td>\n",
              "    </tr>\n",
              "    <tr>\n",
              "      <th>min</th>\n",
              "      <td>1.000000</td>\n",
              "      <td>0.850000</td>\n",
              "      <td>0.000000</td>\n",
              "      <td>1.000000</td>\n",
              "      <td>0.000000</td>\n",
              "      <td>0.000000</td>\n",
              "    </tr>\n",
              "    <tr>\n",
              "      <th>25%</th>\n",
              "      <td>1.000000</td>\n",
              "      <td>39.900000</td>\n",
              "      <td>13.080000</td>\n",
              "      <td>1.000000</td>\n",
              "      <td>1.000000</td>\n",
              "      <td>60.850000</td>\n",
              "    </tr>\n",
              "    <tr>\n",
              "      <th>50%</th>\n",
              "      <td>1.000000</td>\n",
              "      <td>74.900000</td>\n",
              "      <td>16.280000</td>\n",
              "      <td>1.000000</td>\n",
              "      <td>2.000000</td>\n",
              "      <td>108.190000</td>\n",
              "    </tr>\n",
              "    <tr>\n",
              "      <th>75%</th>\n",
              "      <td>1.000000</td>\n",
              "      <td>133.000000</td>\n",
              "      <td>21.180000</td>\n",
              "      <td>1.000000</td>\n",
              "      <td>4.000000</td>\n",
              "      <td>188.940000</td>\n",
              "    </tr>\n",
              "    <tr>\n",
              "      <th>max</th>\n",
              "      <td>21.000000</td>\n",
              "      <td>6735.000000</td>\n",
              "      <td>409.680000</td>\n",
              "      <td>26.000000</td>\n",
              "      <td>24.000000</td>\n",
              "      <td>13664.080000</td>\n",
              "    </tr>\n",
              "  </tbody>\n",
              "</table>\n",
              "</div>"
            ],
            "text/plain": [
              "       order_item_id          price  freight_value  payment_sequential  \\\n",
              "count  115018.000000  115018.000000  115018.000000       115018.000000   \n",
              "mean        1.196404     120.080129      19.995686            1.090699   \n",
              "std         0.699409     183.038922      15.744372            0.684409   \n",
              "min         1.000000       0.850000       0.000000            1.000000   \n",
              "25%         1.000000      39.900000      13.080000            1.000000   \n",
              "50%         1.000000      74.900000      16.280000            1.000000   \n",
              "75%         1.000000     133.000000      21.180000            1.000000   \n",
              "max        21.000000    6735.000000     409.680000           26.000000   \n",
              "\n",
              "       payment_installments  payment_value  \n",
              "count         115018.000000  115018.000000  \n",
              "mean               2.936958     171.915654  \n",
              "std                2.772466     266.125730  \n",
              "min                0.000000       0.000000  \n",
              "25%                1.000000      60.850000  \n",
              "50%                2.000000     108.190000  \n",
              "75%                4.000000     188.940000  \n",
              "max               24.000000   13664.080000  "
            ]
          },
          "execution_count": 27,
          "metadata": {},
          "output_type": "execute_result"
        }
      ],
      "source": [
        "# Deskripsi all_orders_df\n",
        "all_orders_df.describe()"
      ]
    },
    {
      "cell_type": "markdown",
      "metadata": {},
      "source": [
        "**Insight:**\n",
        "- `order_item_id` merupakan jumlah item dalam sebuah order, dari data tersebut kita ketahui bahwa jumlah paling banyak pesanan mencapai 21 item tetapi rata-rata sekitar 1 item. \n",
        "- `price` merupakan harga dari suatu produk, terdapat produk bernilai tinggi yaitu 6735 dan terendah 0.85.\n",
        "- `freight_value` merupakan biaya pengiriman, dari data rata-rata mendapat patokan harga sebesar 19.9.\n",
        "- `payment_sequential` merupakan pembayaran secara berurutan. Dari data tersebut hampir semua pesanan dibayar dalam satu kali transaksi.\n",
        "- `payment_installments` merupakan cicilan pembayaran.\n",
        "- `payment_value` merupakan total pembayaran."
      ]
    },
    {
      "cell_type": "markdown",
      "metadata": {},
      "source": [
        "### Explore Products"
      ]
    },
    {
      "cell_type": "code",
      "execution_count": null,
      "metadata": {},
      "outputs": [
        {
          "data": {
            "application/vnd.microsoft.datawrangler.viewer.v0+json": {
              "columns": [
                {
                  "name": "index",
                  "rawType": "int64",
                  "type": "integer"
                },
                {
                  "name": "product_id",
                  "rawType": "object",
                  "type": "string"
                },
                {
                  "name": "product_category_name",
                  "rawType": "object",
                  "type": "string"
                },
                {
                  "name": "product_name_lenght",
                  "rawType": "float64",
                  "type": "float"
                },
                {
                  "name": "product_description_lenght",
                  "rawType": "float64",
                  "type": "float"
                },
                {
                  "name": "product_photos_qty",
                  "rawType": "float64",
                  "type": "float"
                },
                {
                  "name": "product_weight_g",
                  "rawType": "float64",
                  "type": "float"
                },
                {
                  "name": "product_length_cm",
                  "rawType": "float64",
                  "type": "float"
                },
                {
                  "name": "product_height_cm",
                  "rawType": "float64",
                  "type": "float"
                },
                {
                  "name": "product_width_cm",
                  "rawType": "float64",
                  "type": "float"
                },
                {
                  "name": "product_category_name_english",
                  "rawType": "object",
                  "type": "unknown"
                }
              ],
              "conversionMethod": "pd.DataFrame",
              "ref": "8b2197ba-0612-482f-86b5-b255e1329665",
              "rows": [
                [
                  "0",
                  "1e9e8ef04dbcff4541ed26657ea517e5",
                  "perfumaria",
                  "40.0",
                  "287.0",
                  "1.0",
                  "225.0",
                  "16.0",
                  "10.0",
                  "14.0",
                  "perfumery"
                ],
                [
                  "1",
                  "3aa071139cb16b67ca9e5dea641aaa2f",
                  "artes",
                  "44.0",
                  "276.0",
                  "1.0",
                  "1000.0",
                  "30.0",
                  "18.0",
                  "20.0",
                  "art"
                ],
                [
                  "2",
                  "96bd76ec8810374ed1b65e291975717f",
                  "esporte_lazer",
                  "46.0",
                  "250.0",
                  "1.0",
                  "154.0",
                  "18.0",
                  "9.0",
                  "15.0",
                  "sports_leisure"
                ],
                [
                  "3",
                  "cef67bcfe19066a932b7673e239eb23d",
                  "bebes",
                  "27.0",
                  "261.0",
                  "1.0",
                  "371.0",
                  "26.0",
                  "4.0",
                  "26.0",
                  "baby"
                ],
                [
                  "4",
                  "9dc1a7de274444849c219cff195d0b71",
                  "utilidades_domesticas",
                  "37.0",
                  "402.0",
                  "4.0",
                  "625.0",
                  "20.0",
                  "17.0",
                  "13.0",
                  "housewares"
                ],
                [
                  "5",
                  "41d3672d4792049fa1779bb35283ed13",
                  "instrumentos_musicais",
                  "60.0",
                  "745.0",
                  "1.0",
                  "200.0",
                  "38.0",
                  "5.0",
                  "11.0",
                  "musical_instruments"
                ],
                [
                  "6",
                  "732bd381ad09e530fe0a5f457d81becb",
                  "cool_stuff",
                  "56.0",
                  "1272.0",
                  "4.0",
                  "18350.0",
                  "70.0",
                  "24.0",
                  "44.0",
                  "cool_stuff"
                ],
                [
                  "7",
                  "2548af3e6e77a690cf3eb6368e9ab61e",
                  "moveis_decoracao",
                  "56.0",
                  "184.0",
                  "2.0",
                  "900.0",
                  "40.0",
                  "8.0",
                  "40.0",
                  "furniture_decor"
                ],
                [
                  "8",
                  "37cc742be07708b53a98702e77a21a02",
                  "eletrodomesticos",
                  "57.0",
                  "163.0",
                  "1.0",
                  "400.0",
                  "27.0",
                  "13.0",
                  "17.0",
                  "home_appliances"
                ],
                [
                  "9",
                  "8c92109888e8cdf9d66dc7e463025574",
                  "brinquedos",
                  "36.0",
                  "1156.0",
                  "1.0",
                  "600.0",
                  "17.0",
                  "10.0",
                  "12.0",
                  "toys"
                ],
                [
                  "10",
                  "14aa47b7fe5c25522b47b4b29c98dcb9",
                  "cama_mesa_banho",
                  "54.0",
                  "630.0",
                  "1.0",
                  "1100.0",
                  "16.0",
                  "10.0",
                  "16.0",
                  "bed_bath_table"
                ],
                [
                  "11",
                  "03b63c5fc16691530586ae020c345514",
                  "bebes",
                  "49.0",
                  "728.0",
                  "4.0",
                  "7150.0",
                  "50.0",
                  "19.0",
                  "45.0",
                  "baby"
                ],
                [
                  "12",
                  "cf55509ea8edaaac1d28fdb16e48fc22",
                  "instrumentos_musicais",
                  "43.0",
                  "1827.0",
                  "3.0",
                  "250.0",
                  "17.0",
                  "7.0",
                  "17.0",
                  "musical_instruments"
                ],
                [
                  "13",
                  "7bb6f29c2be57716194f96496660c7c2",
                  "moveis_decoracao",
                  "51.0",
                  "2083.0",
                  "2.0",
                  "600.0",
                  "68.0",
                  "11.0",
                  "13.0",
                  "furniture_decor"
                ],
                [
                  "14",
                  "eb31436580a610f202c859463d8c7415",
                  "construcao_ferramentas_seguranca",
                  "59.0",
                  "1602.0",
                  "4.0",
                  "200.0",
                  "17.0",
                  "7.0",
                  "17.0",
                  "construction_tools_safety"
                ],
                [
                  "15",
                  "3bb7f144022e6732727d8d838a7b13b3",
                  "esporte_lazer",
                  "22.0",
                  "3021.0",
                  "1.0",
                  "800.0",
                  "16.0",
                  "2.0",
                  "11.0",
                  "sports_leisure"
                ],
                [
                  "16",
                  "6a2fb4dd53d2cdb88e0432f1284a004c",
                  "perfumaria",
                  "39.0",
                  "346.0",
                  "2.0",
                  "400.0",
                  "27.0",
                  "5.0",
                  "20.0",
                  "perfumery"
                ],
                [
                  "17",
                  "a1b71017a84f92fd8da4aeefba108a24",
                  "informatica_acessorios",
                  "59.0",
                  "636.0",
                  "1.0",
                  "900.0",
                  "40.0",
                  "15.0",
                  "20.0",
                  "computers_accessories"
                ],
                [
                  "18",
                  "a0736b92e52f6cead290e30b578413b6",
                  "moveis_decoracao",
                  "56.0",
                  "296.0",
                  "2.0",
                  "1700.0",
                  "100.0",
                  "7.0",
                  "15.0",
                  "furniture_decor"
                ],
                [
                  "19",
                  "f53103a77d9cf245e579ea37e5ec51f0",
                  "cama_mesa_banho",
                  "52.0",
                  "206.0",
                  "1.0",
                  "500.0",
                  "16.0",
                  "10.0",
                  "16.0",
                  "bed_bath_table"
                ],
                [
                  "20",
                  "1c1890ba1779090cd54008a3c3302921",
                  "moveis_decoracao",
                  "27.0",
                  "158.0",
                  "4.0",
                  "2550.0",
                  "29.0",
                  "24.0",
                  "45.0",
                  "furniture_decor"
                ],
                [
                  "21",
                  "518ef5de2c2b3a255e326a4594ba15d9",
                  "cama_mesa_banho",
                  "27.0",
                  "329.0",
                  "2.0",
                  "800.0",
                  "36.0",
                  "8.0",
                  "16.0",
                  "bed_bath_table"
                ],
                [
                  "22",
                  "e3e020af31d4d89d2602272b315c3f6e",
                  "beleza_saude",
                  "58.0",
                  "1987.0",
                  "3.0",
                  "75.0",
                  "21.0",
                  "7.0",
                  "13.0",
                  "health_beauty"
                ],
                [
                  "23",
                  "8b41fbc2b984a12030090112324d1bc4",
                  "bebes",
                  "55.0",
                  "1627.0",
                  "1.0",
                  "500.0",
                  "20.0",
                  "13.0",
                  "13.0",
                  "baby"
                ],
                [
                  "24",
                  "d03bd02af9fff4b98f1c972315e5e9ef",
                  "moveis_decoracao",
                  "56.0",
                  "209.0",
                  "1.0",
                  "1800.0",
                  "40.0",
                  "10.0",
                  "30.0",
                  "furniture_decor"
                ],
                [
                  "25",
                  "8ba4f2a4ae695d26e5626c1bf710975e",
                  "utilidades_domesticas",
                  "52.0",
                  "968.0",
                  "1.0",
                  "900.0",
                  "50.0",
                  "5.0",
                  "50.0",
                  "housewares"
                ],
                [
                  "26",
                  "f6574524b07d5bb753bab6f35abe2d06",
                  "malas_acessorios",
                  "52.0",
                  "573.0",
                  "5.0",
                  "3600.0",
                  "35.0",
                  "25.0",
                  "50.0",
                  "luggage_accessories"
                ],
                [
                  "27",
                  "c78b767da00efb70c1bcccab87c28cd5",
                  "informatica_acessorios",
                  "35.0",
                  "1101.0",
                  "2.0",
                  "300.0",
                  "42.0",
                  "2.0",
                  "30.0",
                  "computers_accessories"
                ],
                [
                  "28",
                  "a0253d43394dd4da9a5d7b1f546f1a32",
                  "informatica_acessorios",
                  "59.0",
                  "1890.0",
                  "2.0",
                  "740.0",
                  "23.0",
                  "13.0",
                  "13.0",
                  "computers_accessories"
                ],
                [
                  "29",
                  "051b9ff13dd55c0a6655a15ff296f80d",
                  "esporte_lazer",
                  "50.0",
                  "529.0",
                  "2.0",
                  "3600.0",
                  "62.0",
                  "23.0",
                  "23.0",
                  "sports_leisure"
                ],
                [
                  "30",
                  "47859fca9dd7485cbd93c3e8993bb74f",
                  "cama_mesa_banho",
                  "45.0",
                  "206.0",
                  "1.0",
                  "650.0",
                  "16.0",
                  "10.0",
                  "16.0",
                  "bed_bath_table"
                ],
                [
                  "31",
                  "e1d1d22e9f8122a4ec1533b032c12562",
                  "ferramentas_jardim",
                  "49.0",
                  "1163.0",
                  "9.0",
                  "2150.0",
                  "70.0",
                  "8.0",
                  "34.0",
                  "garden_tools"
                ],
                [
                  "32",
                  "20e37962088a4061d3578def47a8648b",
                  "moveis_decoracao",
                  "60.0",
                  "208.0",
                  "1.0",
                  "800.0",
                  "40.0",
                  "10.0",
                  "34.0",
                  "furniture_decor"
                ],
                [
                  "33",
                  "1eba879220bd0981a0e2fbab499ed4e1",
                  "moveis_escritorio",
                  "57.0",
                  "476.0",
                  "1.0",
                  "8950.0",
                  "52.0",
                  "51.0",
                  "17.0",
                  "office_furniture"
                ],
                [
                  "34",
                  "ce5b91848b91118daffb3af53b747475",
                  "esporte_lazer",
                  "50.0",
                  "699.0",
                  "4.0",
                  "1388.0",
                  "34.0",
                  "9.0",
                  "31.0",
                  "sports_leisure"
                ],
                [
                  "35",
                  "5370b82a213393979691c98074265584",
                  "bebes",
                  "52.0",
                  "708.0",
                  "9.0",
                  "7950.0",
                  "33.0",
                  "30.0",
                  "44.0",
                  "baby"
                ],
                [
                  "36",
                  "b8dac5113b06a97e64943234522572b9",
                  "automotivo",
                  "43.0",
                  "1062.0",
                  "2.0",
                  "6000.0",
                  "87.0",
                  "3.0",
                  "42.0",
                  "auto"
                ],
                [
                  "37",
                  "750cf819d127191920eda79a4b6fb479",
                  "eletronicos",
                  "31.0",
                  "806.0",
                  "1.0",
                  "263.0",
                  "18.0",
                  "12.0",
                  "16.0",
                  "electronics"
                ],
                [
                  "38",
                  "e6af694343b45b56304ad91974a110b9",
                  "utilidades_domesticas",
                  "37.0",
                  "352.0",
                  "1.0",
                  "3900.0",
                  "19.0",
                  "20.0",
                  "15.0",
                  "housewares"
                ],
                [
                  "39",
                  "680874c570dad71c0a2844cfbf417054",
                  "moveis_decoracao",
                  "47.0",
                  "502.0",
                  "1.0",
                  "600.0",
                  "25.0",
                  "25.0",
                  "25.0",
                  "furniture_decor"
                ],
                [
                  "40",
                  "8b3a9476f74f5297f7ff0ec6d95fe1ea",
                  "moveis_decoracao",
                  "63.0",
                  "254.0",
                  "2.0",
                  "2050.0",
                  "49.0",
                  "13.0",
                  "41.0",
                  "furniture_decor"
                ],
                [
                  "41",
                  "1c6fb703c624b381a20f21f757694866",
                  "brinquedos",
                  "33.0",
                  "471.0",
                  "2.0",
                  "725.0",
                  "22.0",
                  "17.0",
                  "15.0",
                  "toys"
                ],
                [
                  "42",
                  "db46052aed7dff59ba38cf2fe29b87f9",
                  "cama_mesa_banho",
                  "56.0",
                  "509.0",
                  "4.0",
                  "6350.0",
                  "45.0",
                  "15.0",
                  "35.0",
                  "bed_bath_table"
                ],
                [
                  "43",
                  "b864b103180d5a6a3f830e67f93e8735",
                  "bebes",
                  "47.0",
                  "980.0",
                  "4.0",
                  "600.0",
                  "70.0",
                  "11.0",
                  "11.0",
                  "baby"
                ],
                [
                  "44",
                  "7a8dac4aaa16bc642e4df33adcf03303",
                  "cool_stuff",
                  "38.0",
                  "1701.0",
                  "2.0",
                  "11750.0",
                  "18.0",
                  "40.0",
                  "79.0",
                  "cool_stuff"
                ],
                [
                  "45",
                  "83b9bc6aae6f527ff6aafb9e01d6cbf3",
                  "brinquedos",
                  "20.0",
                  "866.0",
                  "3.0",
                  "2550.0",
                  "22.0",
                  "32.0",
                  "38.0",
                  "toys"
                ],
                [
                  "46",
                  "5f504b3a1c75b73d6151be81eb05bdc9",
                  "cool_stuff",
                  "38.0",
                  "1176.0",
                  "3.0",
                  "15350.0",
                  "47.0",
                  "40.0",
                  "47.0",
                  "cool_stuff"
                ],
                [
                  "47",
                  "bbf920aa6ac72007a726e6f419156f8f",
                  "moveis_decoracao",
                  "42.0",
                  "303.0",
                  "2.0",
                  "1300.0",
                  "25.0",
                  "16.0",
                  "25.0",
                  "furniture_decor"
                ],
                [
                  "48",
                  "c3b7e4d83e530c27a8e6368296aece48",
                  "moveis_decoracao",
                  "60.0",
                  "1972.0",
                  "2.0",
                  "850.0",
                  "69.0",
                  "11.0",
                  "11.0",
                  "furniture_decor"
                ],
                [
                  "49",
                  "c5d8079278e912d7e3b6beb48ecb56e8",
                  "beleza_saude",
                  "60.0",
                  "330.0",
                  "1.0",
                  "1300.0",
                  "19.0",
                  "28.0",
                  "17.0",
                  "health_beauty"
                ]
              ],
              "shape": {
                "columns": 10,
                "rows": 32340
              }
            },
            "text/html": [
              "<div>\n",
              "<style scoped>\n",
              "    .dataframe tbody tr th:only-of-type {\n",
              "        vertical-align: middle;\n",
              "    }\n",
              "\n",
              "    .dataframe tbody tr th {\n",
              "        vertical-align: top;\n",
              "    }\n",
              "\n",
              "    .dataframe thead th {\n",
              "        text-align: right;\n",
              "    }\n",
              "</style>\n",
              "<table border=\"1\" class=\"dataframe\">\n",
              "  <thead>\n",
              "    <tr style=\"text-align: right;\">\n",
              "      <th></th>\n",
              "      <th>product_id</th>\n",
              "      <th>product_category_name</th>\n",
              "      <th>product_name_lenght</th>\n",
              "      <th>product_description_lenght</th>\n",
              "      <th>product_photos_qty</th>\n",
              "      <th>product_weight_g</th>\n",
              "      <th>product_length_cm</th>\n",
              "      <th>product_height_cm</th>\n",
              "      <th>product_width_cm</th>\n",
              "      <th>product_category_name_english</th>\n",
              "    </tr>\n",
              "  </thead>\n",
              "  <tbody>\n",
              "    <tr>\n",
              "      <th>0</th>\n",
              "      <td>1e9e8ef04dbcff4541ed26657ea517e5</td>\n",
              "      <td>perfumaria</td>\n",
              "      <td>40.0</td>\n",
              "      <td>287.0</td>\n",
              "      <td>1.0</td>\n",
              "      <td>225.0</td>\n",
              "      <td>16.0</td>\n",
              "      <td>10.0</td>\n",
              "      <td>14.0</td>\n",
              "      <td>perfumery</td>\n",
              "    </tr>\n",
              "    <tr>\n",
              "      <th>1</th>\n",
              "      <td>3aa071139cb16b67ca9e5dea641aaa2f</td>\n",
              "      <td>artes</td>\n",
              "      <td>44.0</td>\n",
              "      <td>276.0</td>\n",
              "      <td>1.0</td>\n",
              "      <td>1000.0</td>\n",
              "      <td>30.0</td>\n",
              "      <td>18.0</td>\n",
              "      <td>20.0</td>\n",
              "      <td>art</td>\n",
              "    </tr>\n",
              "    <tr>\n",
              "      <th>2</th>\n",
              "      <td>96bd76ec8810374ed1b65e291975717f</td>\n",
              "      <td>esporte_lazer</td>\n",
              "      <td>46.0</td>\n",
              "      <td>250.0</td>\n",
              "      <td>1.0</td>\n",
              "      <td>154.0</td>\n",
              "      <td>18.0</td>\n",
              "      <td>9.0</td>\n",
              "      <td>15.0</td>\n",
              "      <td>sports_leisure</td>\n",
              "    </tr>\n",
              "    <tr>\n",
              "      <th>3</th>\n",
              "      <td>cef67bcfe19066a932b7673e239eb23d</td>\n",
              "      <td>bebes</td>\n",
              "      <td>27.0</td>\n",
              "      <td>261.0</td>\n",
              "      <td>1.0</td>\n",
              "      <td>371.0</td>\n",
              "      <td>26.0</td>\n",
              "      <td>4.0</td>\n",
              "      <td>26.0</td>\n",
              "      <td>baby</td>\n",
              "    </tr>\n",
              "    <tr>\n",
              "      <th>4</th>\n",
              "      <td>9dc1a7de274444849c219cff195d0b71</td>\n",
              "      <td>utilidades_domesticas</td>\n",
              "      <td>37.0</td>\n",
              "      <td>402.0</td>\n",
              "      <td>4.0</td>\n",
              "      <td>625.0</td>\n",
              "      <td>20.0</td>\n",
              "      <td>17.0</td>\n",
              "      <td>13.0</td>\n",
              "      <td>housewares</td>\n",
              "    </tr>\n",
              "    <tr>\n",
              "      <th>...</th>\n",
              "      <td>...</td>\n",
              "      <td>...</td>\n",
              "      <td>...</td>\n",
              "      <td>...</td>\n",
              "      <td>...</td>\n",
              "      <td>...</td>\n",
              "      <td>...</td>\n",
              "      <td>...</td>\n",
              "      <td>...</td>\n",
              "      <td>...</td>\n",
              "    </tr>\n",
              "    <tr>\n",
              "      <th>32335</th>\n",
              "      <td>a0b7d5a992ccda646f2d34e418fff5a0</td>\n",
              "      <td>moveis_decoracao</td>\n",
              "      <td>45.0</td>\n",
              "      <td>67.0</td>\n",
              "      <td>2.0</td>\n",
              "      <td>12300.0</td>\n",
              "      <td>40.0</td>\n",
              "      <td>40.0</td>\n",
              "      <td>40.0</td>\n",
              "      <td>furniture_decor</td>\n",
              "    </tr>\n",
              "    <tr>\n",
              "      <th>32336</th>\n",
              "      <td>bf4538d88321d0fd4412a93c974510e6</td>\n",
              "      <td>construcao_ferramentas_iluminacao</td>\n",
              "      <td>41.0</td>\n",
              "      <td>971.0</td>\n",
              "      <td>1.0</td>\n",
              "      <td>1700.0</td>\n",
              "      <td>16.0</td>\n",
              "      <td>19.0</td>\n",
              "      <td>16.0</td>\n",
              "      <td>construction_tools_lights</td>\n",
              "    </tr>\n",
              "    <tr>\n",
              "      <th>32337</th>\n",
              "      <td>9a7c6041fa9592d9d9ef6cfe62a71f8c</td>\n",
              "      <td>cama_mesa_banho</td>\n",
              "      <td>50.0</td>\n",
              "      <td>799.0</td>\n",
              "      <td>1.0</td>\n",
              "      <td>1400.0</td>\n",
              "      <td>27.0</td>\n",
              "      <td>7.0</td>\n",
              "      <td>27.0</td>\n",
              "      <td>bed_bath_table</td>\n",
              "    </tr>\n",
              "    <tr>\n",
              "      <th>32338</th>\n",
              "      <td>83808703fc0706a22e264b9d75f04a2e</td>\n",
              "      <td>informatica_acessorios</td>\n",
              "      <td>60.0</td>\n",
              "      <td>156.0</td>\n",
              "      <td>2.0</td>\n",
              "      <td>700.0</td>\n",
              "      <td>31.0</td>\n",
              "      <td>13.0</td>\n",
              "      <td>20.0</td>\n",
              "      <td>computers_accessories</td>\n",
              "    </tr>\n",
              "    <tr>\n",
              "      <th>32339</th>\n",
              "      <td>106392145fca363410d287a815be6de4</td>\n",
              "      <td>cama_mesa_banho</td>\n",
              "      <td>58.0</td>\n",
              "      <td>309.0</td>\n",
              "      <td>1.0</td>\n",
              "      <td>2083.0</td>\n",
              "      <td>12.0</td>\n",
              "      <td>2.0</td>\n",
              "      <td>7.0</td>\n",
              "      <td>bed_bath_table</td>\n",
              "    </tr>\n",
              "  </tbody>\n",
              "</table>\n",
              "<p>32340 rows × 10 columns</p>\n",
              "</div>"
            ],
            "text/plain": [
              "                             product_id              product_category_name  \\\n",
              "0      1e9e8ef04dbcff4541ed26657ea517e5                         perfumaria   \n",
              "1      3aa071139cb16b67ca9e5dea641aaa2f                              artes   \n",
              "2      96bd76ec8810374ed1b65e291975717f                      esporte_lazer   \n",
              "3      cef67bcfe19066a932b7673e239eb23d                              bebes   \n",
              "4      9dc1a7de274444849c219cff195d0b71              utilidades_domesticas   \n",
              "...                                 ...                                ...   \n",
              "32335  a0b7d5a992ccda646f2d34e418fff5a0                   moveis_decoracao   \n",
              "32336  bf4538d88321d0fd4412a93c974510e6  construcao_ferramentas_iluminacao   \n",
              "32337  9a7c6041fa9592d9d9ef6cfe62a71f8c                    cama_mesa_banho   \n",
              "32338  83808703fc0706a22e264b9d75f04a2e             informatica_acessorios   \n",
              "32339  106392145fca363410d287a815be6de4                    cama_mesa_banho   \n",
              "\n",
              "       product_name_lenght  product_description_lenght  product_photos_qty  \\\n",
              "0                     40.0                       287.0                 1.0   \n",
              "1                     44.0                       276.0                 1.0   \n",
              "2                     46.0                       250.0                 1.0   \n",
              "3                     27.0                       261.0                 1.0   \n",
              "4                     37.0                       402.0                 4.0   \n",
              "...                    ...                         ...                 ...   \n",
              "32335                 45.0                        67.0                 2.0   \n",
              "32336                 41.0                       971.0                 1.0   \n",
              "32337                 50.0                       799.0                 1.0   \n",
              "32338                 60.0                       156.0                 2.0   \n",
              "32339                 58.0                       309.0                 1.0   \n",
              "\n",
              "       product_weight_g  product_length_cm  product_height_cm  \\\n",
              "0                 225.0               16.0               10.0   \n",
              "1                1000.0               30.0               18.0   \n",
              "2                 154.0               18.0                9.0   \n",
              "3                 371.0               26.0                4.0   \n",
              "4                 625.0               20.0               17.0   \n",
              "...                 ...                ...                ...   \n",
              "32335           12300.0               40.0               40.0   \n",
              "32336            1700.0               16.0               19.0   \n",
              "32337            1400.0               27.0                7.0   \n",
              "32338             700.0               31.0               13.0   \n",
              "32339            2083.0               12.0                2.0   \n",
              "\n",
              "       product_width_cm product_category_name_english  \n",
              "0                  14.0                     perfumery  \n",
              "1                  20.0                           art  \n",
              "2                  15.0                sports_leisure  \n",
              "3                  26.0                          baby  \n",
              "4                  13.0                    housewares  \n",
              "...                 ...                           ...  \n",
              "32335              40.0               furniture_decor  \n",
              "32336              16.0     construction_tools_lights  \n",
              "32337              27.0                bed_bath_table  \n",
              "32338              20.0         computers_accessories  \n",
              "32339               7.0                bed_bath_table  \n",
              "\n",
              "[32340 rows x 10 columns]"
            ]
          },
          "execution_count": 28,
          "metadata": {},
          "output_type": "execute_result"
        }
      ],
      "source": [
        "# Merging products_df dan products_category_translate_df\n",
        "products_df = products_df.merge(products_category_translate_df, on='product_category_name', how='left')\n",
        "products_df"
      ]
    },
    {
      "cell_type": "code",
      "execution_count": 29,
      "metadata": {},
      "outputs": [],
      "source": [
        "# Ganti nama kolom product_category_name_english menjadi product_category\n",
        "products_df.rename(columns={'product_category_name_english': 'product_category'}, inplace=True)"
      ]
    },
    {
      "cell_type": "code",
      "execution_count": 30,
      "metadata": {},
      "outputs": [],
      "source": [
        "# Hapus kolom product_category_name jika tidak diperlukan\n",
        "products_df.drop(columns=['product_category_name'], inplace=True)"
      ]
    },
    {
      "cell_type": "code",
      "execution_count": 31,
      "metadata": {},
      "outputs": [
        {
          "data": {
            "application/vnd.microsoft.datawrangler.viewer.v0+json": {
              "columns": [
                {
                  "name": "index",
                  "rawType": "int64",
                  "type": "integer"
                },
                {
                  "name": "product_id",
                  "rawType": "object",
                  "type": "string"
                },
                {
                  "name": "product_name_lenght",
                  "rawType": "float64",
                  "type": "float"
                },
                {
                  "name": "product_description_lenght",
                  "rawType": "float64",
                  "type": "float"
                },
                {
                  "name": "product_photos_qty",
                  "rawType": "float64",
                  "type": "float"
                },
                {
                  "name": "product_weight_g",
                  "rawType": "float64",
                  "type": "float"
                },
                {
                  "name": "product_length_cm",
                  "rawType": "float64",
                  "type": "float"
                },
                {
                  "name": "product_height_cm",
                  "rawType": "float64",
                  "type": "float"
                },
                {
                  "name": "product_width_cm",
                  "rawType": "float64",
                  "type": "float"
                },
                {
                  "name": "product_category",
                  "rawType": "object",
                  "type": "unknown"
                }
              ],
              "conversionMethod": "pd.DataFrame",
              "ref": "27c753fe-f4df-4af2-b844-7f444355937d",
              "rows": [
                [
                  "0",
                  "1e9e8ef04dbcff4541ed26657ea517e5",
                  "40.0",
                  "287.0",
                  "1.0",
                  "225.0",
                  "16.0",
                  "10.0",
                  "14.0",
                  "perfumery"
                ],
                [
                  "1",
                  "3aa071139cb16b67ca9e5dea641aaa2f",
                  "44.0",
                  "276.0",
                  "1.0",
                  "1000.0",
                  "30.0",
                  "18.0",
                  "20.0",
                  "art"
                ],
                [
                  "2",
                  "96bd76ec8810374ed1b65e291975717f",
                  "46.0",
                  "250.0",
                  "1.0",
                  "154.0",
                  "18.0",
                  "9.0",
                  "15.0",
                  "sports_leisure"
                ],
                [
                  "3",
                  "cef67bcfe19066a932b7673e239eb23d",
                  "27.0",
                  "261.0",
                  "1.0",
                  "371.0",
                  "26.0",
                  "4.0",
                  "26.0",
                  "baby"
                ],
                [
                  "4",
                  "9dc1a7de274444849c219cff195d0b71",
                  "37.0",
                  "402.0",
                  "4.0",
                  "625.0",
                  "20.0",
                  "17.0",
                  "13.0",
                  "housewares"
                ],
                [
                  "5",
                  "41d3672d4792049fa1779bb35283ed13",
                  "60.0",
                  "745.0",
                  "1.0",
                  "200.0",
                  "38.0",
                  "5.0",
                  "11.0",
                  "musical_instruments"
                ],
                [
                  "6",
                  "732bd381ad09e530fe0a5f457d81becb",
                  "56.0",
                  "1272.0",
                  "4.0",
                  "18350.0",
                  "70.0",
                  "24.0",
                  "44.0",
                  "cool_stuff"
                ],
                [
                  "7",
                  "2548af3e6e77a690cf3eb6368e9ab61e",
                  "56.0",
                  "184.0",
                  "2.0",
                  "900.0",
                  "40.0",
                  "8.0",
                  "40.0",
                  "furniture_decor"
                ],
                [
                  "8",
                  "37cc742be07708b53a98702e77a21a02",
                  "57.0",
                  "163.0",
                  "1.0",
                  "400.0",
                  "27.0",
                  "13.0",
                  "17.0",
                  "home_appliances"
                ],
                [
                  "9",
                  "8c92109888e8cdf9d66dc7e463025574",
                  "36.0",
                  "1156.0",
                  "1.0",
                  "600.0",
                  "17.0",
                  "10.0",
                  "12.0",
                  "toys"
                ],
                [
                  "10",
                  "14aa47b7fe5c25522b47b4b29c98dcb9",
                  "54.0",
                  "630.0",
                  "1.0",
                  "1100.0",
                  "16.0",
                  "10.0",
                  "16.0",
                  "bed_bath_table"
                ],
                [
                  "11",
                  "03b63c5fc16691530586ae020c345514",
                  "49.0",
                  "728.0",
                  "4.0",
                  "7150.0",
                  "50.0",
                  "19.0",
                  "45.0",
                  "baby"
                ],
                [
                  "12",
                  "cf55509ea8edaaac1d28fdb16e48fc22",
                  "43.0",
                  "1827.0",
                  "3.0",
                  "250.0",
                  "17.0",
                  "7.0",
                  "17.0",
                  "musical_instruments"
                ],
                [
                  "13",
                  "7bb6f29c2be57716194f96496660c7c2",
                  "51.0",
                  "2083.0",
                  "2.0",
                  "600.0",
                  "68.0",
                  "11.0",
                  "13.0",
                  "furniture_decor"
                ],
                [
                  "14",
                  "eb31436580a610f202c859463d8c7415",
                  "59.0",
                  "1602.0",
                  "4.0",
                  "200.0",
                  "17.0",
                  "7.0",
                  "17.0",
                  "construction_tools_safety"
                ],
                [
                  "15",
                  "3bb7f144022e6732727d8d838a7b13b3",
                  "22.0",
                  "3021.0",
                  "1.0",
                  "800.0",
                  "16.0",
                  "2.0",
                  "11.0",
                  "sports_leisure"
                ],
                [
                  "16",
                  "6a2fb4dd53d2cdb88e0432f1284a004c",
                  "39.0",
                  "346.0",
                  "2.0",
                  "400.0",
                  "27.0",
                  "5.0",
                  "20.0",
                  "perfumery"
                ],
                [
                  "17",
                  "a1b71017a84f92fd8da4aeefba108a24",
                  "59.0",
                  "636.0",
                  "1.0",
                  "900.0",
                  "40.0",
                  "15.0",
                  "20.0",
                  "computers_accessories"
                ],
                [
                  "18",
                  "a0736b92e52f6cead290e30b578413b6",
                  "56.0",
                  "296.0",
                  "2.0",
                  "1700.0",
                  "100.0",
                  "7.0",
                  "15.0",
                  "furniture_decor"
                ],
                [
                  "19",
                  "f53103a77d9cf245e579ea37e5ec51f0",
                  "52.0",
                  "206.0",
                  "1.0",
                  "500.0",
                  "16.0",
                  "10.0",
                  "16.0",
                  "bed_bath_table"
                ],
                [
                  "20",
                  "1c1890ba1779090cd54008a3c3302921",
                  "27.0",
                  "158.0",
                  "4.0",
                  "2550.0",
                  "29.0",
                  "24.0",
                  "45.0",
                  "furniture_decor"
                ],
                [
                  "21",
                  "518ef5de2c2b3a255e326a4594ba15d9",
                  "27.0",
                  "329.0",
                  "2.0",
                  "800.0",
                  "36.0",
                  "8.0",
                  "16.0",
                  "bed_bath_table"
                ],
                [
                  "22",
                  "e3e020af31d4d89d2602272b315c3f6e",
                  "58.0",
                  "1987.0",
                  "3.0",
                  "75.0",
                  "21.0",
                  "7.0",
                  "13.0",
                  "health_beauty"
                ],
                [
                  "23",
                  "8b41fbc2b984a12030090112324d1bc4",
                  "55.0",
                  "1627.0",
                  "1.0",
                  "500.0",
                  "20.0",
                  "13.0",
                  "13.0",
                  "baby"
                ],
                [
                  "24",
                  "d03bd02af9fff4b98f1c972315e5e9ef",
                  "56.0",
                  "209.0",
                  "1.0",
                  "1800.0",
                  "40.0",
                  "10.0",
                  "30.0",
                  "furniture_decor"
                ],
                [
                  "25",
                  "8ba4f2a4ae695d26e5626c1bf710975e",
                  "52.0",
                  "968.0",
                  "1.0",
                  "900.0",
                  "50.0",
                  "5.0",
                  "50.0",
                  "housewares"
                ],
                [
                  "26",
                  "f6574524b07d5bb753bab6f35abe2d06",
                  "52.0",
                  "573.0",
                  "5.0",
                  "3600.0",
                  "35.0",
                  "25.0",
                  "50.0",
                  "luggage_accessories"
                ],
                [
                  "27",
                  "c78b767da00efb70c1bcccab87c28cd5",
                  "35.0",
                  "1101.0",
                  "2.0",
                  "300.0",
                  "42.0",
                  "2.0",
                  "30.0",
                  "computers_accessories"
                ],
                [
                  "28",
                  "a0253d43394dd4da9a5d7b1f546f1a32",
                  "59.0",
                  "1890.0",
                  "2.0",
                  "740.0",
                  "23.0",
                  "13.0",
                  "13.0",
                  "computers_accessories"
                ],
                [
                  "29",
                  "051b9ff13dd55c0a6655a15ff296f80d",
                  "50.0",
                  "529.0",
                  "2.0",
                  "3600.0",
                  "62.0",
                  "23.0",
                  "23.0",
                  "sports_leisure"
                ],
                [
                  "30",
                  "47859fca9dd7485cbd93c3e8993bb74f",
                  "45.0",
                  "206.0",
                  "1.0",
                  "650.0",
                  "16.0",
                  "10.0",
                  "16.0",
                  "bed_bath_table"
                ],
                [
                  "31",
                  "e1d1d22e9f8122a4ec1533b032c12562",
                  "49.0",
                  "1163.0",
                  "9.0",
                  "2150.0",
                  "70.0",
                  "8.0",
                  "34.0",
                  "garden_tools"
                ],
                [
                  "32",
                  "20e37962088a4061d3578def47a8648b",
                  "60.0",
                  "208.0",
                  "1.0",
                  "800.0",
                  "40.0",
                  "10.0",
                  "34.0",
                  "furniture_decor"
                ],
                [
                  "33",
                  "1eba879220bd0981a0e2fbab499ed4e1",
                  "57.0",
                  "476.0",
                  "1.0",
                  "8950.0",
                  "52.0",
                  "51.0",
                  "17.0",
                  "office_furniture"
                ],
                [
                  "34",
                  "ce5b91848b91118daffb3af53b747475",
                  "50.0",
                  "699.0",
                  "4.0",
                  "1388.0",
                  "34.0",
                  "9.0",
                  "31.0",
                  "sports_leisure"
                ],
                [
                  "35",
                  "5370b82a213393979691c98074265584",
                  "52.0",
                  "708.0",
                  "9.0",
                  "7950.0",
                  "33.0",
                  "30.0",
                  "44.0",
                  "baby"
                ],
                [
                  "36",
                  "b8dac5113b06a97e64943234522572b9",
                  "43.0",
                  "1062.0",
                  "2.0",
                  "6000.0",
                  "87.0",
                  "3.0",
                  "42.0",
                  "auto"
                ],
                [
                  "37",
                  "750cf819d127191920eda79a4b6fb479",
                  "31.0",
                  "806.0",
                  "1.0",
                  "263.0",
                  "18.0",
                  "12.0",
                  "16.0",
                  "electronics"
                ],
                [
                  "38",
                  "e6af694343b45b56304ad91974a110b9",
                  "37.0",
                  "352.0",
                  "1.0",
                  "3900.0",
                  "19.0",
                  "20.0",
                  "15.0",
                  "housewares"
                ],
                [
                  "39",
                  "680874c570dad71c0a2844cfbf417054",
                  "47.0",
                  "502.0",
                  "1.0",
                  "600.0",
                  "25.0",
                  "25.0",
                  "25.0",
                  "furniture_decor"
                ],
                [
                  "40",
                  "8b3a9476f74f5297f7ff0ec6d95fe1ea",
                  "63.0",
                  "254.0",
                  "2.0",
                  "2050.0",
                  "49.0",
                  "13.0",
                  "41.0",
                  "furniture_decor"
                ],
                [
                  "41",
                  "1c6fb703c624b381a20f21f757694866",
                  "33.0",
                  "471.0",
                  "2.0",
                  "725.0",
                  "22.0",
                  "17.0",
                  "15.0",
                  "toys"
                ],
                [
                  "42",
                  "db46052aed7dff59ba38cf2fe29b87f9",
                  "56.0",
                  "509.0",
                  "4.0",
                  "6350.0",
                  "45.0",
                  "15.0",
                  "35.0",
                  "bed_bath_table"
                ],
                [
                  "43",
                  "b864b103180d5a6a3f830e67f93e8735",
                  "47.0",
                  "980.0",
                  "4.0",
                  "600.0",
                  "70.0",
                  "11.0",
                  "11.0",
                  "baby"
                ],
                [
                  "44",
                  "7a8dac4aaa16bc642e4df33adcf03303",
                  "38.0",
                  "1701.0",
                  "2.0",
                  "11750.0",
                  "18.0",
                  "40.0",
                  "79.0",
                  "cool_stuff"
                ],
                [
                  "45",
                  "83b9bc6aae6f527ff6aafb9e01d6cbf3",
                  "20.0",
                  "866.0",
                  "3.0",
                  "2550.0",
                  "22.0",
                  "32.0",
                  "38.0",
                  "toys"
                ],
                [
                  "46",
                  "5f504b3a1c75b73d6151be81eb05bdc9",
                  "38.0",
                  "1176.0",
                  "3.0",
                  "15350.0",
                  "47.0",
                  "40.0",
                  "47.0",
                  "cool_stuff"
                ],
                [
                  "47",
                  "bbf920aa6ac72007a726e6f419156f8f",
                  "42.0",
                  "303.0",
                  "2.0",
                  "1300.0",
                  "25.0",
                  "16.0",
                  "25.0",
                  "furniture_decor"
                ],
                [
                  "48",
                  "c3b7e4d83e530c27a8e6368296aece48",
                  "60.0",
                  "1972.0",
                  "2.0",
                  "850.0",
                  "69.0",
                  "11.0",
                  "11.0",
                  "furniture_decor"
                ],
                [
                  "49",
                  "c5d8079278e912d7e3b6beb48ecb56e8",
                  "60.0",
                  "330.0",
                  "1.0",
                  "1300.0",
                  "19.0",
                  "28.0",
                  "17.0",
                  "health_beauty"
                ]
              ],
              "shape": {
                "columns": 9,
                "rows": 32340
              }
            },
            "text/html": [
              "<div>\n",
              "<style scoped>\n",
              "    .dataframe tbody tr th:only-of-type {\n",
              "        vertical-align: middle;\n",
              "    }\n",
              "\n",
              "    .dataframe tbody tr th {\n",
              "        vertical-align: top;\n",
              "    }\n",
              "\n",
              "    .dataframe thead th {\n",
              "        text-align: right;\n",
              "    }\n",
              "</style>\n",
              "<table border=\"1\" class=\"dataframe\">\n",
              "  <thead>\n",
              "    <tr style=\"text-align: right;\">\n",
              "      <th></th>\n",
              "      <th>product_id</th>\n",
              "      <th>product_name_lenght</th>\n",
              "      <th>product_description_lenght</th>\n",
              "      <th>product_photos_qty</th>\n",
              "      <th>product_weight_g</th>\n",
              "      <th>product_length_cm</th>\n",
              "      <th>product_height_cm</th>\n",
              "      <th>product_width_cm</th>\n",
              "      <th>product_category</th>\n",
              "    </tr>\n",
              "  </thead>\n",
              "  <tbody>\n",
              "    <tr>\n",
              "      <th>0</th>\n",
              "      <td>1e9e8ef04dbcff4541ed26657ea517e5</td>\n",
              "      <td>40.0</td>\n",
              "      <td>287.0</td>\n",
              "      <td>1.0</td>\n",
              "      <td>225.0</td>\n",
              "      <td>16.0</td>\n",
              "      <td>10.0</td>\n",
              "      <td>14.0</td>\n",
              "      <td>perfumery</td>\n",
              "    </tr>\n",
              "    <tr>\n",
              "      <th>1</th>\n",
              "      <td>3aa071139cb16b67ca9e5dea641aaa2f</td>\n",
              "      <td>44.0</td>\n",
              "      <td>276.0</td>\n",
              "      <td>1.0</td>\n",
              "      <td>1000.0</td>\n",
              "      <td>30.0</td>\n",
              "      <td>18.0</td>\n",
              "      <td>20.0</td>\n",
              "      <td>art</td>\n",
              "    </tr>\n",
              "    <tr>\n",
              "      <th>2</th>\n",
              "      <td>96bd76ec8810374ed1b65e291975717f</td>\n",
              "      <td>46.0</td>\n",
              "      <td>250.0</td>\n",
              "      <td>1.0</td>\n",
              "      <td>154.0</td>\n",
              "      <td>18.0</td>\n",
              "      <td>9.0</td>\n",
              "      <td>15.0</td>\n",
              "      <td>sports_leisure</td>\n",
              "    </tr>\n",
              "    <tr>\n",
              "      <th>3</th>\n",
              "      <td>cef67bcfe19066a932b7673e239eb23d</td>\n",
              "      <td>27.0</td>\n",
              "      <td>261.0</td>\n",
              "      <td>1.0</td>\n",
              "      <td>371.0</td>\n",
              "      <td>26.0</td>\n",
              "      <td>4.0</td>\n",
              "      <td>26.0</td>\n",
              "      <td>baby</td>\n",
              "    </tr>\n",
              "    <tr>\n",
              "      <th>4</th>\n",
              "      <td>9dc1a7de274444849c219cff195d0b71</td>\n",
              "      <td>37.0</td>\n",
              "      <td>402.0</td>\n",
              "      <td>4.0</td>\n",
              "      <td>625.0</td>\n",
              "      <td>20.0</td>\n",
              "      <td>17.0</td>\n",
              "      <td>13.0</td>\n",
              "      <td>housewares</td>\n",
              "    </tr>\n",
              "    <tr>\n",
              "      <th>...</th>\n",
              "      <td>...</td>\n",
              "      <td>...</td>\n",
              "      <td>...</td>\n",
              "      <td>...</td>\n",
              "      <td>...</td>\n",
              "      <td>...</td>\n",
              "      <td>...</td>\n",
              "      <td>...</td>\n",
              "      <td>...</td>\n",
              "    </tr>\n",
              "    <tr>\n",
              "      <th>32335</th>\n",
              "      <td>a0b7d5a992ccda646f2d34e418fff5a0</td>\n",
              "      <td>45.0</td>\n",
              "      <td>67.0</td>\n",
              "      <td>2.0</td>\n",
              "      <td>12300.0</td>\n",
              "      <td>40.0</td>\n",
              "      <td>40.0</td>\n",
              "      <td>40.0</td>\n",
              "      <td>furniture_decor</td>\n",
              "    </tr>\n",
              "    <tr>\n",
              "      <th>32336</th>\n",
              "      <td>bf4538d88321d0fd4412a93c974510e6</td>\n",
              "      <td>41.0</td>\n",
              "      <td>971.0</td>\n",
              "      <td>1.0</td>\n",
              "      <td>1700.0</td>\n",
              "      <td>16.0</td>\n",
              "      <td>19.0</td>\n",
              "      <td>16.0</td>\n",
              "      <td>construction_tools_lights</td>\n",
              "    </tr>\n",
              "    <tr>\n",
              "      <th>32337</th>\n",
              "      <td>9a7c6041fa9592d9d9ef6cfe62a71f8c</td>\n",
              "      <td>50.0</td>\n",
              "      <td>799.0</td>\n",
              "      <td>1.0</td>\n",
              "      <td>1400.0</td>\n",
              "      <td>27.0</td>\n",
              "      <td>7.0</td>\n",
              "      <td>27.0</td>\n",
              "      <td>bed_bath_table</td>\n",
              "    </tr>\n",
              "    <tr>\n",
              "      <th>32338</th>\n",
              "      <td>83808703fc0706a22e264b9d75f04a2e</td>\n",
              "      <td>60.0</td>\n",
              "      <td>156.0</td>\n",
              "      <td>2.0</td>\n",
              "      <td>700.0</td>\n",
              "      <td>31.0</td>\n",
              "      <td>13.0</td>\n",
              "      <td>20.0</td>\n",
              "      <td>computers_accessories</td>\n",
              "    </tr>\n",
              "    <tr>\n",
              "      <th>32339</th>\n",
              "      <td>106392145fca363410d287a815be6de4</td>\n",
              "      <td>58.0</td>\n",
              "      <td>309.0</td>\n",
              "      <td>1.0</td>\n",
              "      <td>2083.0</td>\n",
              "      <td>12.0</td>\n",
              "      <td>2.0</td>\n",
              "      <td>7.0</td>\n",
              "      <td>bed_bath_table</td>\n",
              "    </tr>\n",
              "  </tbody>\n",
              "</table>\n",
              "<p>32340 rows × 9 columns</p>\n",
              "</div>"
            ],
            "text/plain": [
              "                             product_id  product_name_lenght  \\\n",
              "0      1e9e8ef04dbcff4541ed26657ea517e5                 40.0   \n",
              "1      3aa071139cb16b67ca9e5dea641aaa2f                 44.0   \n",
              "2      96bd76ec8810374ed1b65e291975717f                 46.0   \n",
              "3      cef67bcfe19066a932b7673e239eb23d                 27.0   \n",
              "4      9dc1a7de274444849c219cff195d0b71                 37.0   \n",
              "...                                 ...                  ...   \n",
              "32335  a0b7d5a992ccda646f2d34e418fff5a0                 45.0   \n",
              "32336  bf4538d88321d0fd4412a93c974510e6                 41.0   \n",
              "32337  9a7c6041fa9592d9d9ef6cfe62a71f8c                 50.0   \n",
              "32338  83808703fc0706a22e264b9d75f04a2e                 60.0   \n",
              "32339  106392145fca363410d287a815be6de4                 58.0   \n",
              "\n",
              "       product_description_lenght  product_photos_qty  product_weight_g  \\\n",
              "0                           287.0                 1.0             225.0   \n",
              "1                           276.0                 1.0            1000.0   \n",
              "2                           250.0                 1.0             154.0   \n",
              "3                           261.0                 1.0             371.0   \n",
              "4                           402.0                 4.0             625.0   \n",
              "...                           ...                 ...               ...   \n",
              "32335                        67.0                 2.0           12300.0   \n",
              "32336                       971.0                 1.0            1700.0   \n",
              "32337                       799.0                 1.0            1400.0   \n",
              "32338                       156.0                 2.0             700.0   \n",
              "32339                       309.0                 1.0            2083.0   \n",
              "\n",
              "       product_length_cm  product_height_cm  product_width_cm  \\\n",
              "0                   16.0               10.0              14.0   \n",
              "1                   30.0               18.0              20.0   \n",
              "2                   18.0                9.0              15.0   \n",
              "3                   26.0                4.0              26.0   \n",
              "4                   20.0               17.0              13.0   \n",
              "...                  ...                ...               ...   \n",
              "32335               40.0               40.0              40.0   \n",
              "32336               16.0               19.0              16.0   \n",
              "32337               27.0                7.0              27.0   \n",
              "32338               31.0               13.0              20.0   \n",
              "32339               12.0                2.0               7.0   \n",
              "\n",
              "                product_category  \n",
              "0                      perfumery  \n",
              "1                            art  \n",
              "2                 sports_leisure  \n",
              "3                           baby  \n",
              "4                     housewares  \n",
              "...                          ...  \n",
              "32335            furniture_decor  \n",
              "32336  construction_tools_lights  \n",
              "32337             bed_bath_table  \n",
              "32338      computers_accessories  \n",
              "32339             bed_bath_table  \n",
              "\n",
              "[32340 rows x 9 columns]"
            ]
          },
          "execution_count": 31,
          "metadata": {},
          "output_type": "execute_result"
        }
      ],
      "source": [
        "products_df"
      ]
    },
    {
      "cell_type": "code",
      "execution_count": 32,
      "metadata": {},
      "outputs": [
        {
          "data": {
            "application/vnd.microsoft.datawrangler.viewer.v0+json": {
              "columns": [
                {
                  "name": "index",
                  "rawType": "object",
                  "type": "string"
                },
                {
                  "name": "product_name_lenght",
                  "rawType": "float64",
                  "type": "float"
                },
                {
                  "name": "product_description_lenght",
                  "rawType": "float64",
                  "type": "float"
                },
                {
                  "name": "product_photos_qty",
                  "rawType": "float64",
                  "type": "float"
                },
                {
                  "name": "product_weight_g",
                  "rawType": "float64",
                  "type": "float"
                },
                {
                  "name": "product_length_cm",
                  "rawType": "float64",
                  "type": "float"
                },
                {
                  "name": "product_height_cm",
                  "rawType": "float64",
                  "type": "float"
                },
                {
                  "name": "product_width_cm",
                  "rawType": "float64",
                  "type": "float"
                }
              ],
              "conversionMethod": "pd.DataFrame",
              "ref": "6531bfe0-04bc-4a85-bbbf-9ba3d4a86aaa",
              "rows": [
                [
                  "count",
                  "32340.0",
                  "32340.0",
                  "32340.0",
                  "32340.0",
                  "32340.0",
                  "32340.0",
                  "32340.0"
                ],
                [
                  "mean",
                  "48.47659245516388",
                  "771.4923933209648",
                  "2.1889610389610388",
                  "2276.956586270872",
                  "30.854545454545455",
                  "16.958812615955473",
                  "23.208596165739024"
                ],
                [
                  "std",
                  "10.245698759400783",
                  "635.1248313619122",
                  "1.7367866346882603",
                  "4279.291844890443",
                  "16.955964727614138",
                  "13.636115015503993",
                  "12.078762221674578"
                ],
                [
                  "min",
                  "5.0",
                  "4.0",
                  "1.0",
                  "0.0",
                  "7.0",
                  "2.0",
                  "6.0"
                ],
                [
                  "25%",
                  "42.0",
                  "339.0",
                  "1.0",
                  "300.0",
                  "18.0",
                  "8.0",
                  "15.0"
                ],
                [
                  "50%",
                  "51.0",
                  "595.0",
                  "1.0",
                  "700.0",
                  "25.0",
                  "13.0",
                  "20.0"
                ],
                [
                  "75%",
                  "57.0",
                  "972.0",
                  "3.0",
                  "1900.0",
                  "38.0",
                  "21.0",
                  "30.0"
                ],
                [
                  "max",
                  "76.0",
                  "3992.0",
                  "20.0",
                  "40425.0",
                  "105.0",
                  "105.0",
                  "118.0"
                ]
              ],
              "shape": {
                "columns": 7,
                "rows": 8
              }
            },
            "text/html": [
              "<div>\n",
              "<style scoped>\n",
              "    .dataframe tbody tr th:only-of-type {\n",
              "        vertical-align: middle;\n",
              "    }\n",
              "\n",
              "    .dataframe tbody tr th {\n",
              "        vertical-align: top;\n",
              "    }\n",
              "\n",
              "    .dataframe thead th {\n",
              "        text-align: right;\n",
              "    }\n",
              "</style>\n",
              "<table border=\"1\" class=\"dataframe\">\n",
              "  <thead>\n",
              "    <tr style=\"text-align: right;\">\n",
              "      <th></th>\n",
              "      <th>product_name_lenght</th>\n",
              "      <th>product_description_lenght</th>\n",
              "      <th>product_photos_qty</th>\n",
              "      <th>product_weight_g</th>\n",
              "      <th>product_length_cm</th>\n",
              "      <th>product_height_cm</th>\n",
              "      <th>product_width_cm</th>\n",
              "    </tr>\n",
              "  </thead>\n",
              "  <tbody>\n",
              "    <tr>\n",
              "      <th>count</th>\n",
              "      <td>32340.000000</td>\n",
              "      <td>32340.000000</td>\n",
              "      <td>32340.000000</td>\n",
              "      <td>32340.000000</td>\n",
              "      <td>32340.000000</td>\n",
              "      <td>32340.000000</td>\n",
              "      <td>32340.000000</td>\n",
              "    </tr>\n",
              "    <tr>\n",
              "      <th>mean</th>\n",
              "      <td>48.476592</td>\n",
              "      <td>771.492393</td>\n",
              "      <td>2.188961</td>\n",
              "      <td>2276.956586</td>\n",
              "      <td>30.854545</td>\n",
              "      <td>16.958813</td>\n",
              "      <td>23.208596</td>\n",
              "    </tr>\n",
              "    <tr>\n",
              "      <th>std</th>\n",
              "      <td>10.245699</td>\n",
              "      <td>635.124831</td>\n",
              "      <td>1.736787</td>\n",
              "      <td>4279.291845</td>\n",
              "      <td>16.955965</td>\n",
              "      <td>13.636115</td>\n",
              "      <td>12.078762</td>\n",
              "    </tr>\n",
              "    <tr>\n",
              "      <th>min</th>\n",
              "      <td>5.000000</td>\n",
              "      <td>4.000000</td>\n",
              "      <td>1.000000</td>\n",
              "      <td>0.000000</td>\n",
              "      <td>7.000000</td>\n",
              "      <td>2.000000</td>\n",
              "      <td>6.000000</td>\n",
              "    </tr>\n",
              "    <tr>\n",
              "      <th>25%</th>\n",
              "      <td>42.000000</td>\n",
              "      <td>339.000000</td>\n",
              "      <td>1.000000</td>\n",
              "      <td>300.000000</td>\n",
              "      <td>18.000000</td>\n",
              "      <td>8.000000</td>\n",
              "      <td>15.000000</td>\n",
              "    </tr>\n",
              "    <tr>\n",
              "      <th>50%</th>\n",
              "      <td>51.000000</td>\n",
              "      <td>595.000000</td>\n",
              "      <td>1.000000</td>\n",
              "      <td>700.000000</td>\n",
              "      <td>25.000000</td>\n",
              "      <td>13.000000</td>\n",
              "      <td>20.000000</td>\n",
              "    </tr>\n",
              "    <tr>\n",
              "      <th>75%</th>\n",
              "      <td>57.000000</td>\n",
              "      <td>972.000000</td>\n",
              "      <td>3.000000</td>\n",
              "      <td>1900.000000</td>\n",
              "      <td>38.000000</td>\n",
              "      <td>21.000000</td>\n",
              "      <td>30.000000</td>\n",
              "    </tr>\n",
              "    <tr>\n",
              "      <th>max</th>\n",
              "      <td>76.000000</td>\n",
              "      <td>3992.000000</td>\n",
              "      <td>20.000000</td>\n",
              "      <td>40425.000000</td>\n",
              "      <td>105.000000</td>\n",
              "      <td>105.000000</td>\n",
              "      <td>118.000000</td>\n",
              "    </tr>\n",
              "  </tbody>\n",
              "</table>\n",
              "</div>"
            ],
            "text/plain": [
              "       product_name_lenght  product_description_lenght  product_photos_qty  \\\n",
              "count         32340.000000                32340.000000        32340.000000   \n",
              "mean             48.476592                  771.492393            2.188961   \n",
              "std              10.245699                  635.124831            1.736787   \n",
              "min               5.000000                    4.000000            1.000000   \n",
              "25%              42.000000                  339.000000            1.000000   \n",
              "50%              51.000000                  595.000000            1.000000   \n",
              "75%              57.000000                  972.000000            3.000000   \n",
              "max              76.000000                 3992.000000           20.000000   \n",
              "\n",
              "       product_weight_g  product_length_cm  product_height_cm  \\\n",
              "count      32340.000000       32340.000000       32340.000000   \n",
              "mean        2276.956586          30.854545          16.958813   \n",
              "std         4279.291845          16.955965          13.636115   \n",
              "min            0.000000           7.000000           2.000000   \n",
              "25%          300.000000          18.000000           8.000000   \n",
              "50%          700.000000          25.000000          13.000000   \n",
              "75%         1900.000000          38.000000          21.000000   \n",
              "max        40425.000000         105.000000         105.000000   \n",
              "\n",
              "       product_width_cm  \n",
              "count      32340.000000  \n",
              "mean          23.208596  \n",
              "std           12.078762  \n",
              "min            6.000000  \n",
              "25%           15.000000  \n",
              "50%           20.000000  \n",
              "75%           30.000000  \n",
              "max          118.000000  "
            ]
          },
          "execution_count": 32,
          "metadata": {},
          "output_type": "execute_result"
        }
      ],
      "source": [
        "products_df.describe()"
      ]
    },
    {
      "cell_type": "markdown",
      "metadata": {},
      "source": [
        "**Insight:**\n",
        "- Data tersebut merupakan sebuah deskripsi dalam penjualan terhadap seller."
      ]
    },
    {
      "cell_type": "markdown",
      "metadata": {
        "id": "zsyZjqak8DC2"
      },
      "source": [
        "## Visualization & Explanatory Analysis"
      ]
    },
    {
      "cell_type": "markdown",
      "metadata": {
        "id": "HZxOiQ6n8DC2"
      },
      "source": [
        "### Pertanyaan 1: Kategori produk apa yang memiliki penjualan tertinggi dan terendah?"
      ]
    },
    {
      "cell_type": "code",
      "execution_count": 33,
      "metadata": {
        "id": "1swJUdAD8DC2"
      },
      "outputs": [],
      "source": [
        "import pandas as pd\n",
        "import matplotlib.pyplot as plt\n",
        "import seaborn as sns\n",
        "\n",
        "# Menggabungkan data produk dan order_item_df (pastikan data sudah ada di merged_data)\n",
        "merged_data = pd.merge(order_item_df, products_df, on='product_id', how='left')\n",
        "\n",
        "# Menghitung total penjualan per produk\n",
        "merged_data['total_sales'] = merged_data['price'] * merged_data['order_item_id']\n",
        "\n",
        "# Menghitung total penjualan per produk\n",
        "total_sales_per_category = merged_data.groupby('product_category')['total_sales'].sum().reset_index()\n",
        "\n",
        "# Mengurutkan kategori berdasarkan total penjualan\n",
        "sorted_sales = total_sales_per_category.sort_values(by='total_sales', ascending=False)\n",
        "\n",
        "# Mengambil produk dengan penjualan tertinggi dan terendah\n",
        "highest_selling_product = sorted_sales.head(1)\n",
        "lowest_selling_product = sorted_sales.tail(1)\n"
      ]
    },
    {
      "cell_type": "code",
      "execution_count": 34,
      "metadata": {},
      "outputs": [
        {
          "name": "stderr",
          "output_type": "stream",
          "text": [
            "C:\\Users\\mufid\\AppData\\Local\\Temp\\ipykernel_30204\\304264514.py:3: FutureWarning: \n",
            "\n",
            "Passing `palette` without assigning `hue` is deprecated and will be removed in v0.14.0. Assign the `y` variable to `hue` and set `legend=False` for the same effect.\n",
            "\n",
            "  sns.barplot(x='total_sales', y='product_category', data=sorted_sales.head(10), palette=\"Blues_d\")\n"
          ]
        },
        {
          "data": {
            "image/png": "[encoded data removed]",
            "text/plain": [
              "<Figure size 1200x600 with 1 Axes>"
            ]
          },
          "metadata": {},
          "output_type": "display_data"
        },
        {
          "name": "stderr",
          "output_type": "stream",
          "text": [
            "C:\\Users\\mufid\\AppData\\Local\\Temp\\ipykernel_30204\\304264514.py:12: FutureWarning: \n",
            "\n",
            "Passing `palette` without assigning `hue` is deprecated and will be removed in v0.14.0. Assign the `y` variable to `hue` and set `legend=False` for the same effect.\n",
            "\n",
            "  sns.barplot(x='total_sales', y='product_category', data=sorted_sales.tail(10), palette=\"Reds_d\")\n"
          ]
        },
        {
          "data": {
            "image/png": "[encoded data removed]",
            "text/plain": [
              "<Figure size 1200x600 with 1 Axes>"
            ]
          },
          "metadata": {},
          "output_type": "display_data"
        }
      ],
      "source": [
        "# Visualisasi Produk dengan Penjualan Tertinggi\n",
        "plt.figure(figsize=(12, 6))\n",
        "sns.barplot(x='total_sales', y='product_category', data=sorted_sales.head(10), palette=\"Blues_d\")\n",
        "\n",
        "plt.title('Top 10 Kategori Produk dengan Penjualan Tertinggi')\n",
        "plt.xlabel('Total Penjualan')\n",
        "plt.ylabel('Kategori Produk')\n",
        "plt.show()\n",
        "\n",
        "# Visualisasi Produk dengan Penjualan Terendah\n",
        "plt.figure(figsize=(12, 6))\n",
        "sns.barplot(x='total_sales', y='product_category', data=sorted_sales.tail(10), palette=\"Reds_d\")\n",
        "\n",
        "plt.title('10 Kategori Produk dengan Penjualan Terendah')\n",
        "plt.xlabel('Total Penjualan')\n",
        "plt.ylabel('Kategori Produk')\n",
        "plt.show()"
      ]
    },
    {
      "cell_type": "markdown",
      "metadata": {
        "id": "DgHI7CiU8DC2"
      },
      "source": [
        "### Pertanyaan 2: Bagaimana tren jumlah pesanan dari waktu ke waktu berdasarkan tahunan?"
      ]
    },
    {
      "cell_type": "code",
      "execution_count": 88,
      "metadata": {
        "id": "Go0lCsvO8DC2"
      },
      "outputs": [],
      "source": [
        "# Pastikan kolom order_purchase_timestamp dalam format datetime\n",
        "orders_df['order_purchase_timestamp'] = pd.to_datetime(orders_df['order_purchase_timestamp'])\n",
        "\n",
        "# Ekstrak tahun dari timestamp\n",
        "orders_df['order_year'] = orders_df['order_purchase_timestamp'].dt.year\n",
        "\n",
        "# Hitung jumlah pesanan per tahun\n",
        "orders_per_year = orders_df.groupby('order_year').size().reset_index(name='order_count')"
      ]
    },
    {
      "cell_type": "code",
      "execution_count": 89,
      "metadata": {},
      "outputs": [
        {
          "data": {
            "image/png": "[encoded data removed]",
            "text/plain": [
              "<Figure size 1000x500 with 1 Axes>"
            ]
          },
          "metadata": {},
          "output_type": "display_data"
        }
      ],
      "source": [
        "# Visualisasi tren jumlah pesanan tahunan\n",
        "plt.figure(figsize=(10, 5))\n",
        "sns.lineplot(x='order_year', y='order_count', data=orders_per_year, marker='o', color='b')\n",
        "\n",
        "plt.title('Tren Jumlah Pesanan per Tahun')\n",
        "plt.xlabel('Tahun')\n",
        "plt.ylabel('Jumlah Pesanan')\n",
        "plt.grid(True)\n",
        "plt.show()"
      ]
    },
    {
      "cell_type": "markdown",
      "metadata": {},
      "source": [
        "### Pertanyaan 3: Metode pembayaran apa yang paling populer di kalangan pelanggan?"
      ]
    },
    {
      "cell_type": "code",
      "execution_count": 37,
      "metadata": {},
      "outputs": [],
      "source": [
        "# Hitung jumlah transaksi berdasarkan metode pembayaran\n",
        "payment_counts = orders_payment_df['payment_type'].value_counts()"
      ]
    },
    {
      "cell_type": "code",
      "execution_count": 38,
      "metadata": {},
      "outputs": [
        {
          "name": "stderr",
          "output_type": "stream",
          "text": [
            "C:\\Users\\mufid\\AppData\\Local\\Temp\\ipykernel_30204\\1312435489.py:3: FutureWarning: \n",
            "\n",
            "Passing `palette` without assigning `hue` is deprecated and will be removed in v0.14.0. Assign the `x` variable to `hue` and set `legend=False` for the same effect.\n",
            "\n",
            "  sns.barplot(x=payment_counts.index, y=payment_counts.values, palette='viridis')\n"
          ]
        },
        {
          "data": {
            "image/png": "[encoded data removed]",
            "text/plain": [
              "<Figure size 800x500 with 1 Axes>"
            ]
          },
          "metadata": {},
          "output_type": "display_data"
        }
      ],
      "source": [
        "# Visualisasi dalam bentuk bar chart\n",
        "plt.figure(figsize=(8, 5))\n",
        "sns.barplot(x=payment_counts.index, y=payment_counts.values, palette='viridis')\n",
        "\n",
        "plt.title('Metode Pembayaran Paling Populer')\n",
        "plt.xlabel('Metode Pembayaran')\n",
        "plt.ylabel('Jumlah Transaksi')\n",
        "plt.xticks(rotation=45)\n",
        "plt.grid(axis='y', linestyle='--', alpha=0.7)\n",
        "plt.show()"
      ]
    },
    {
      "cell_type": "markdown",
      "metadata": {
        "id": "_0-36BDLklRg"
      },
      "source": [
        "**Insight:**\n",
        "### Q1: Kategori Produk Terlaris & Terendah\n",
        ">  Dalam hasil dari Exploratory didapatkan bahwa order_item_df dan products_df memiliki satu keterkaitan yaitu `product_id`. Sehingga hasil yang diinginkan bisa terjawab dengan baik melalui pivot tabel antara `price` dikalikan dengan jumlah `order_item_id` menghasilkan beberapa kategori paling banyak terjual yaitu `health_beauty`, `watches_gifts` dan `bed_bath_table`. Sedangkan paling sedikit kategori yang terjual yaitu `security_and_services`.\n",
        "### Q2: Tren Jumlah Transaksi (2016-2018)\n",
        "> Terjadi peningkatan bertahap jumlah transaksi dari 2016 hingga 2018, dengan puncak tertinggi di tahun 2018.\n",
        "### Q3: Metode Pembayaran Dominan\n",
        "> Credit Card adalah metode pembayaran paling sering digunakan dalam transaksi.\n"
      ]
    },
    {
      "cell_type": "code",
      "execution_count": 82,
      "metadata": {},
      "outputs": [],
      "source": [
        "# Merge all data into one dataframe\n",
        "all_data = all_orders_df.merge(customers_df, on='customer_id', how='left').merge(products_df, on='product_id', how='left')\n",
        "\n",
        "# Export data to CSV\n",
        "all_data.to_csv('dashboard/main_data.csv', index=False)"
      ]
    },
    {
      "cell_type": "markdown",
      "metadata": {
        "id": "9y4VUsmcYNZ5"
      },
      "source": [
        "## Analisis Lanjutan (Opsional)"
      ]
    },
    {
      "cell_type": "code",
      "execution_count": 51,
      "metadata": {},
      "outputs": [
        {
          "name": "stdout",
          "output_type": "stream",
          "text": [
            "Tanggal referensi: 2018-08-29 15:00:37\n"
          ]
        }
      ],
      "source": [
        "# Konversi tanggal transaksi ke datetime\n",
        "all_orders_df['order_purchase_timestamp'] = pd.to_datetime(all_orders_df['order_purchase_timestamp'])\n",
        "\n",
        "# Tentukan tanggal referensi (misalnya, hari terakhir transaksi)\n",
        "latest_date = all_orders_df['order_purchase_timestamp'].max()\n",
        "print(f\"Tanggal referensi: {latest_date}\")"
      ]
    },
    {
      "cell_type": "code",
      "execution_count": 52,
      "metadata": {},
      "outputs": [
        {
          "name": "stdout",
          "output_type": "stream",
          "text": [
            "                                  Recency  Frequency  Monetary\n",
            "customer_id                                                   \n",
            "00012a2ce6f8dcda20d059ce98491703      287          1    114.74\n",
            "000161a058600d5901f007fab4c27140      409          1     67.41\n",
            "0001fd6190edaaf884bcaf3d49edf079      547          1    195.42\n",
            "0002414f95344307404f0ace7a26f1d5      378          1    179.35\n",
            "000379cdec625522490c315e70c7a9fb      149          1    107.01\n"
          ]
        }
      ],
      "source": [
        "# Grouping berdasarkan customer_id\n",
        "rfm_df = all_orders_df.groupby('customer_id').agg({\n",
        "    'order_purchase_timestamp': lambda x: (latest_date - x.max()).days,  # Recency\n",
        "    'order_id': 'count',  # Frequency\n",
        "    'payment_value': 'sum'  # Monetary\n",
        "})\n",
        "\n",
        "# Ganti nama kolom agar lebih jelas\n",
        "rfm_df.rename(columns={\n",
        "    'order_purchase_timestamp': 'Recency',\n",
        "    'order_id': 'Frequency',\n",
        "    'payment_value': 'Monetary'\n",
        "}, inplace=True)\n",
        "\n",
        "# Lihat hasil\n",
        "print(rfm_df.head())\n"
      ]
    },
    {
      "cell_type": "code",
      "execution_count": 80,
      "metadata": {},
      "outputs": [
        {
          "data": {
            "application/vnd.microsoft.datawrangler.viewer.v0+json": {
              "columns": [
                {
                  "name": "index",
                  "rawType": "object",
                  "type": "string"
                },
                {
                  "name": "Recency",
                  "rawType": "float64",
                  "type": "float"
                },
                {
                  "name": "Frequency",
                  "rawType": "float64",
                  "type": "float"
                },
                {
                  "name": "Monetary",
                  "rawType": "float64",
                  "type": "float"
                }
              ],
              "conversionMethod": "pd.DataFrame",
              "ref": "b5ac4930-3e53-49d5-bb3f-aa6d83c0e94b",
              "rows": [
                [
                  "count",
                  "96460.0",
                  "96460.0",
                  "96460.0"
                ],
                [
                  "mean",
                  "239.0998444951275",
                  "1.1923906282396848",
                  "204.99061476259592"
                ],
                [
                  "std",
                  "152.82076884192352",
                  "0.7321031503602997",
                  "621.2928077708337"
                ],
                [
                  "min",
                  "0.0",
                  "1.0",
                  "9.59"
                ],
                [
                  "25%",
                  "115.0",
                  "1.0",
                  "62.6575"
                ],
                [
                  "50%",
                  "220.0",
                  "1.0",
                  "109.5"
                ],
                [
                  "75%",
                  "349.0",
                  "1.0",
                  "195.54"
                ],
                [
                  "max",
                  "695.0",
                  "63.0",
                  "109312.64"
                ]
              ],
              "shape": {
                "columns": 3,
                "rows": 8
              }
            },
            "text/html": [
              "<div>\n",
              "<style scoped>\n",
              "    .dataframe tbody tr th:only-of-type {\n",
              "        vertical-align: middle;\n",
              "    }\n",
              "\n",
              "    .dataframe tbody tr th {\n",
              "        vertical-align: top;\n",
              "    }\n",
              "\n",
              "    .dataframe thead th {\n",
              "        text-align: right;\n",
              "    }\n",
              "</style>\n",
              "<table border=\"1\" class=\"dataframe\">\n",
              "  <thead>\n",
              "    <tr style=\"text-align: right;\">\n",
              "      <th></th>\n",
              "      <th>Recency</th>\n",
              "      <th>Frequency</th>\n",
              "      <th>Monetary</th>\n",
              "    </tr>\n",
              "  </thead>\n",
              "  <tbody>\n",
              "    <tr>\n",
              "      <th>count</th>\n",
              "      <td>96460.000000</td>\n",
              "      <td>96460.000000</td>\n",
              "      <td>96460.000000</td>\n",
              "    </tr>\n",
              "    <tr>\n",
              "      <th>mean</th>\n",
              "      <td>239.099844</td>\n",
              "      <td>1.192391</td>\n",
              "      <td>204.990615</td>\n",
              "    </tr>\n",
              "    <tr>\n",
              "      <th>std</th>\n",
              "      <td>152.820769</td>\n",
              "      <td>0.732103</td>\n",
              "      <td>621.292808</td>\n",
              "    </tr>\n",
              "    <tr>\n",
              "      <th>min</th>\n",
              "      <td>0.000000</td>\n",
              "      <td>1.000000</td>\n",
              "      <td>9.590000</td>\n",
              "    </tr>\n",
              "    <tr>\n",
              "      <th>25%</th>\n",
              "      <td>115.000000</td>\n",
              "      <td>1.000000</td>\n",
              "      <td>62.657500</td>\n",
              "    </tr>\n",
              "    <tr>\n",
              "      <th>50%</th>\n",
              "      <td>220.000000</td>\n",
              "      <td>1.000000</td>\n",
              "      <td>109.500000</td>\n",
              "    </tr>\n",
              "    <tr>\n",
              "      <th>75%</th>\n",
              "      <td>349.000000</td>\n",
              "      <td>1.000000</td>\n",
              "      <td>195.540000</td>\n",
              "    </tr>\n",
              "    <tr>\n",
              "      <th>max</th>\n",
              "      <td>695.000000</td>\n",
              "      <td>63.000000</td>\n",
              "      <td>109312.640000</td>\n",
              "    </tr>\n",
              "  </tbody>\n",
              "</table>\n",
              "</div>"
            ],
            "text/plain": [
              "            Recency     Frequency       Monetary\n",
              "count  96460.000000  96460.000000   96460.000000\n",
              "mean     239.099844      1.192391     204.990615\n",
              "std      152.820769      0.732103     621.292808\n",
              "min        0.000000      1.000000       9.590000\n",
              "25%      115.000000      1.000000      62.657500\n",
              "50%      220.000000      1.000000     109.500000\n",
              "75%      349.000000      1.000000     195.540000\n",
              "max      695.000000     63.000000  109312.640000"
            ]
          },
          "execution_count": 80,
          "metadata": {},
          "output_type": "execute_result"
        }
      ],
      "source": [
        "rfm_df.describe()"
      ]
    },
    {
      "cell_type": "code",
      "execution_count": null,
      "metadata": {},
      "outputs": [
        {
          "data": {
            "image/png": "[encoded data removed]",
            "text/plain": [
              "<Figure size 1800x500 with 3 Axes>"
            ]
          },
          "metadata": {},
          "output_type": "display_data"
        }
      ],
      "source": [
        "# Visualisasi distribusi Recency, Frequency, dan Monetary\n",
        "fig, axes = plt.subplots(1, 3, figsize=(18, 5))\n",
        "\n",
        "sns.histplot(rfm_df['Recency'], bins=50, kde=True, ax=axes[0])\n",
        "axes[0].set_title('Distribusi Recency')\n",
        "\n",
        "sns.histplot(rfm_df['Frequency'], bins=50, kde=True, ax=axes[1])\n",
        "axes[1].set_title('Distribusi Frequency')\n",
        "\n",
        "sns.histplot(rfm_df['Monetary'], bins=50, kde=True, ax=axes[2])\n",
        "axes[2].set_title('Distribusi Monetary')\n",
        "\n",
        "plt.show()\n"
      ]
    },
    {
      "cell_type": "code",
      "execution_count": null,
      "metadata": {},
      "outputs": [
        {
          "data": {
            "application/vnd.microsoft.datawrangler.viewer.v0+json": {
              "columns": [
                {
                  "name": "customer_id",
                  "rawType": "object",
                  "type": "string"
                },
                {
                  "name": "Recency",
                  "rawType": "int64",
                  "type": "integer"
                },
                {
                  "name": "Frequency",
                  "rawType": "int64",
                  "type": "integer"
                },
                {
                  "name": "Monetary",
                  "rawType": "float64",
                  "type": "float"
                },
                {
                  "name": "R_Score",
                  "rawType": "category",
                  "type": "unknown"
                },
                {
                  "name": "F_Score",
                  "rawType": "category",
                  "type": "unknown"
                },
                {
                  "name": "M_Score",
                  "rawType": "category",
                  "type": "unknown"
                },
                {
                  "name": "RFM_Score",
                  "rawType": "object",
                  "type": "string"
                },
                {
                  "name": "Segment",
                  "rawType": "object",
                  "type": "string"
                }
              ],
              "conversionMethod": "pd.DataFrame",
              "ref": "74c9874e-55a2-4202-8926-fc1338495947",
              "rows": [
                [
                  "00012a2ce6f8dcda20d059ce98491703",
                  "287",
                  "1",
                  "114.74",
                  "2",
                  "1",
                  "2",
                  "212",
                  "Hibernating"
                ],
                [
                  "000161a058600d5901f007fab4c27140",
                  "409",
                  "1",
                  "67.41",
                  "1",
                  "1",
                  "1",
                  "111",
                  "Hibernating"
                ],
                [
                  "0001fd6190edaaf884bcaf3d49edf079",
                  "547",
                  "1",
                  "195.42",
                  "1",
                  "1",
                  "3",
                  "113",
                  "Hibernating"
                ],
                [
                  "0002414f95344307404f0ace7a26f1d5",
                  "378",
                  "1",
                  "179.35",
                  "1",
                  "1",
                  "3",
                  "113",
                  "Hibernating"
                ],
                [
                  "000379cdec625522490c315e70c7a9fb",
                  "149",
                  "1",
                  "107.01",
                  "3",
                  "1",
                  "2",
                  "312",
                  "Promising"
                ]
              ],
              "shape": {
                "columns": 8,
                "rows": 5
              }
            },
            "text/html": [
              "<div>\n",
              "<style scoped>\n",
              "    .dataframe tbody tr th:only-of-type {\n",
              "        vertical-align: middle;\n",
              "    }\n",
              "\n",
              "    .dataframe tbody tr th {\n",
              "        vertical-align: top;\n",
              "    }\n",
              "\n",
              "    .dataframe thead th {\n",
              "        text-align: right;\n",
              "    }\n",
              "</style>\n",
              "<table border=\"1\" class=\"dataframe\">\n",
              "  <thead>\n",
              "    <tr style=\"text-align: right;\">\n",
              "      <th></th>\n",
              "      <th>Recency</th>\n",
              "      <th>Frequency</th>\n",
              "      <th>Monetary</th>\n",
              "      <th>R_Score</th>\n",
              "      <th>F_Score</th>\n",
              "      <th>M_Score</th>\n",
              "      <th>RFM_Score</th>\n",
              "      <th>Segment</th>\n",
              "    </tr>\n",
              "    <tr>\n",
              "      <th>customer_id</th>\n",
              "      <th></th>\n",
              "      <th></th>\n",
              "      <th></th>\n",
              "      <th></th>\n",
              "      <th></th>\n",
              "      <th></th>\n",
              "      <th></th>\n",
              "      <th></th>\n",
              "    </tr>\n",
              "  </thead>\n",
              "  <tbody>\n",
              "    <tr>\n",
              "      <th>00012a2ce6f8dcda20d059ce98491703</th>\n",
              "      <td>287</td>\n",
              "      <td>1</td>\n",
              "      <td>114.74</td>\n",
              "      <td>2</td>\n",
              "      <td>1</td>\n",
              "      <td>2</td>\n",
              "      <td>212</td>\n",
              "      <td>Hibernating</td>\n",
              "    </tr>\n",
              "    <tr>\n",
              "      <th>000161a058600d5901f007fab4c27140</th>\n",
              "      <td>409</td>\n",
              "      <td>1</td>\n",
              "      <td>67.41</td>\n",
              "      <td>1</td>\n",
              "      <td>1</td>\n",
              "      <td>1</td>\n",
              "      <td>111</td>\n",
              "      <td>Hibernating</td>\n",
              "    </tr>\n",
              "    <tr>\n",
              "      <th>0001fd6190edaaf884bcaf3d49edf079</th>\n",
              "      <td>547</td>\n",
              "      <td>1</td>\n",
              "      <td>195.42</td>\n",
              "      <td>1</td>\n",
              "      <td>1</td>\n",
              "      <td>3</td>\n",
              "      <td>113</td>\n",
              "      <td>Hibernating</td>\n",
              "    </tr>\n",
              "    <tr>\n",
              "      <th>0002414f95344307404f0ace7a26f1d5</th>\n",
              "      <td>378</td>\n",
              "      <td>1</td>\n",
              "      <td>179.35</td>\n",
              "      <td>1</td>\n",
              "      <td>1</td>\n",
              "      <td>3</td>\n",
              "      <td>113</td>\n",
              "      <td>Hibernating</td>\n",
              "    </tr>\n",
              "    <tr>\n",
              "      <th>000379cdec625522490c315e70c7a9fb</th>\n",
              "      <td>149</td>\n",
              "      <td>1</td>\n",
              "      <td>107.01</td>\n",
              "      <td>3</td>\n",
              "      <td>1</td>\n",
              "      <td>2</td>\n",
              "      <td>312</td>\n",
              "      <td>Promising</td>\n",
              "    </tr>\n",
              "  </tbody>\n",
              "</table>\n",
              "</div>"
            ],
            "text/plain": [
              "                                  Recency  Frequency  Monetary R_Score  \\\n",
              "customer_id                                                              \n",
              "00012a2ce6f8dcda20d059ce98491703      287          1    114.74       2   \n",
              "000161a058600d5901f007fab4c27140      409          1     67.41       1   \n",
              "0001fd6190edaaf884bcaf3d49edf079      547          1    195.42       1   \n",
              "0002414f95344307404f0ace7a26f1d5      378          1    179.35       1   \n",
              "000379cdec625522490c315e70c7a9fb      149          1    107.01       3   \n",
              "\n",
              "                                 F_Score M_Score RFM_Score      Segment  \n",
              "customer_id                                                              \n",
              "00012a2ce6f8dcda20d059ce98491703       1       2       212  Hibernating  \n",
              "000161a058600d5901f007fab4c27140       1       1       111  Hibernating  \n",
              "0001fd6190edaaf884bcaf3d49edf079       1       3       113  Hibernating  \n",
              "0002414f95344307404f0ace7a26f1d5       1       3       113  Hibernating  \n",
              "000379cdec625522490c315e70c7a9fb       1       2       312    Promising  "
            ]
          },
          "execution_count": 75,
          "metadata": {},
          "output_type": "execute_result"
        }
      ],
      "source": [
        "# Mengatasi jumlah nilai unik yang sedikit → rank(method=\"first\") memastikan data tetap terurut unik.\n",
        "rfm_df['R_Score'] = pd.cut(rfm_df['Recency'].rank(method=\"first\"), bins=3, labels=[3, 2, 1])\n",
        "rfm_df['F_Score'] = pd.cut(rfm_df['Frequency'].rank(method=\"first\"), bins=3, labels=[1, 2, 3])\n",
        "rfm_df['M_Score'] = pd.cut(rfm_df['Monetary'].rank(method=\"first\"), bins=3, labels=[1, 2, 3])\n",
        "\n",
        "# Gabungkan skor menjadi RFM Score\n",
        "rfm_df['RFM_Score'] = (\n",
        "    rfm_df['R_Score'].astype(str) + \n",
        "    rfm_df['F_Score'].astype(str) + \n",
        "    rfm_df['M_Score'].astype(str)\n",
        ")\n",
        "\n",
        "rfm_df.head()\n"
      ]
    },
    {
      "cell_type": "code",
      "execution_count": null,
      "metadata": {},
      "outputs": [
        {
          "name": "stdout",
          "output_type": "stream",
          "text": [
            "Segment\n",
            "Hibernating                    34953\n",
            "Customers Needing Attention    29353\n",
            "Promising                      27258\n",
            "Loyal Customers                 4896\n",
            "Name: count, dtype: int64\n"
          ]
        }
      ],
      "source": [
        "def segment_customer(row):\n",
        "    r, f, m = int(row['R_Score']), int(row['F_Score']), int(row['M_Score'])\n",
        "\n",
        "    if r == 3 and f == 3 and m == 3:\n",
        "        return 'Loyal Customers'\n",
        "    elif r == 3 and (f < 3 or m < 3):\n",
        "        return 'Promising'\n",
        "    elif r < 3 and f >= 2 and m >= 2:\n",
        "        return 'Customers Needing Attention'\n",
        "    else:\n",
        "        return 'Hibernating'\n",
        "\n",
        "# Buat kolom baru untuk segmentasi\n",
        "rfm_df['Segment'] = rfm_df.apply(segment_customer, axis=1)\n",
        "\n",
        "# Lihat hasil\n",
        "print(rfm_df['Segment'].value_counts())\n"
      ]
    },
    {
      "cell_type": "code",
      "execution_count": null,
      "metadata": {},
      "outputs": [
        {
          "name": "stderr",
          "output_type": "stream",
          "text": [
            "C:\\Users\\mufid\\AppData\\Local\\Temp\\ipykernel_30204\\1296900333.py:2: FutureWarning: \n",
            "\n",
            "Passing `palette` without assigning `hue` is deprecated and will be removed in v0.14.0. Assign the `x` variable to `hue` and set `legend=False` for the same effect.\n",
            "\n",
            "  sns.countplot(data=rfm_df, x='Segment', order=rfm_df['Segment'].value_counts().index, palette='coolwarm')\n"
          ]
        },
        {
          "data": {
            "image/png": "[encoded data removed]",
            "text/plain": [
              "<Figure size 1000x500 with 1 Axes>"
            ]
          },
          "metadata": {},
          "output_type": "display_data"
        }
      ],
      "source": [
        "# Visualisasi distribusi customer segments\n",
        "plt.figure(figsize=(10,5))\n",
        "sns.countplot(data=rfm_df, x='Segment', order=rfm_df['Segment'].value_counts().index, palette='coolwarm')\n",
        "plt.xticks(rotation=45)\n",
        "plt.title('Distribusi Customer Segments')\n",
        "plt.show()\n"
      ]
    },
    {
      "cell_type": "markdown",
      "metadata": {},
      "source": [
        "**Insight:**\n",
        "\n",
        "> Berdasarkan analisis Recency, Frequency, dan Monetary (RFM), transaksi terakhir tercatat pada 29 Agustus 2018 pukul 15:00:37. Rata-rata pelanggan hanya melakukan 1 kali transaksi, tetapi terdapat pelanggan yang bertransaksi hingga 63 kali. Dari sisi pengeluaran, mayoritas pelanggan memiliki pola belanja yang moderat, namun ada pelanggan dengan total pengeluaran tertinggi mencapai $109.312,64.\n",
        "\n",
        "> Hasil segmentasi RFM Analysis menunjukkan bahwa pelanggan terbagi ke dalam empat segmen utama:\n",
        "\n",
        "- Hibernating → 34.953 pelanggan\n",
        "- Customers Needing Attention → 29.353 pelanggan\n",
        "- Promising → 27.258 pelanggan\n",
        "- Loyal Customers → 4.896 pelanggan\n",
        "\n",
        "Penjelasan Segmen Pelanggan:\n",
        "\n",
        "🔵 Hibernating → Pelanggan dalam segmen ini memiliki recency rendah (transaksi terakhir sudah lama), frequency rendah (jarang bertransaksi), dan monetary rendah (pengeluaran kecil). Mereka berisiko churn, sehingga diperlukan strategi re-engagement seperti diskon khusus atau kampanye email marketing.\n",
        "\n",
        "🟠 Customers Needing Attention → Segmen ini mencakup pelanggan yang sebelumnya cukup aktif, tetapi dalam beberapa waktu terakhir tidak melakukan transaksi. Frekuensi dan total belanja mereka bervariasi, tetapi tingkat recency semakin menurun. Strategi retensi dapat dilakukan melalui pengingat transaksi, penawaran eksklusif, atau program loyalitas.\n",
        "\n",
        "🟡 Promising → Pelanggan dalam segmen ini masih memiliki keterlibatan yang cukup baik. Mereka mulai bertransaksi baru-baru ini, tetapi belum terlalu sering. Peluang konversi menjadi pelanggan loyal masih terbuka, sehingga dapat diberikan insentif pembelian kedua, program referral, atau promosi eksklusif.\n",
        "\n",
        "🟢 Loyal Customers → Segmen ini terdiri dari pelanggan terbaik dengan frequency dan monetary tinggi serta recency yang baik. Mereka sering bertransaksi dan berkontribusi besar terhadap pendapatan. Strategi utama adalah mempertahankan loyalitas mereka dengan penawaran VIP, early access ke produk baru, atau reward eksklusif.\n",
        "\n",
        "- Referensi: \n",
        ">https://youtu.be/5BgAfG4e1wY?si=oCjrzh-Xt_EVjt_E \n",
        "\n",
        ">https://www.kaggle.com/code/canaazizatulakbar/customer-segementation-recommendation-system#2.9.-Category-Translation-Dataset"
      ]
    },
    {
      "cell_type": "markdown",
      "metadata": {
        "id": "_WeHlCeX8DC2"
      },
      "source": [
        "## Conclusion"
      ]
    },
    {
      "cell_type": "markdown",
      "metadata": {
        "id": "ZTcyR48Y8DC2"
      },
      "source": [
        "- Behavior pelanggan dalam belanja online mengalami peningkatan signifikan dari tahun 2016 hingga 2018. Dominasi pembelian terjadi pada kategori kesehatan & kecantikan (health_beauty), hadiah & jam tangan (watches_gifts), serta perlengkapan rumah (bed_bath_table). Sebaliknya, kategori dengan penjualan terendah adalah fashion pakaian wanita (fashion_female_clothing). Selain itu, Credit Card menjadi metode pembayaran paling dominan.\n",
        "- Segmentasi pelanggan ini membantu dalam menyusun strategi pemasaran yang lebih efektif, sehingga pendekatan kepada setiap kelompok pelanggan dapat disesuaikan untuk meningkatkan retensi dan pertumbuhan bisnis."
      ]
    }
  ],
  "metadata": {
    "colab": {
      "provenance": []
    },
    "kernelspec": {
      "display_name": "Python 3",
      "language": "python",
      "name": "python3"
    },
    "language_info": {
      "codemirror_mode": {
        "name": "ipython",
        "version": 3
      },
      "file_extension": ".py",
      "mimetype": "text/x-python",
      "name": "python",
      "nbconvert_exporter": "python",
      "pygments_lexer": "ipython3",
      "version": "3.12.9"
    },
    "orig_nbformat": 4
  },
  "nbformat": 4,
  "nbformat_minor": 0
}
